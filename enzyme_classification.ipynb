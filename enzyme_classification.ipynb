{
 "cells": [
  {
   "cell_type": "markdown",
   "metadata": {},
   "source": [
    "### Goal of this research:\n",
    "### Enzymes are a type of protein. Based on the dataset, how well is the performance on KNN, SVM and Decision Tree machine learning algorithms for predicting enzymes classification names using only the amino acid sequence feature? \n",
    "\n",
    "### How well can the performance be improved adding features like temperature and pH(Hydrogen Ion Concentration) for the prediction?\n",
    "\n",
    "### The target for our classifers are the 6 major types of enzymes: TRANSFERASE, OXIDOREDUCTASE, HYDROLASE, LYASE, ISOMERASE and, LIGASE.\n"
   ]
  },
  {
   "cell_type": "markdown",
   "metadata": {},
   "source": [
    "### Lets Import necessary libraries"
   ]
  },
  {
   "cell_type": "code",
   "execution_count": 1,
   "metadata": {},
   "outputs": [],
   "source": [
    "import os\n",
    "import glob as gl\n",
    "import numpy as np\n",
    "import pandas as pd\n",
    "import matplotlib.pyplot as plt\n",
    "import seaborn as sns\n",
    "sns.set()\n",
    "from sklearn.tree import DecisionTreeClassifier\n",
    "from sklearn.model_selection import train_test_split\n",
    "from sklearn.metrics import accuracy_score\n",
    "from sklearn.preprocessing import StandardScaler\n",
    "from sklearn.preprocessing import LabelEncoder\n",
    "from sklearn.metrics import confusion_matrix\n",
    "from sklearn.metrics import classification_report\n",
    "from sklearn.model_selection import cross_val_score\n",
    "from sklearn.neighbors import KNeighborsClassifier\n",
    "from sklearn.svm import SVC \n",
    "from sklearn.metrics import precision_recall_fscore_support\n",
    "from imblearn.over_sampling import SMOTE\n"
   ]
  },
  {
   "cell_type": "markdown",
   "metadata": {},
   "source": [
    "Lets created a list with the path and name of the .csv files to concatenate"
   ]
  },
  {
   "cell_type": "code",
   "execution_count": 2,
   "metadata": {},
   "outputs": [],
   "source": [
    "path = r'C:\\..\\Projects\\ml-enzyme-classification\\proteins'\n",
    "rcsb_pdb_custom_report_enzymes= gl.glob(os.path.join(path, \"*.csv\"))\n",
    "\n"
   ]
  },
  {
   "cell_type": "markdown",
   "metadata": {},
   "source": [
    "Lets created a dataframe from each .csv file and then concatenate them in one final df"
   ]
  },
  {
   "cell_type": "code",
   "execution_count": 3,
   "metadata": {},
   "outputs": [],
   "source": [
    "df_nfiles= (pd.read_csv(f) for f in rcsb_pdb_custom_report_enzymes)\n",
    "data_pdb = pd.concat(df_nfiles, ignore_index=True)"
   ]
  },
  {
   "cell_type": "markdown",
   "metadata": {},
   "source": [
    "### Lets do initial exploration "
   ]
  },
  {
   "cell_type": "code",
   "execution_count": 4,
   "metadata": {},
   "outputs": [
    {
     "data": {
      "text/plain": [
       "(332556, 22)"
      ]
     },
     "execution_count": 4,
     "metadata": {},
     "output_type": "execute_result"
    }
   ],
   "source": [
    "data_pdb.shape"
   ]
  },
  {
   "cell_type": "code",
   "execution_count": 5,
   "metadata": {
    "scrolled": true
   },
   "outputs": [
    {
     "data": {
      "text/html": [
       "<div>\n",
       "<style scoped>\n",
       "    .dataframe tbody tr th:only-of-type {\n",
       "        vertical-align: middle;\n",
       "    }\n",
       "\n",
       "    .dataframe tbody tr th {\n",
       "        vertical-align: top;\n",
       "    }\n",
       "\n",
       "    .dataframe thead th {\n",
       "        text-align: right;\n",
       "    }\n",
       "</style>\n",
       "<table border=\"1\" class=\"dataframe\">\n",
       "  <thead>\n",
       "    <tr style=\"text-align: right;\">\n",
       "      <th></th>\n",
       "      <th>Entry ID</th>\n",
       "      <th>Experimental Method</th>\n",
       "      <th>Matthews Coefficient</th>\n",
       "      <th>Percent Solvent Content</th>\n",
       "      <th>Crystallization Method</th>\n",
       "      <th>pH</th>\n",
       "      <th>Temp (K)</th>\n",
       "      <th>PDB ID</th>\n",
       "      <th>Total Number of Polymer Residues per Deposited Model</th>\n",
       "      <th>Molecular Weight per Deposited Model</th>\n",
       "      <th>Resolution (Å)</th>\n",
       "      <th>Entry Polymer Types</th>\n",
       "    </tr>\n",
       "  </thead>\n",
       "  <tbody>\n",
       "    <tr>\n",
       "      <th>0</th>\n",
       "      <td>4JS2</td>\n",
       "      <td>X-RAY DIFFRACTION</td>\n",
       "      <td>2.58</td>\n",
       "      <td>52.33</td>\n",
       "      <td>VAPOR DIFFUSION, SITTING DROP</td>\n",
       "      <td>7.0</td>\n",
       "      <td>294.0</td>\n",
       "      <td>4JS2</td>\n",
       "      <td>318.0</td>\n",
       "      <td>38.93</td>\n",
       "      <td>2.3</td>\n",
       "      <td>Protein/Oligosaccharide</td>\n",
       "    </tr>\n",
       "    <tr>\n",
       "      <th>1</th>\n",
       "      <td>4K3Q</td>\n",
       "      <td>X-RAY DIFFRACTION</td>\n",
       "      <td>2.43</td>\n",
       "      <td>49.45</td>\n",
       "      <td>VAPOR DIFFUSION, HANGING DROP</td>\n",
       "      <td>6.5</td>\n",
       "      <td>285.0</td>\n",
       "      <td>4K3Q</td>\n",
       "      <td>738.0</td>\n",
       "      <td>83.44</td>\n",
       "      <td>1.85</td>\n",
       "      <td>Protein (only)</td>\n",
       "    </tr>\n",
       "    <tr>\n",
       "      <th>2</th>\n",
       "      <td>NaN</td>\n",
       "      <td>NaN</td>\n",
       "      <td>NaN</td>\n",
       "      <td>NaN</td>\n",
       "      <td>NaN</td>\n",
       "      <td>NaN</td>\n",
       "      <td>NaN</td>\n",
       "      <td>NaN</td>\n",
       "      <td>NaN</td>\n",
       "      <td>NaN</td>\n",
       "      <td>NaN</td>\n",
       "      <td>NaN</td>\n",
       "    </tr>\n",
       "    <tr>\n",
       "      <th>3</th>\n",
       "      <td>4K42</td>\n",
       "      <td>X-RAY DIFFRACTION</td>\n",
       "      <td>2.28</td>\n",
       "      <td>46.10</td>\n",
       "      <td>VAPOR DIFFUSION, SITTING DROP</td>\n",
       "      <td>5.5</td>\n",
       "      <td>298.0</td>\n",
       "      <td>4K42</td>\n",
       "      <td>1500.0</td>\n",
       "      <td>171.63</td>\n",
       "      <td>2.9</td>\n",
       "      <td>Protein (only)</td>\n",
       "    </tr>\n",
       "    <tr>\n",
       "      <th>4</th>\n",
       "      <td>4JRR</td>\n",
       "      <td>X-RAY DIFFRACTION</td>\n",
       "      <td>2.30</td>\n",
       "      <td>46.54</td>\n",
       "      <td>VAPOR DIFFUSION, HANGING DROP</td>\n",
       "      <td>8.0</td>\n",
       "      <td>289.0</td>\n",
       "      <td>4JRR</td>\n",
       "      <td>567.0</td>\n",
       "      <td>65.05</td>\n",
       "      <td>1.88</td>\n",
       "      <td>Protein (only)</td>\n",
       "    </tr>\n",
       "  </tbody>\n",
       "</table>\n",
       "</div>"
      ],
      "text/plain": [
       "  Entry ID Experimental Method  Matthews Coefficient  Percent Solvent Content  \\\n",
       "0     4JS2   X-RAY DIFFRACTION                  2.58                    52.33   \n",
       "1     4K3Q   X-RAY DIFFRACTION                  2.43                    49.45   \n",
       "2      NaN                 NaN                   NaN                      NaN   \n",
       "3     4K42   X-RAY DIFFRACTION                  2.28                    46.10   \n",
       "4     4JRR   X-RAY DIFFRACTION                  2.30                    46.54   \n",
       "\n",
       "          Crystallization Method   pH  Temp (K) PDB ID  \\\n",
       "0  VAPOR DIFFUSION, SITTING DROP  7.0     294.0   4JS2   \n",
       "1  VAPOR DIFFUSION, HANGING DROP  6.5     285.0   4K3Q   \n",
       "2                            NaN  NaN       NaN    NaN   \n",
       "3  VAPOR DIFFUSION, SITTING DROP  5.5     298.0   4K42   \n",
       "4  VAPOR DIFFUSION, HANGING DROP  8.0     289.0   4JRR   \n",
       "\n",
       "   Total Number of Polymer Residues per Deposited Model  \\\n",
       "0                                              318.0      \n",
       "1                                              738.0      \n",
       "2                                                NaN      \n",
       "3                                             1500.0      \n",
       "4                                              567.0      \n",
       "\n",
       "   Molecular Weight per Deposited Model Resolution (Å)  \\\n",
       "0                                 38.93            2.3   \n",
       "1                                 83.44           1.85   \n",
       "2                                   NaN            NaN   \n",
       "3                                171.63            2.9   \n",
       "4                                 65.05           1.88   \n",
       "\n",
       "       Entry Polymer Types  \n",
       "0  Protein/Oligosaccharide  \n",
       "1           Protein (only)  \n",
       "2                      NaN  \n",
       "3           Protein (only)  \n",
       "4           Protein (only)  "
      ]
     },
     "execution_count": 5,
     "metadata": {},
     "output_type": "execute_result"
    }
   ],
   "source": [
    "data_pdb.iloc[:,0:12].head()"
   ]
  },
  {
   "cell_type": "code",
   "execution_count": 6,
   "metadata": {
    "scrolled": true
   },
   "outputs": [
    {
     "data": {
      "text/html": [
       "<div>\n",
       "<style scoped>\n",
       "    .dataframe tbody tr th:only-of-type {\n",
       "        vertical-align: middle;\n",
       "    }\n",
       "\n",
       "    .dataframe tbody tr th {\n",
       "        vertical-align: top;\n",
       "    }\n",
       "\n",
       "    .dataframe thead th {\n",
       "        text-align: right;\n",
       "    }\n",
       "</style>\n",
       "<table border=\"1\" class=\"dataframe\">\n",
       "  <thead>\n",
       "    <tr style=\"text-align: right;\">\n",
       "      <th></th>\n",
       "      <th>Publication Year</th>\n",
       "      <th>Stucture Keywords</th>\n",
       "      <th>Sequence</th>\n",
       "      <th>Entity Polymer Type</th>\n",
       "      <th>Chain Length</th>\n",
       "      <th>Source Organism</th>\n",
       "      <th>Entity ID</th>\n",
       "      <th>Entry Id (Polymer Entity Identifiers)</th>\n",
       "      <th>Database Name</th>\n",
       "      <th>Unnamed: 21</th>\n",
       "    </tr>\n",
       "  </thead>\n",
       "  <tbody>\n",
       "    <tr>\n",
       "      <th>0</th>\n",
       "      <td>2013.0</td>\n",
       "      <td>TRANSFERASE</td>\n",
       "      <td>PEASFQVWNKDSSSKNLIPRLQKIWKNYLSMNKYKVSYKGPGPGIK...</td>\n",
       "      <td>Protein</td>\n",
       "      <td>318.0</td>\n",
       "      <td>Homo sapiens</td>\n",
       "      <td>1.0</td>\n",
       "      <td>4JS2</td>\n",
       "      <td>UniProt</td>\n",
       "      <td>NaN</td>\n",
       "    </tr>\n",
       "    <tr>\n",
       "      <th>1</th>\n",
       "      <td>2013.0</td>\n",
       "      <td>TRANSFERASE</td>\n",
       "      <td>MKFTVEREHLLKPLQQVSGPLGGRPTLPILGNLLLQVADGTLSLTG...</td>\n",
       "      <td>Protein</td>\n",
       "      <td>366.0</td>\n",
       "      <td>Escherichia coli K-12</td>\n",
       "      <td>1.0</td>\n",
       "      <td>4K3Q</td>\n",
       "      <td>UniProt</td>\n",
       "      <td>NaN</td>\n",
       "    </tr>\n",
       "    <tr>\n",
       "      <th>2</th>\n",
       "      <td>NaN</td>\n",
       "      <td>NaN</td>\n",
       "      <td>XQLDAF</td>\n",
       "      <td>Protein</td>\n",
       "      <td>6.0</td>\n",
       "      <td>NaN</td>\n",
       "      <td>2.0</td>\n",
       "      <td>4K3Q</td>\n",
       "      <td>NaN</td>\n",
       "      <td>NaN</td>\n",
       "    </tr>\n",
       "    <tr>\n",
       "      <th>3</th>\n",
       "      <td>2014.0</td>\n",
       "      <td>CONTRACTILE PROTEIN</td>\n",
       "      <td>DEDETTALVCDNGSGLVKAGFAGDDAPRAVFPSIVGRPRHQGVMVG...</td>\n",
       "      <td>Protein</td>\n",
       "      <td>375.0</td>\n",
       "      <td>Oryctolagus cuniculus</td>\n",
       "      <td>1.0</td>\n",
       "      <td>4K42</td>\n",
       "      <td>UniProt</td>\n",
       "      <td>NaN</td>\n",
       "    </tr>\n",
       "    <tr>\n",
       "      <th>4</th>\n",
       "      <td>NaN</td>\n",
       "      <td>OXIDOREDUCTASE</td>\n",
       "      <td>GSHMQFIEGKDYQTVASAQLSTNKDKTPLITEFFSYGCPWCYKIDA...</td>\n",
       "      <td>Protein</td>\n",
       "      <td>189.0</td>\n",
       "      <td>Legionella pneumophila subsp. pneumophila str....</td>\n",
       "      <td>1.0</td>\n",
       "      <td>4JRR</td>\n",
       "      <td>UniProt</td>\n",
       "      <td>NaN</td>\n",
       "    </tr>\n",
       "  </tbody>\n",
       "</table>\n",
       "</div>"
      ],
      "text/plain": [
       "   Publication Year    Stucture Keywords  \\\n",
       "0            2013.0          TRANSFERASE   \n",
       "1            2013.0          TRANSFERASE   \n",
       "2               NaN                  NaN   \n",
       "3            2014.0  CONTRACTILE PROTEIN   \n",
       "4               NaN       OXIDOREDUCTASE   \n",
       "\n",
       "                                            Sequence Entity Polymer Type  \\\n",
       "0  PEASFQVWNKDSSSKNLIPRLQKIWKNYLSMNKYKVSYKGPGPGIK...             Protein   \n",
       "1  MKFTVEREHLLKPLQQVSGPLGGRPTLPILGNLLLQVADGTLSLTG...             Protein   \n",
       "2                                             XQLDAF             Protein   \n",
       "3  DEDETTALVCDNGSGLVKAGFAGDDAPRAVFPSIVGRPRHQGVMVG...             Protein   \n",
       "4  GSHMQFIEGKDYQTVASAQLSTNKDKTPLITEFFSYGCPWCYKIDA...             Protein   \n",
       "\n",
       "   Chain Length                                    Source Organism  Entity ID  \\\n",
       "0         318.0                                       Homo sapiens        1.0   \n",
       "1         366.0                              Escherichia coli K-12        1.0   \n",
       "2           6.0                                                NaN        2.0   \n",
       "3         375.0                              Oryctolagus cuniculus        1.0   \n",
       "4         189.0  Legionella pneumophila subsp. pneumophila str....        1.0   \n",
       "\n",
       "  Entry Id (Polymer Entity Identifiers) Database Name  Unnamed: 21  \n",
       "0                                  4JS2       UniProt          NaN  \n",
       "1                                  4K3Q       UniProt          NaN  \n",
       "2                                  4K3Q           NaN          NaN  \n",
       "3                                  4K42       UniProt          NaN  \n",
       "4                                  4JRR       UniProt          NaN  "
      ]
     },
     "execution_count": 6,
     "metadata": {},
     "output_type": "execute_result"
    }
   ],
   "source": [
    "data_pdb.iloc[:,12:].head()"
   ]
  },
  {
   "cell_type": "markdown",
   "metadata": {},
   "source": [
    "### Lets check the columns"
   ]
  },
  {
   "cell_type": "code",
   "execution_count": 7,
   "metadata": {
    "scrolled": true
   },
   "outputs": [
    {
     "data": {
      "text/plain": [
       "Index(['Entry ID', 'Experimental Method', 'Matthews Coefficient',\n",
       "       'Percent Solvent Content', 'Crystallization Method', 'pH', 'Temp (K)',\n",
       "       'PDB ID', 'Total Number of Polymer Residues per Deposited Model',\n",
       "       'Molecular Weight per Deposited Model', 'Resolution (Å)',\n",
       "       'Entry Polymer Types', 'Publication Year', 'Stucture Keywords',\n",
       "       'Sequence', 'Entity Polymer Type', 'Chain Length', 'Source Organism',\n",
       "       'Entity ID', 'Entry Id (Polymer Entity Identifiers)', 'Database Name',\n",
       "       'Unnamed: 21'],\n",
       "      dtype='object')"
      ]
     },
     "execution_count": 7,
     "metadata": {},
     "output_type": "execute_result"
    }
   ],
   "source": [
    "data_pdb.columns"
   ]
  },
  {
   "cell_type": "markdown",
   "metadata": {},
   "source": [
    "## We see that the column 'Stucture Keywords' has the information about the protein classification name that we need for our research as a target for our classifier.\n",
    "Lets check how many types we have\n",
    "\n"
   ]
  },
  {
   "cell_type": "code",
   "execution_count": 8,
   "metadata": {},
   "outputs": [
    {
     "data": {
      "text/plain": [
       "4687"
      ]
     },
     "execution_count": 8,
     "metadata": {},
     "output_type": "execute_result"
    }
   ],
   "source": [
    "len ( data_pdb['Stucture Keywords'].unique())"
   ]
  },
  {
   "cell_type": "code",
   "execution_count": 9,
   "metadata": {},
   "outputs": [
    {
     "data": {
      "text/plain": [
       "0            TRANSFERASE\n",
       "1            TRANSFERASE\n",
       "2                    NaN\n",
       "3    CONTRACTILE PROTEIN\n",
       "4         OXIDOREDUCTASE\n",
       "5         OXIDOREDUCTASE\n",
       "6            TRANSFERASE\n",
       "7                    NaN\n",
       "8    CONTRACTILE PROTEIN\n",
       "9          HYDROLASE/DNA\n",
       "Name: Stucture Keywords, dtype: object"
      ]
     },
     "execution_count": 9,
     "metadata": {},
     "output_type": "execute_result"
    }
   ],
   "source": [
    "data_pdb['Stucture Keywords'][:10]"
   ]
  },
  {
   "cell_type": "markdown",
   "metadata": {},
   "source": [
    "## Lets start with our cleaning process"
   ]
  },
  {
   "cell_type": "markdown",
   "metadata": {},
   "source": [
    "Lets deleted the columm \"Unnamed:21\""
   ]
  },
  {
   "cell_type": "code",
   "execution_count": 10,
   "metadata": {},
   "outputs": [],
   "source": [
    "del data_pdb['Unnamed: 21']"
   ]
  },
  {
   "cell_type": "markdown",
   "metadata": {},
   "source": [
    "### Lets check for nulls"
   ]
  },
  {
   "cell_type": "code",
   "execution_count": 11,
   "metadata": {
    "scrolled": true
   },
   "outputs": [
    {
     "data": {
      "text/plain": [
       "Entry ID                                                157650\n",
       "Experimental Method                                     157481\n",
       "Matthews Coefficient                                    173360\n",
       "Percent Solvent Content                                 173334\n",
       "Crystallization Method                                  199511\n",
       "pH                                                      204745\n",
       "Temp (K)                                                199261\n",
       "PDB ID                                                  157650\n",
       "Total Number of Polymer Residues per Deposited Model    157650\n",
       "Molecular Weight per Deposited Model                    157650\n",
       "Resolution (Å)                                          165541\n",
       "Entry Polymer Types                                     157650\n",
       "Publication Year                                        186425\n",
       "Stucture Keywords                                       157653\n",
       "Sequence                                                  8231\n",
       "Entity Polymer Type                                       8231\n",
       "Chain Length                                              8231\n",
       "Source Organism                                          13087\n",
       "Entity ID                                                 8231\n",
       "Entry Id (Polymer Entity Identifiers)                     8231\n",
       "Database Name                                            48876\n",
       "dtype: int64"
      ]
     },
     "execution_count": 11,
     "metadata": {},
     "output_type": "execute_result"
    }
   ],
   "source": [
    "data_pdb.isnull().sum()"
   ]
  },
  {
   "cell_type": "code",
   "execution_count": 12,
   "metadata": {},
   "outputs": [
    {
     "data": {
      "text/plain": [
       "(79535, 21)"
      ]
     },
     "execution_count": 12,
     "metadata": {},
     "output_type": "execute_result"
    }
   ],
   "source": [
    "data_pdb[~data_pdb.isnull().any(axis=1)].shape"
   ]
  },
  {
   "cell_type": "markdown",
   "metadata": {},
   "source": [
    "We have nulls in all the columns , 79535 rows are clean with no NaNs.  We don't need many columns for our research, so lets first make a subset with the features that we need and then we'll drop the NaN values."
   ]
  },
  {
   "cell_type": "code",
   "execution_count": 13,
   "metadata": {},
   "outputs": [],
   "source": [
    "features=['Entry ID', 'pH','Temp (K)','Entity Polymer Type','Stucture Keywords','Sequence','Chain Length']"
   ]
  },
  {
   "cell_type": "code",
   "execution_count": 14,
   "metadata": {},
   "outputs": [],
   "source": [
    "data_pdb_search=data_pdb[features].copy()"
   ]
  },
  {
   "cell_type": "code",
   "execution_count": 15,
   "metadata": {},
   "outputs": [
    {
     "data": {
      "text/html": [
       "<div>\n",
       "<style scoped>\n",
       "    .dataframe tbody tr th:only-of-type {\n",
       "        vertical-align: middle;\n",
       "    }\n",
       "\n",
       "    .dataframe tbody tr th {\n",
       "        vertical-align: top;\n",
       "    }\n",
       "\n",
       "    .dataframe thead th {\n",
       "        text-align: right;\n",
       "    }\n",
       "</style>\n",
       "<table border=\"1\" class=\"dataframe\">\n",
       "  <thead>\n",
       "    <tr style=\"text-align: right;\">\n",
       "      <th></th>\n",
       "      <th>Entry ID</th>\n",
       "      <th>pH</th>\n",
       "      <th>Temp (K)</th>\n",
       "      <th>Entity Polymer Type</th>\n",
       "      <th>Stucture Keywords</th>\n",
       "      <th>Sequence</th>\n",
       "      <th>Chain Length</th>\n",
       "    </tr>\n",
       "  </thead>\n",
       "  <tbody>\n",
       "    <tr>\n",
       "      <th>0</th>\n",
       "      <td>4JS2</td>\n",
       "      <td>7.0</td>\n",
       "      <td>294.0</td>\n",
       "      <td>Protein</td>\n",
       "      <td>TRANSFERASE</td>\n",
       "      <td>PEASFQVWNKDSSSKNLIPRLQKIWKNYLSMNKYKVSYKGPGPGIK...</td>\n",
       "      <td>318.0</td>\n",
       "    </tr>\n",
       "    <tr>\n",
       "      <th>1</th>\n",
       "      <td>4K3Q</td>\n",
       "      <td>6.5</td>\n",
       "      <td>285.0</td>\n",
       "      <td>Protein</td>\n",
       "      <td>TRANSFERASE</td>\n",
       "      <td>MKFTVEREHLLKPLQQVSGPLGGRPTLPILGNLLLQVADGTLSLTG...</td>\n",
       "      <td>366.0</td>\n",
       "    </tr>\n",
       "    <tr>\n",
       "      <th>2</th>\n",
       "      <td>NaN</td>\n",
       "      <td>NaN</td>\n",
       "      <td>NaN</td>\n",
       "      <td>Protein</td>\n",
       "      <td>NaN</td>\n",
       "      <td>XQLDAF</td>\n",
       "      <td>6.0</td>\n",
       "    </tr>\n",
       "    <tr>\n",
       "      <th>3</th>\n",
       "      <td>4K42</td>\n",
       "      <td>5.5</td>\n",
       "      <td>298.0</td>\n",
       "      <td>Protein</td>\n",
       "      <td>CONTRACTILE PROTEIN</td>\n",
       "      <td>DEDETTALVCDNGSGLVKAGFAGDDAPRAVFPSIVGRPRHQGVMVG...</td>\n",
       "      <td>375.0</td>\n",
       "    </tr>\n",
       "    <tr>\n",
       "      <th>4</th>\n",
       "      <td>4JRR</td>\n",
       "      <td>8.0</td>\n",
       "      <td>289.0</td>\n",
       "      <td>Protein</td>\n",
       "      <td>OXIDOREDUCTASE</td>\n",
       "      <td>GSHMQFIEGKDYQTVASAQLSTNKDKTPLITEFFSYGCPWCYKIDA...</td>\n",
       "      <td>189.0</td>\n",
       "    </tr>\n",
       "  </tbody>\n",
       "</table>\n",
       "</div>"
      ],
      "text/plain": [
       "  Entry ID   pH  Temp (K) Entity Polymer Type    Stucture Keywords  \\\n",
       "0     4JS2  7.0     294.0             Protein          TRANSFERASE   \n",
       "1     4K3Q  6.5     285.0             Protein          TRANSFERASE   \n",
       "2      NaN  NaN       NaN             Protein                  NaN   \n",
       "3     4K42  5.5     298.0             Protein  CONTRACTILE PROTEIN   \n",
       "4     4JRR  8.0     289.0             Protein       OXIDOREDUCTASE   \n",
       "\n",
       "                                            Sequence  Chain Length  \n",
       "0  PEASFQVWNKDSSSKNLIPRLQKIWKNYLSMNKYKVSYKGPGPGIK...         318.0  \n",
       "1  MKFTVEREHLLKPLQQVSGPLGGRPTLPILGNLLLQVADGTLSLTG...         366.0  \n",
       "2                                             XQLDAF           6.0  \n",
       "3  DEDETTALVCDNGSGLVKAGFAGDDAPRAVFPSIVGRPRHQGVMVG...         375.0  \n",
       "4  GSHMQFIEGKDYQTVASAQLSTNKDKTPLITEFFSYGCPWCYKIDA...         189.0  "
      ]
     },
     "execution_count": 15,
     "metadata": {},
     "output_type": "execute_result"
    }
   ],
   "source": [
    "data_pdb_search.head()"
   ]
  },
  {
   "cell_type": "code",
   "execution_count": 16,
   "metadata": {},
   "outputs": [
    {
     "data": {
      "text/plain": [
       "Entry ID               157650\n",
       "pH                     204745\n",
       "Temp (K)               199261\n",
       "Entity Polymer Type      8231\n",
       "Stucture Keywords      157653\n",
       "Sequence                 8231\n",
       "Chain Length             8231\n",
       "dtype: int64"
      ]
     },
     "execution_count": 16,
     "metadata": {},
     "output_type": "execute_result"
    }
   ],
   "source": [
    "data_pdb_search.isnull().sum()"
   ]
  },
  {
   "cell_type": "code",
   "execution_count": 17,
   "metadata": {},
   "outputs": [
    {
     "data": {
      "text/plain": [
       "(110503, 21)"
      ]
     },
     "execution_count": 17,
     "metadata": {},
     "output_type": "execute_result"
    }
   ],
   "source": [
    "data_pdb[~data_pdb_search.isnull().any(axis=1)].shape"
   ]
  },
  {
   "cell_type": "markdown",
   "metadata": {},
   "source": [
    "In this subset we have 110503 clean rows, so lets clean the dataframe."
   ]
  },
  {
   "cell_type": "markdown",
   "metadata": {},
   "source": [
    "### Cleaning NaN Values"
   ]
  },
  {
   "cell_type": "code",
   "execution_count": 18,
   "metadata": {},
   "outputs": [
    {
     "name": "stdout",
     "output_type": "stream",
     "text": [
      "332556\n"
     ]
    }
   ],
   "source": [
    "before_rows = data_pdb.shape[0]\n",
    "print(before_rows)"
   ]
  },
  {
   "cell_type": "code",
   "execution_count": 19,
   "metadata": {},
   "outputs": [],
   "source": [
    "data_pdb_search=data_pdb_search.dropna()"
   ]
  },
  {
   "cell_type": "code",
   "execution_count": 20,
   "metadata": {},
   "outputs": [
    {
     "name": "stdout",
     "output_type": "stream",
     "text": [
      "110503\n"
     ]
    }
   ],
   "source": [
    "after_rows= data_pdb_search.shape[0]\n",
    "print(after_rows)"
   ]
  },
  {
   "cell_type": "code",
   "execution_count": 21,
   "metadata": {
    "scrolled": false
   },
   "outputs": [
    {
     "name": "stdout",
     "output_type": "stream",
     "text": [
      "Number of rows deleted with NaN Values = 222053\n"
     ]
    }
   ],
   "source": [
    "print(\"Number of rows deleted with NaN Values =\", (before_rows-after_rows))"
   ]
  },
  {
   "cell_type": "markdown",
   "metadata": {},
   "source": [
    "### Let's sure the columns 'Sequence','Entity Polimer Type' and 'Stucture Keywords' are string with uppercases.  "
   ]
  },
  {
   "cell_type": "code",
   "execution_count": 22,
   "metadata": {},
   "outputs": [],
   "source": [
    "data_pdb_search['Sequence']=data_pdb_search['Sequence'].str.upper()"
   ]
  },
  {
   "cell_type": "code",
   "execution_count": 23,
   "metadata": {},
   "outputs": [],
   "source": [
    "data_pdb_search['Stucture Keywords']=data_pdb_search['Stucture Keywords'].str.upper()"
   ]
  },
  {
   "cell_type": "code",
   "execution_count": 24,
   "metadata": {},
   "outputs": [],
   "source": [
    "data_pdb_search['Entyty Polymer Type']=data_pdb_search['Entity Polymer Type'].str.upper()"
   ]
  },
  {
   "cell_type": "code",
   "execution_count": 25,
   "metadata": {},
   "outputs": [
    {
     "data": {
      "text/plain": [
       "(110503, 8)"
      ]
     },
     "execution_count": 25,
     "metadata": {},
     "output_type": "execute_result"
    }
   ],
   "source": [
    "data_pdb_search.shape"
   ]
  },
  {
   "cell_type": "markdown",
   "metadata": {},
   "source": [
    "### Lets delete rows with duplicate values in columns :'Sequence' and 'Stucture Keywords'"
   ]
  },
  {
   "cell_type": "code",
   "execution_count": 26,
   "metadata": {},
   "outputs": [],
   "source": [
    "data_pdb_search.drop_duplicates(['Entry ID'],keep='first',inplace=True)"
   ]
  },
  {
   "cell_type": "code",
   "execution_count": 27,
   "metadata": {},
   "outputs": [
    {
     "data": {
      "text/plain": [
       "(92443, 8)"
      ]
     },
     "execution_count": 27,
     "metadata": {},
     "output_type": "execute_result"
    }
   ],
   "source": [
    "data_pdb_search.shape"
   ]
  },
  {
   "cell_type": "code",
   "execution_count": 28,
   "metadata": {},
   "outputs": [],
   "source": [
    "data_pdb_search.drop_duplicates(['Sequence'],keep='first',inplace=True)"
   ]
  },
  {
   "cell_type": "code",
   "execution_count": 29,
   "metadata": {},
   "outputs": [
    {
     "data": {
      "text/plain": [
       "(51624, 8)"
      ]
     },
     "execution_count": 29,
     "metadata": {},
     "output_type": "execute_result"
    }
   ],
   "source": [
    "data_pdb_search.shape"
   ]
  },
  {
   "cell_type": "code",
   "execution_count": 30,
   "metadata": {
    "scrolled": true
   },
   "outputs": [
    {
     "data": {
      "text/html": [
       "<div>\n",
       "<style scoped>\n",
       "    .dataframe tbody tr th:only-of-type {\n",
       "        vertical-align: middle;\n",
       "    }\n",
       "\n",
       "    .dataframe tbody tr th {\n",
       "        vertical-align: top;\n",
       "    }\n",
       "\n",
       "    .dataframe thead th {\n",
       "        text-align: right;\n",
       "    }\n",
       "</style>\n",
       "<table border=\"1\" class=\"dataframe\">\n",
       "  <thead>\n",
       "    <tr style=\"text-align: right;\">\n",
       "      <th></th>\n",
       "      <th>Entry ID</th>\n",
       "      <th>pH</th>\n",
       "      <th>Temp (K)</th>\n",
       "      <th>Entity Polymer Type</th>\n",
       "      <th>Stucture Keywords</th>\n",
       "      <th>Sequence</th>\n",
       "      <th>Chain Length</th>\n",
       "      <th>Entyty Polymer Type</th>\n",
       "    </tr>\n",
       "  </thead>\n",
       "  <tbody>\n",
       "    <tr>\n",
       "      <th>0</th>\n",
       "      <td>4JS2</td>\n",
       "      <td>7.0</td>\n",
       "      <td>294.0</td>\n",
       "      <td>Protein</td>\n",
       "      <td>TRANSFERASE</td>\n",
       "      <td>PEASFQVWNKDSSSKNLIPRLQKIWKNYLSMNKYKVSYKGPGPGIK...</td>\n",
       "      <td>318.0</td>\n",
       "      <td>PROTEIN</td>\n",
       "    </tr>\n",
       "    <tr>\n",
       "      <th>1</th>\n",
       "      <td>4K3Q</td>\n",
       "      <td>6.5</td>\n",
       "      <td>285.0</td>\n",
       "      <td>Protein</td>\n",
       "      <td>TRANSFERASE</td>\n",
       "      <td>MKFTVEREHLLKPLQQVSGPLGGRPTLPILGNLLLQVADGTLSLTG...</td>\n",
       "      <td>366.0</td>\n",
       "      <td>PROTEIN</td>\n",
       "    </tr>\n",
       "    <tr>\n",
       "      <th>3</th>\n",
       "      <td>4K42</td>\n",
       "      <td>5.5</td>\n",
       "      <td>298.0</td>\n",
       "      <td>Protein</td>\n",
       "      <td>CONTRACTILE PROTEIN</td>\n",
       "      <td>DEDETTALVCDNGSGLVKAGFAGDDAPRAVFPSIVGRPRHQGVMVG...</td>\n",
       "      <td>375.0</td>\n",
       "      <td>PROTEIN</td>\n",
       "    </tr>\n",
       "    <tr>\n",
       "      <th>4</th>\n",
       "      <td>4JRR</td>\n",
       "      <td>8.0</td>\n",
       "      <td>289.0</td>\n",
       "      <td>Protein</td>\n",
       "      <td>OXIDOREDUCTASE</td>\n",
       "      <td>GSHMQFIEGKDYQTVASAQLSTNKDKTPLITEFFSYGCPWCYKIDA...</td>\n",
       "      <td>189.0</td>\n",
       "      <td>PROTEIN</td>\n",
       "    </tr>\n",
       "    <tr>\n",
       "      <th>5</th>\n",
       "      <td>4JS3</td>\n",
       "      <td>4.8</td>\n",
       "      <td>293.0</td>\n",
       "      <td>Protein</td>\n",
       "      <td>OXIDOREDUCTASE</td>\n",
       "      <td>MGHHHHHHHHHHSSGHIDDDDKHMATGDERFYAEHLMPTLQGLLDP...</td>\n",
       "      <td>390.0</td>\n",
       "      <td>PROTEIN</td>\n",
       "    </tr>\n",
       "  </tbody>\n",
       "</table>\n",
       "</div>"
      ],
      "text/plain": [
       "  Entry ID   pH  Temp (K) Entity Polymer Type    Stucture Keywords  \\\n",
       "0     4JS2  7.0     294.0             Protein          TRANSFERASE   \n",
       "1     4K3Q  6.5     285.0             Protein          TRANSFERASE   \n",
       "3     4K42  5.5     298.0             Protein  CONTRACTILE PROTEIN   \n",
       "4     4JRR  8.0     289.0             Protein       OXIDOREDUCTASE   \n",
       "5     4JS3  4.8     293.0             Protein       OXIDOREDUCTASE   \n",
       "\n",
       "                                            Sequence  Chain Length  \\\n",
       "0  PEASFQVWNKDSSSKNLIPRLQKIWKNYLSMNKYKVSYKGPGPGIK...         318.0   \n",
       "1  MKFTVEREHLLKPLQQVSGPLGGRPTLPILGNLLLQVADGTLSLTG...         366.0   \n",
       "3  DEDETTALVCDNGSGLVKAGFAGDDAPRAVFPSIVGRPRHQGVMVG...         375.0   \n",
       "4  GSHMQFIEGKDYQTVASAQLSTNKDKTPLITEFFSYGCPWCYKIDA...         189.0   \n",
       "5  MGHHHHHHHHHHSSGHIDDDDKHMATGDERFYAEHLMPTLQGLLDP...         390.0   \n",
       "\n",
       "  Entyty Polymer Type  \n",
       "0             PROTEIN  \n",
       "1             PROTEIN  \n",
       "3             PROTEIN  \n",
       "4             PROTEIN  \n",
       "5             PROTEIN  "
      ]
     },
     "execution_count": 30,
     "metadata": {},
     "output_type": "execute_result"
    }
   ],
   "source": [
    "data_pdb_search.head()"
   ]
  },
  {
   "cell_type": "code",
   "execution_count": 31,
   "metadata": {},
   "outputs": [
    {
     "data": {
      "text/plain": [
       "HYDROLASE                                7892\n",
       "TRANSFERASE                              6027\n",
       "OXIDOREDUCTASE                           4773\n",
       "IMMUNE SYSTEM                            2071\n",
       "LYASE                                    1833\n",
       "TRANSPORT PROTEIN                        1359\n",
       "SIGNALING PROTEIN                        1316\n",
       "STRUCTURAL GENOMICS, UNKNOWN FUNCTION    1299\n",
       "TRANSCRIPTION                            1287\n",
       "ISOMERASE                                1151\n",
       "VIRAL PROTEIN                            1046\n",
       "LIGASE                                    956\n",
       "PROTEIN BINDING                           911\n",
       "MEMBRANE PROTEIN                          751\n",
       "HYDROLASE/HYDROLASE INHIBITOR             740\n",
       "UNKNOWN FUNCTION                          688\n",
       "CELL ADHESION                             672\n",
       "TRANSFERASE/TRANSFERASE INHIBITOR         630\n",
       "DNA BINDING PROTEIN                       616\n",
       "STRUCTURAL PROTEIN                        548\n",
       "Name: Stucture Keywords, dtype: int64"
      ]
     },
     "execution_count": 31,
     "metadata": {},
     "output_type": "execute_result"
    }
   ],
   "source": [
    "data_pdb_search['Stucture Keywords'].value_counts()[:20]"
   ]
  },
  {
   "cell_type": "markdown",
   "metadata": {},
   "source": [
    "### Lets filter the column \"Stucture Keywords\" to choose the proteins that are classified as a type of enzyme (TRANSFERASE, OXIDOREDUCTASE, HYDROLASE, LYASE, ISOMERASE, LIGASE)\n",
    "### Note: We are not going to classifed DNA/RNA ENZYMES."
   ]
  },
  {
   "cell_type": "code",
   "execution_count": 32,
   "metadata": {},
   "outputs": [],
   "source": [
    "enzyme_type=['TRANSFERASE', 'OXIDOREDUCTASE', 'HYDROLASE', 'LYASE', 'ISOMERASE', 'LIGASE',]"
   ]
  },
  {
   "cell_type": "code",
   "execution_count": 33,
   "metadata": {},
   "outputs": [
    {
     "data": {
      "text/plain": [
       "0          True\n",
       "1          True\n",
       "3         False\n",
       "4          True\n",
       "5          True\n",
       "          ...  \n",
       "332245    False\n",
       "332246    False\n",
       "332380     True\n",
       "332434    False\n",
       "332501     True\n",
       "Name: Stucture Keywords, Length: 51624, dtype: bool"
      ]
     },
     "execution_count": 33,
     "metadata": {},
     "output_type": "execute_result"
    }
   ],
   "source": [
    "data_pdb_search['Stucture Keywords'].isin(enzyme_type)"
   ]
  },
  {
   "cell_type": "code",
   "execution_count": 34,
   "metadata": {},
   "outputs": [],
   "source": [
    "data_pdb_search=data_pdb_search[data_pdb_search['Stucture Keywords'].isin(enzyme_type)].copy()"
   ]
  },
  {
   "cell_type": "code",
   "execution_count": 35,
   "metadata": {},
   "outputs": [
    {
     "data": {
      "text/html": [
       "<div>\n",
       "<style scoped>\n",
       "    .dataframe tbody tr th:only-of-type {\n",
       "        vertical-align: middle;\n",
       "    }\n",
       "\n",
       "    .dataframe tbody tr th {\n",
       "        vertical-align: top;\n",
       "    }\n",
       "\n",
       "    .dataframe thead th {\n",
       "        text-align: right;\n",
       "    }\n",
       "</style>\n",
       "<table border=\"1\" class=\"dataframe\">\n",
       "  <thead>\n",
       "    <tr style=\"text-align: right;\">\n",
       "      <th></th>\n",
       "      <th>Entry ID</th>\n",
       "      <th>pH</th>\n",
       "      <th>Temp (K)</th>\n",
       "      <th>Entity Polymer Type</th>\n",
       "      <th>Stucture Keywords</th>\n",
       "      <th>Sequence</th>\n",
       "      <th>Chain Length</th>\n",
       "      <th>Entyty Polymer Type</th>\n",
       "    </tr>\n",
       "  </thead>\n",
       "  <tbody>\n",
       "    <tr>\n",
       "      <th>0</th>\n",
       "      <td>4JS2</td>\n",
       "      <td>7.0</td>\n",
       "      <td>294.00</td>\n",
       "      <td>Protein</td>\n",
       "      <td>TRANSFERASE</td>\n",
       "      <td>PEASFQVWNKDSSSKNLIPRLQKIWKNYLSMNKYKVSYKGPGPGIK...</td>\n",
       "      <td>318.0</td>\n",
       "      <td>PROTEIN</td>\n",
       "    </tr>\n",
       "    <tr>\n",
       "      <th>1</th>\n",
       "      <td>4K3Q</td>\n",
       "      <td>6.5</td>\n",
       "      <td>285.00</td>\n",
       "      <td>Protein</td>\n",
       "      <td>TRANSFERASE</td>\n",
       "      <td>MKFTVEREHLLKPLQQVSGPLGGRPTLPILGNLLLQVADGTLSLTG...</td>\n",
       "      <td>366.0</td>\n",
       "      <td>PROTEIN</td>\n",
       "    </tr>\n",
       "    <tr>\n",
       "      <th>4</th>\n",
       "      <td>4JRR</td>\n",
       "      <td>8.0</td>\n",
       "      <td>289.00</td>\n",
       "      <td>Protein</td>\n",
       "      <td>OXIDOREDUCTASE</td>\n",
       "      <td>GSHMQFIEGKDYQTVASAQLSTNKDKTPLITEFFSYGCPWCYKIDA...</td>\n",
       "      <td>189.0</td>\n",
       "      <td>PROTEIN</td>\n",
       "    </tr>\n",
       "    <tr>\n",
       "      <th>5</th>\n",
       "      <td>4JS3</td>\n",
       "      <td>4.8</td>\n",
       "      <td>293.00</td>\n",
       "      <td>Protein</td>\n",
       "      <td>OXIDOREDUCTASE</td>\n",
       "      <td>MGHHHHHHHHHHSSGHIDDDDKHMATGDERFYAEHLMPTLQGLLDP...</td>\n",
       "      <td>390.0</td>\n",
       "      <td>PROTEIN</td>\n",
       "    </tr>\n",
       "    <tr>\n",
       "      <th>12</th>\n",
       "      <td>4K44</td>\n",
       "      <td>5.5</td>\n",
       "      <td>277.00</td>\n",
       "      <td>Protein</td>\n",
       "      <td>HYDROLASE</td>\n",
       "      <td>SQAESKEWYHASLTRAQAEHMLMRVPRDGAFLVRKRNEPNSYAISF...</td>\n",
       "      <td>106.0</td>\n",
       "      <td>PROTEIN</td>\n",
       "    </tr>\n",
       "    <tr>\n",
       "      <th>...</th>\n",
       "      <td>...</td>\n",
       "      <td>...</td>\n",
       "      <td>...</td>\n",
       "      <td>...</td>\n",
       "      <td>...</td>\n",
       "      <td>...</td>\n",
       "      <td>...</td>\n",
       "      <td>...</td>\n",
       "    </tr>\n",
       "    <tr>\n",
       "      <th>332227</th>\n",
       "      <td>6S8O</td>\n",
       "      <td>7.0</td>\n",
       "      <td>291.15</td>\n",
       "      <td>Protein</td>\n",
       "      <td>HYDROLASE</td>\n",
       "      <td>GAEFMDLDQGGEALAPRQVLDLEDLVFTQGSHFMANKRCQLPDGSF...</td>\n",
       "      <td>1747.0</td>\n",
       "      <td>PROTEIN</td>\n",
       "    </tr>\n",
       "    <tr>\n",
       "      <th>332228</th>\n",
       "      <td>6S90</td>\n",
       "      <td>8.5</td>\n",
       "      <td>298.00</td>\n",
       "      <td>Protein</td>\n",
       "      <td>TRANSFERASE</td>\n",
       "      <td>GSWEIDPKDLTFLKELGTGQFGVVKYGKWRGQYDVAIKMIKEGSMS...</td>\n",
       "      <td>266.0</td>\n",
       "      <td>PROTEIN</td>\n",
       "    </tr>\n",
       "    <tr>\n",
       "      <th>332237</th>\n",
       "      <td>6S8Q</td>\n",
       "      <td>8.0</td>\n",
       "      <td>291.15</td>\n",
       "      <td>Protein</td>\n",
       "      <td>HYDROLASE</td>\n",
       "      <td>GAEFMDLDQGGEALAPRQVLDLEDLVFTQGSHFMANKRCQLPDGSF...</td>\n",
       "      <td>1747.0</td>\n",
       "      <td>PROTEIN</td>\n",
       "    </tr>\n",
       "    <tr>\n",
       "      <th>332380</th>\n",
       "      <td>6S9U</td>\n",
       "      <td>7.5</td>\n",
       "      <td>291.00</td>\n",
       "      <td>Protein</td>\n",
       "      <td>TRANSFERASE</td>\n",
       "      <td>MTHAGMKASLPNRVMLNAYPDSIDGDLAGTVRMLQRPEFTDAFGLF...</td>\n",
       "      <td>531.0</td>\n",
       "      <td>PROTEIN</td>\n",
       "    </tr>\n",
       "    <tr>\n",
       "      <th>332501</th>\n",
       "      <td>6S9V</td>\n",
       "      <td>5.5</td>\n",
       "      <td>291.00</td>\n",
       "      <td>Protein</td>\n",
       "      <td>TRANSFERASE</td>\n",
       "      <td>MGGSHHHHHHGMASMALKNKVQLITYPDSLGGNLKTLNDVLEKYFS...</td>\n",
       "      <td>502.0</td>\n",
       "      <td>PROTEIN</td>\n",
       "    </tr>\n",
       "  </tbody>\n",
       "</table>\n",
       "<p>22632 rows × 8 columns</p>\n",
       "</div>"
      ],
      "text/plain": [
       "       Entry ID   pH  Temp (K) Entity Polymer Type Stucture Keywords  \\\n",
       "0          4JS2  7.0    294.00             Protein       TRANSFERASE   \n",
       "1          4K3Q  6.5    285.00             Protein       TRANSFERASE   \n",
       "4          4JRR  8.0    289.00             Protein    OXIDOREDUCTASE   \n",
       "5          4JS3  4.8    293.00             Protein    OXIDOREDUCTASE   \n",
       "12         4K44  5.5    277.00             Protein         HYDROLASE   \n",
       "...         ...  ...       ...                 ...               ...   \n",
       "332227     6S8O  7.0    291.15             Protein         HYDROLASE   \n",
       "332228     6S90  8.5    298.00             Protein       TRANSFERASE   \n",
       "332237     6S8Q  8.0    291.15             Protein         HYDROLASE   \n",
       "332380     6S9U  7.5    291.00             Protein       TRANSFERASE   \n",
       "332501     6S9V  5.5    291.00             Protein       TRANSFERASE   \n",
       "\n",
       "                                                 Sequence  Chain Length  \\\n",
       "0       PEASFQVWNKDSSSKNLIPRLQKIWKNYLSMNKYKVSYKGPGPGIK...         318.0   \n",
       "1       MKFTVEREHLLKPLQQVSGPLGGRPTLPILGNLLLQVADGTLSLTG...         366.0   \n",
       "4       GSHMQFIEGKDYQTVASAQLSTNKDKTPLITEFFSYGCPWCYKIDA...         189.0   \n",
       "5       MGHHHHHHHHHHSSGHIDDDDKHMATGDERFYAEHLMPTLQGLLDP...         390.0   \n",
       "12      SQAESKEWYHASLTRAQAEHMLMRVPRDGAFLVRKRNEPNSYAISF...         106.0   \n",
       "...                                                   ...           ...   \n",
       "332227  GAEFMDLDQGGEALAPRQVLDLEDLVFTQGSHFMANKRCQLPDGSF...        1747.0   \n",
       "332228  GSWEIDPKDLTFLKELGTGQFGVVKYGKWRGQYDVAIKMIKEGSMS...         266.0   \n",
       "332237  GAEFMDLDQGGEALAPRQVLDLEDLVFTQGSHFMANKRCQLPDGSF...        1747.0   \n",
       "332380  MTHAGMKASLPNRVMLNAYPDSIDGDLAGTVRMLQRPEFTDAFGLF...         531.0   \n",
       "332501  MGGSHHHHHHGMASMALKNKVQLITYPDSLGGNLKTLNDVLEKYFS...         502.0   \n",
       "\n",
       "       Entyty Polymer Type  \n",
       "0                  PROTEIN  \n",
       "1                  PROTEIN  \n",
       "4                  PROTEIN  \n",
       "5                  PROTEIN  \n",
       "12                 PROTEIN  \n",
       "...                    ...  \n",
       "332227             PROTEIN  \n",
       "332228             PROTEIN  \n",
       "332237             PROTEIN  \n",
       "332380             PROTEIN  \n",
       "332501             PROTEIN  \n",
       "\n",
       "[22632 rows x 8 columns]"
      ]
     },
     "execution_count": 35,
     "metadata": {},
     "output_type": "execute_result"
    }
   ],
   "source": [
    "data_pdb_search"
   ]
  },
  {
   "cell_type": "code",
   "execution_count": 36,
   "metadata": {
    "scrolled": true
   },
   "outputs": [
    {
     "data": {
      "text/plain": [
       "HYDROLASE         7892\n",
       "TRANSFERASE       6027\n",
       "OXIDOREDUCTASE    4773\n",
       "LYASE             1833\n",
       "ISOMERASE         1151\n",
       "LIGASE             956\n",
       "Name: Stucture Keywords, dtype: int64"
      ]
     },
     "execution_count": 36,
     "metadata": {},
     "output_type": "execute_result"
    }
   ],
   "source": [
    "data_pdb_search['Stucture Keywords'].value_counts()"
   ]
  },
  {
   "cell_type": "code",
   "execution_count": 289,
   "metadata": {},
   "outputs": [],
   "source": [
    "listtype=data_pdb_search['Stucture Keywords'].copy()"
   ]
  },
  {
   "cell_type": "code",
   "execution_count": 290,
   "metadata": {},
   "outputs": [
    {
     "data": {
      "text/plain": [
       "['HYDROLASE',\n",
       " 'HYDROLASE',\n",
       " 'HYDROLASE',\n",
       " 'HYDROLASE',\n",
       " 'HYDROLASE',\n",
       " 'HYDROLASE',\n",
       " 'HYDROLASE',\n",
       " 'HYDROLASE',\n",
       " 'HYDROLASE',\n",
       " 'HYDROLASE',\n",
       " 'HYDROLASE',\n",
       " 'HYDROLASE',\n",
       " 'HYDROLASE',\n",
       " 'HYDROLASE',\n",
       " 'HYDROLASE',\n",
       " 'HYDROLASE',\n",
       " 'HYDROLASE',\n",
       " 'HYDROLASE',\n",
       " 'HYDROLASE',\n",
       " 'HYDROLASE',\n",
       " 'HYDROLASE',\n",
       " 'HYDROLASE',\n",
       " 'HYDROLASE',\n",
       " 'HYDROLASE',\n",
       " 'HYDROLASE',\n",
       " 'HYDROLASE',\n",
       " 'HYDROLASE',\n",
       " 'HYDROLASE',\n",
       " 'HYDROLASE',\n",
       " 'HYDROLASE',\n",
       " 'HYDROLASE',\n",
       " 'HYDROLASE',\n",
       " 'HYDROLASE',\n",
       " 'HYDROLASE',\n",
       " 'HYDROLASE',\n",
       " 'HYDROLASE',\n",
       " 'HYDROLASE',\n",
       " 'HYDROLASE',\n",
       " 'HYDROLASE',\n",
       " 'HYDROLASE',\n",
       " 'HYDROLASE',\n",
       " 'HYDROLASE',\n",
       " 'HYDROLASE',\n",
       " 'HYDROLASE',\n",
       " 'HYDROLASE',\n",
       " 'HYDROLASE',\n",
       " 'HYDROLASE',\n",
       " 'HYDROLASE',\n",
       " 'HYDROLASE',\n",
       " 'HYDROLASE',\n",
       " 'HYDROLASE',\n",
       " 'HYDROLASE',\n",
       " 'HYDROLASE',\n",
       " 'HYDROLASE',\n",
       " 'HYDROLASE',\n",
       " 'HYDROLASE',\n",
       " 'HYDROLASE',\n",
       " 'HYDROLASE',\n",
       " 'HYDROLASE',\n",
       " 'HYDROLASE',\n",
       " 'HYDROLASE',\n",
       " 'HYDROLASE',\n",
       " 'HYDROLASE',\n",
       " 'HYDROLASE',\n",
       " 'HYDROLASE',\n",
       " 'HYDROLASE',\n",
       " 'HYDROLASE',\n",
       " 'HYDROLASE',\n",
       " 'HYDROLASE',\n",
       " 'HYDROLASE',\n",
       " 'HYDROLASE',\n",
       " 'HYDROLASE',\n",
       " 'HYDROLASE',\n",
       " 'HYDROLASE',\n",
       " 'HYDROLASE',\n",
       " 'HYDROLASE',\n",
       " 'HYDROLASE',\n",
       " 'HYDROLASE',\n",
       " 'HYDROLASE',\n",
       " 'HYDROLASE',\n",
       " 'HYDROLASE',\n",
       " 'HYDROLASE',\n",
       " 'HYDROLASE',\n",
       " 'HYDROLASE',\n",
       " 'HYDROLASE',\n",
       " 'HYDROLASE',\n",
       " 'HYDROLASE',\n",
       " 'HYDROLASE',\n",
       " 'HYDROLASE',\n",
       " 'HYDROLASE',\n",
       " 'HYDROLASE',\n",
       " 'HYDROLASE',\n",
       " 'HYDROLASE',\n",
       " 'HYDROLASE',\n",
       " 'HYDROLASE',\n",
       " 'HYDROLASE',\n",
       " 'HYDROLASE',\n",
       " 'HYDROLASE',\n",
       " 'HYDROLASE',\n",
       " 'HYDROLASE',\n",
       " 'HYDROLASE',\n",
       " 'HYDROLASE',\n",
       " 'HYDROLASE',\n",
       " 'HYDROLASE',\n",
       " 'HYDROLASE',\n",
       " 'HYDROLASE',\n",
       " 'HYDROLASE',\n",
       " 'HYDROLASE',\n",
       " 'HYDROLASE',\n",
       " 'HYDROLASE',\n",
       " 'HYDROLASE',\n",
       " 'HYDROLASE',\n",
       " 'HYDROLASE',\n",
       " 'HYDROLASE',\n",
       " 'HYDROLASE',\n",
       " 'HYDROLASE',\n",
       " 'HYDROLASE',\n",
       " 'HYDROLASE',\n",
       " 'HYDROLASE',\n",
       " 'HYDROLASE',\n",
       " 'HYDROLASE',\n",
       " 'HYDROLASE',\n",
       " 'HYDROLASE',\n",
       " 'HYDROLASE',\n",
       " 'HYDROLASE',\n",
       " 'HYDROLASE',\n",
       " 'HYDROLASE',\n",
       " 'HYDROLASE',\n",
       " 'HYDROLASE',\n",
       " 'HYDROLASE',\n",
       " 'HYDROLASE',\n",
       " 'HYDROLASE',\n",
       " 'HYDROLASE',\n",
       " 'HYDROLASE',\n",
       " 'HYDROLASE',\n",
       " 'HYDROLASE',\n",
       " 'HYDROLASE',\n",
       " 'HYDROLASE',\n",
       " 'HYDROLASE',\n",
       " 'HYDROLASE',\n",
       " 'HYDROLASE',\n",
       " 'HYDROLASE',\n",
       " 'HYDROLASE',\n",
       " 'HYDROLASE',\n",
       " 'HYDROLASE',\n",
       " 'HYDROLASE',\n",
       " 'HYDROLASE',\n",
       " 'HYDROLASE',\n",
       " 'HYDROLASE',\n",
       " 'HYDROLASE',\n",
       " 'HYDROLASE',\n",
       " 'HYDROLASE',\n",
       " 'HYDROLASE',\n",
       " 'HYDROLASE',\n",
       " 'HYDROLASE',\n",
       " 'HYDROLASE',\n",
       " 'HYDROLASE',\n",
       " 'HYDROLASE',\n",
       " 'HYDROLASE',\n",
       " 'HYDROLASE',\n",
       " 'HYDROLASE',\n",
       " 'HYDROLASE',\n",
       " 'HYDROLASE',\n",
       " 'HYDROLASE',\n",
       " 'HYDROLASE',\n",
       " 'HYDROLASE',\n",
       " 'HYDROLASE',\n",
       " 'HYDROLASE',\n",
       " 'HYDROLASE',\n",
       " 'HYDROLASE',\n",
       " 'HYDROLASE',\n",
       " 'HYDROLASE',\n",
       " 'HYDROLASE',\n",
       " 'HYDROLASE',\n",
       " 'HYDROLASE',\n",
       " 'HYDROLASE',\n",
       " 'HYDROLASE',\n",
       " 'HYDROLASE',\n",
       " 'HYDROLASE',\n",
       " 'HYDROLASE',\n",
       " 'HYDROLASE',\n",
       " 'HYDROLASE',\n",
       " 'HYDROLASE',\n",
       " 'HYDROLASE',\n",
       " 'HYDROLASE',\n",
       " 'HYDROLASE',\n",
       " 'HYDROLASE',\n",
       " 'HYDROLASE',\n",
       " 'HYDROLASE',\n",
       " 'HYDROLASE',\n",
       " 'HYDROLASE',\n",
       " 'HYDROLASE',\n",
       " 'HYDROLASE',\n",
       " 'HYDROLASE',\n",
       " 'HYDROLASE',\n",
       " 'HYDROLASE',\n",
       " 'HYDROLASE',\n",
       " 'HYDROLASE',\n",
       " 'HYDROLASE',\n",
       " 'HYDROLASE',\n",
       " 'HYDROLASE',\n",
       " 'HYDROLASE',\n",
       " 'HYDROLASE',\n",
       " 'HYDROLASE',\n",
       " 'HYDROLASE',\n",
       " 'HYDROLASE',\n",
       " 'HYDROLASE',\n",
       " 'HYDROLASE',\n",
       " 'HYDROLASE',\n",
       " 'HYDROLASE',\n",
       " 'HYDROLASE',\n",
       " 'HYDROLASE',\n",
       " 'HYDROLASE',\n",
       " 'HYDROLASE',\n",
       " 'HYDROLASE',\n",
       " 'HYDROLASE',\n",
       " 'HYDROLASE',\n",
       " 'HYDROLASE',\n",
       " 'HYDROLASE',\n",
       " 'HYDROLASE',\n",
       " 'HYDROLASE',\n",
       " 'HYDROLASE',\n",
       " 'HYDROLASE',\n",
       " 'HYDROLASE',\n",
       " 'HYDROLASE',\n",
       " 'HYDROLASE',\n",
       " 'HYDROLASE',\n",
       " 'HYDROLASE',\n",
       " 'HYDROLASE',\n",
       " 'HYDROLASE',\n",
       " 'HYDROLASE',\n",
       " 'HYDROLASE',\n",
       " 'HYDROLASE',\n",
       " 'HYDROLASE',\n",
       " 'HYDROLASE',\n",
       " 'HYDROLASE',\n",
       " 'HYDROLASE',\n",
       " 'HYDROLASE',\n",
       " 'HYDROLASE',\n",
       " 'HYDROLASE',\n",
       " 'HYDROLASE',\n",
       " 'HYDROLASE',\n",
       " 'HYDROLASE',\n",
       " 'HYDROLASE',\n",
       " 'HYDROLASE',\n",
       " 'HYDROLASE',\n",
       " 'HYDROLASE',\n",
       " 'HYDROLASE',\n",
       " 'HYDROLASE',\n",
       " 'HYDROLASE',\n",
       " 'HYDROLASE',\n",
       " 'HYDROLASE',\n",
       " 'HYDROLASE',\n",
       " 'HYDROLASE',\n",
       " 'HYDROLASE',\n",
       " 'HYDROLASE',\n",
       " 'HYDROLASE',\n",
       " 'HYDROLASE',\n",
       " 'HYDROLASE',\n",
       " 'HYDROLASE',\n",
       " 'HYDROLASE',\n",
       " 'HYDROLASE',\n",
       " 'HYDROLASE',\n",
       " 'HYDROLASE',\n",
       " 'HYDROLASE',\n",
       " 'HYDROLASE',\n",
       " 'HYDROLASE',\n",
       " 'HYDROLASE',\n",
       " 'HYDROLASE',\n",
       " 'HYDROLASE',\n",
       " 'HYDROLASE',\n",
       " 'HYDROLASE',\n",
       " 'HYDROLASE',\n",
       " 'HYDROLASE',\n",
       " 'HYDROLASE',\n",
       " 'HYDROLASE',\n",
       " 'HYDROLASE',\n",
       " 'HYDROLASE',\n",
       " 'HYDROLASE',\n",
       " 'HYDROLASE',\n",
       " 'HYDROLASE',\n",
       " 'HYDROLASE',\n",
       " 'HYDROLASE',\n",
       " 'HYDROLASE',\n",
       " 'HYDROLASE',\n",
       " 'HYDROLASE',\n",
       " 'HYDROLASE',\n",
       " 'HYDROLASE',\n",
       " 'HYDROLASE',\n",
       " 'HYDROLASE',\n",
       " 'HYDROLASE',\n",
       " 'HYDROLASE',\n",
       " 'HYDROLASE',\n",
       " 'HYDROLASE',\n",
       " 'HYDROLASE',\n",
       " 'HYDROLASE',\n",
       " 'HYDROLASE',\n",
       " 'HYDROLASE',\n",
       " 'HYDROLASE',\n",
       " 'HYDROLASE',\n",
       " 'HYDROLASE',\n",
       " 'HYDROLASE',\n",
       " 'HYDROLASE',\n",
       " 'HYDROLASE',\n",
       " 'HYDROLASE',\n",
       " 'HYDROLASE',\n",
       " 'HYDROLASE',\n",
       " 'HYDROLASE',\n",
       " 'HYDROLASE',\n",
       " 'HYDROLASE',\n",
       " 'HYDROLASE',\n",
       " 'HYDROLASE',\n",
       " 'HYDROLASE',\n",
       " 'HYDROLASE',\n",
       " 'HYDROLASE',\n",
       " 'HYDROLASE',\n",
       " 'HYDROLASE',\n",
       " 'HYDROLASE',\n",
       " 'HYDROLASE',\n",
       " 'HYDROLASE',\n",
       " 'HYDROLASE',\n",
       " 'HYDROLASE',\n",
       " 'HYDROLASE',\n",
       " 'HYDROLASE',\n",
       " 'HYDROLASE',\n",
       " 'HYDROLASE',\n",
       " 'HYDROLASE',\n",
       " 'HYDROLASE',\n",
       " 'HYDROLASE',\n",
       " 'HYDROLASE',\n",
       " 'HYDROLASE',\n",
       " 'HYDROLASE',\n",
       " 'HYDROLASE',\n",
       " 'HYDROLASE',\n",
       " 'HYDROLASE',\n",
       " 'HYDROLASE',\n",
       " 'HYDROLASE',\n",
       " 'HYDROLASE',\n",
       " 'HYDROLASE',\n",
       " 'HYDROLASE',\n",
       " 'HYDROLASE',\n",
       " 'HYDROLASE',\n",
       " 'HYDROLASE',\n",
       " 'HYDROLASE',\n",
       " 'HYDROLASE',\n",
       " 'HYDROLASE',\n",
       " 'HYDROLASE',\n",
       " 'HYDROLASE',\n",
       " 'HYDROLASE',\n",
       " 'HYDROLASE',\n",
       " 'HYDROLASE',\n",
       " 'HYDROLASE',\n",
       " 'HYDROLASE',\n",
       " 'HYDROLASE',\n",
       " 'HYDROLASE',\n",
       " 'HYDROLASE',\n",
       " 'HYDROLASE',\n",
       " 'HYDROLASE',\n",
       " 'HYDROLASE',\n",
       " 'HYDROLASE',\n",
       " 'HYDROLASE',\n",
       " 'HYDROLASE',\n",
       " 'HYDROLASE',\n",
       " 'HYDROLASE',\n",
       " 'HYDROLASE',\n",
       " 'HYDROLASE',\n",
       " 'HYDROLASE',\n",
       " 'HYDROLASE',\n",
       " 'HYDROLASE',\n",
       " 'HYDROLASE',\n",
       " 'HYDROLASE',\n",
       " 'HYDROLASE',\n",
       " 'HYDROLASE',\n",
       " 'HYDROLASE',\n",
       " 'HYDROLASE',\n",
       " 'HYDROLASE',\n",
       " 'HYDROLASE',\n",
       " 'HYDROLASE',\n",
       " 'HYDROLASE',\n",
       " 'HYDROLASE',\n",
       " 'HYDROLASE',\n",
       " 'HYDROLASE',\n",
       " 'HYDROLASE',\n",
       " 'HYDROLASE',\n",
       " 'HYDROLASE',\n",
       " 'HYDROLASE',\n",
       " 'HYDROLASE',\n",
       " 'HYDROLASE',\n",
       " 'HYDROLASE',\n",
       " 'HYDROLASE',\n",
       " 'HYDROLASE',\n",
       " 'HYDROLASE',\n",
       " 'HYDROLASE',\n",
       " 'HYDROLASE',\n",
       " 'HYDROLASE',\n",
       " 'HYDROLASE',\n",
       " 'HYDROLASE',\n",
       " 'HYDROLASE',\n",
       " 'HYDROLASE',\n",
       " 'HYDROLASE',\n",
       " 'HYDROLASE',\n",
       " 'HYDROLASE',\n",
       " 'HYDROLASE',\n",
       " 'HYDROLASE',\n",
       " 'HYDROLASE',\n",
       " 'HYDROLASE',\n",
       " 'HYDROLASE',\n",
       " 'HYDROLASE',\n",
       " 'HYDROLASE',\n",
       " 'HYDROLASE',\n",
       " 'HYDROLASE',\n",
       " 'HYDROLASE',\n",
       " 'HYDROLASE',\n",
       " 'HYDROLASE',\n",
       " 'HYDROLASE',\n",
       " 'HYDROLASE',\n",
       " 'HYDROLASE',\n",
       " 'HYDROLASE',\n",
       " 'HYDROLASE',\n",
       " 'HYDROLASE',\n",
       " 'HYDROLASE',\n",
       " 'HYDROLASE',\n",
       " 'HYDROLASE',\n",
       " 'HYDROLASE',\n",
       " 'HYDROLASE',\n",
       " 'HYDROLASE',\n",
       " 'HYDROLASE',\n",
       " 'HYDROLASE',\n",
       " 'HYDROLASE',\n",
       " 'HYDROLASE',\n",
       " 'HYDROLASE',\n",
       " 'HYDROLASE',\n",
       " 'HYDROLASE',\n",
       " 'HYDROLASE',\n",
       " 'HYDROLASE',\n",
       " 'HYDROLASE',\n",
       " 'HYDROLASE',\n",
       " 'HYDROLASE',\n",
       " 'HYDROLASE',\n",
       " 'HYDROLASE',\n",
       " 'HYDROLASE',\n",
       " 'HYDROLASE',\n",
       " 'HYDROLASE',\n",
       " 'HYDROLASE',\n",
       " 'HYDROLASE',\n",
       " 'HYDROLASE',\n",
       " 'HYDROLASE',\n",
       " 'HYDROLASE',\n",
       " 'HYDROLASE',\n",
       " 'HYDROLASE',\n",
       " 'HYDROLASE',\n",
       " 'HYDROLASE',\n",
       " 'HYDROLASE',\n",
       " 'HYDROLASE',\n",
       " 'HYDROLASE',\n",
       " 'HYDROLASE',\n",
       " 'HYDROLASE',\n",
       " 'HYDROLASE',\n",
       " 'HYDROLASE',\n",
       " 'HYDROLASE',\n",
       " 'HYDROLASE',\n",
       " 'HYDROLASE',\n",
       " 'HYDROLASE',\n",
       " 'HYDROLASE',\n",
       " 'HYDROLASE',\n",
       " 'HYDROLASE',\n",
       " 'HYDROLASE',\n",
       " 'HYDROLASE',\n",
       " 'HYDROLASE',\n",
       " 'HYDROLASE',\n",
       " 'HYDROLASE',\n",
       " 'HYDROLASE',\n",
       " 'HYDROLASE',\n",
       " 'HYDROLASE',\n",
       " 'HYDROLASE',\n",
       " 'HYDROLASE',\n",
       " 'HYDROLASE',\n",
       " 'HYDROLASE',\n",
       " 'HYDROLASE',\n",
       " 'HYDROLASE',\n",
       " 'HYDROLASE',\n",
       " 'HYDROLASE',\n",
       " 'HYDROLASE',\n",
       " 'HYDROLASE',\n",
       " 'HYDROLASE',\n",
       " 'HYDROLASE',\n",
       " 'HYDROLASE',\n",
       " 'HYDROLASE',\n",
       " 'HYDROLASE',\n",
       " 'HYDROLASE',\n",
       " 'HYDROLASE',\n",
       " 'HYDROLASE',\n",
       " 'HYDROLASE',\n",
       " 'HYDROLASE',\n",
       " 'HYDROLASE',\n",
       " 'HYDROLASE',\n",
       " 'HYDROLASE',\n",
       " 'HYDROLASE',\n",
       " 'HYDROLASE',\n",
       " 'HYDROLASE',\n",
       " 'HYDROLASE',\n",
       " 'HYDROLASE',\n",
       " 'HYDROLASE',\n",
       " 'HYDROLASE',\n",
       " 'HYDROLASE',\n",
       " 'HYDROLASE',\n",
       " 'HYDROLASE',\n",
       " 'HYDROLASE',\n",
       " 'HYDROLASE',\n",
       " 'HYDROLASE',\n",
       " 'HYDROLASE',\n",
       " 'HYDROLASE',\n",
       " 'HYDROLASE',\n",
       " 'HYDROLASE',\n",
       " 'HYDROLASE',\n",
       " 'HYDROLASE',\n",
       " 'HYDROLASE',\n",
       " 'HYDROLASE',\n",
       " 'HYDROLASE',\n",
       " 'HYDROLASE',\n",
       " 'HYDROLASE',\n",
       " 'HYDROLASE',\n",
       " 'HYDROLASE',\n",
       " 'HYDROLASE',\n",
       " 'HYDROLASE',\n",
       " 'HYDROLASE',\n",
       " 'HYDROLASE',\n",
       " 'HYDROLASE',\n",
       " 'HYDROLASE',\n",
       " 'HYDROLASE',\n",
       " 'HYDROLASE',\n",
       " 'HYDROLASE',\n",
       " 'HYDROLASE',\n",
       " 'HYDROLASE',\n",
       " 'HYDROLASE',\n",
       " 'HYDROLASE',\n",
       " 'HYDROLASE',\n",
       " 'HYDROLASE',\n",
       " 'HYDROLASE',\n",
       " 'HYDROLASE',\n",
       " 'HYDROLASE',\n",
       " 'HYDROLASE',\n",
       " 'HYDROLASE',\n",
       " 'HYDROLASE',\n",
       " 'HYDROLASE',\n",
       " 'HYDROLASE',\n",
       " 'HYDROLASE',\n",
       " 'HYDROLASE',\n",
       " 'HYDROLASE',\n",
       " 'HYDROLASE',\n",
       " 'HYDROLASE',\n",
       " 'HYDROLASE',\n",
       " 'HYDROLASE',\n",
       " 'HYDROLASE',\n",
       " 'HYDROLASE',\n",
       " 'HYDROLASE',\n",
       " 'HYDROLASE',\n",
       " 'HYDROLASE',\n",
       " 'HYDROLASE',\n",
       " 'HYDROLASE',\n",
       " 'HYDROLASE',\n",
       " 'HYDROLASE',\n",
       " 'HYDROLASE',\n",
       " 'HYDROLASE',\n",
       " 'HYDROLASE',\n",
       " 'HYDROLASE',\n",
       " 'HYDROLASE',\n",
       " 'HYDROLASE',\n",
       " 'HYDROLASE',\n",
       " 'HYDROLASE',\n",
       " 'HYDROLASE',\n",
       " 'HYDROLASE',\n",
       " 'HYDROLASE',\n",
       " 'HYDROLASE',\n",
       " 'HYDROLASE',\n",
       " 'HYDROLASE',\n",
       " 'HYDROLASE',\n",
       " 'HYDROLASE',\n",
       " 'HYDROLASE',\n",
       " 'HYDROLASE',\n",
       " 'HYDROLASE',\n",
       " 'HYDROLASE',\n",
       " 'HYDROLASE',\n",
       " 'HYDROLASE',\n",
       " 'HYDROLASE',\n",
       " 'HYDROLASE',\n",
       " 'HYDROLASE',\n",
       " 'HYDROLASE',\n",
       " 'HYDROLASE',\n",
       " 'HYDROLASE',\n",
       " 'HYDROLASE',\n",
       " 'HYDROLASE',\n",
       " 'HYDROLASE',\n",
       " 'HYDROLASE',\n",
       " 'HYDROLASE',\n",
       " 'HYDROLASE',\n",
       " 'HYDROLASE',\n",
       " 'HYDROLASE',\n",
       " 'HYDROLASE',\n",
       " 'HYDROLASE',\n",
       " 'HYDROLASE',\n",
       " 'HYDROLASE',\n",
       " 'HYDROLASE',\n",
       " 'HYDROLASE',\n",
       " 'HYDROLASE',\n",
       " 'HYDROLASE',\n",
       " 'HYDROLASE',\n",
       " 'HYDROLASE',\n",
       " 'HYDROLASE',\n",
       " 'HYDROLASE',\n",
       " 'HYDROLASE',\n",
       " 'HYDROLASE',\n",
       " 'HYDROLASE',\n",
       " 'HYDROLASE',\n",
       " 'HYDROLASE',\n",
       " 'HYDROLASE',\n",
       " 'HYDROLASE',\n",
       " 'HYDROLASE',\n",
       " 'HYDROLASE',\n",
       " 'HYDROLASE',\n",
       " 'HYDROLASE',\n",
       " 'HYDROLASE',\n",
       " 'HYDROLASE',\n",
       " 'HYDROLASE',\n",
       " 'HYDROLASE',\n",
       " 'HYDROLASE',\n",
       " 'HYDROLASE',\n",
       " 'HYDROLASE',\n",
       " 'HYDROLASE',\n",
       " 'HYDROLASE',\n",
       " 'HYDROLASE',\n",
       " 'HYDROLASE',\n",
       " 'HYDROLASE',\n",
       " 'HYDROLASE',\n",
       " 'HYDROLASE',\n",
       " 'HYDROLASE',\n",
       " 'HYDROLASE',\n",
       " 'HYDROLASE',\n",
       " 'HYDROLASE',\n",
       " 'HYDROLASE',\n",
       " 'HYDROLASE',\n",
       " 'HYDROLASE',\n",
       " 'HYDROLASE',\n",
       " 'HYDROLASE',\n",
       " 'HYDROLASE',\n",
       " 'HYDROLASE',\n",
       " 'HYDROLASE',\n",
       " 'HYDROLASE',\n",
       " 'HYDROLASE',\n",
       " 'HYDROLASE',\n",
       " 'HYDROLASE',\n",
       " 'HYDROLASE',\n",
       " 'HYDROLASE',\n",
       " 'HYDROLASE',\n",
       " 'HYDROLASE',\n",
       " 'HYDROLASE',\n",
       " 'HYDROLASE',\n",
       " 'HYDROLASE',\n",
       " 'HYDROLASE',\n",
       " 'HYDROLASE',\n",
       " 'HYDROLASE',\n",
       " 'HYDROLASE',\n",
       " 'HYDROLASE',\n",
       " 'HYDROLASE',\n",
       " 'HYDROLASE',\n",
       " 'HYDROLASE',\n",
       " 'HYDROLASE',\n",
       " 'HYDROLASE',\n",
       " 'HYDROLASE',\n",
       " 'HYDROLASE',\n",
       " 'HYDROLASE',\n",
       " 'HYDROLASE',\n",
       " 'HYDROLASE',\n",
       " 'HYDROLASE',\n",
       " 'HYDROLASE',\n",
       " 'HYDROLASE',\n",
       " 'HYDROLASE',\n",
       " 'HYDROLASE',\n",
       " 'HYDROLASE',\n",
       " 'HYDROLASE',\n",
       " 'HYDROLASE',\n",
       " 'HYDROLASE',\n",
       " 'HYDROLASE',\n",
       " 'HYDROLASE',\n",
       " 'HYDROLASE',\n",
       " 'HYDROLASE',\n",
       " 'HYDROLASE',\n",
       " 'HYDROLASE',\n",
       " 'HYDROLASE',\n",
       " 'HYDROLASE',\n",
       " 'HYDROLASE',\n",
       " 'HYDROLASE',\n",
       " 'HYDROLASE',\n",
       " 'HYDROLASE',\n",
       " 'HYDROLASE',\n",
       " 'HYDROLASE',\n",
       " 'HYDROLASE',\n",
       " 'HYDROLASE',\n",
       " 'HYDROLASE',\n",
       " 'HYDROLASE',\n",
       " 'HYDROLASE',\n",
       " 'HYDROLASE',\n",
       " 'HYDROLASE',\n",
       " 'HYDROLASE',\n",
       " 'HYDROLASE',\n",
       " 'HYDROLASE',\n",
       " 'HYDROLASE',\n",
       " 'HYDROLASE',\n",
       " 'HYDROLASE',\n",
       " 'HYDROLASE',\n",
       " 'HYDROLASE',\n",
       " 'HYDROLASE',\n",
       " 'HYDROLASE',\n",
       " 'HYDROLASE',\n",
       " 'HYDROLASE',\n",
       " 'HYDROLASE',\n",
       " 'HYDROLASE',\n",
       " 'HYDROLASE',\n",
       " 'HYDROLASE',\n",
       " 'HYDROLASE',\n",
       " 'HYDROLASE',\n",
       " 'HYDROLASE',\n",
       " 'HYDROLASE',\n",
       " 'HYDROLASE',\n",
       " 'HYDROLASE',\n",
       " 'HYDROLASE',\n",
       " 'HYDROLASE',\n",
       " 'HYDROLASE',\n",
       " 'HYDROLASE',\n",
       " 'HYDROLASE',\n",
       " 'HYDROLASE',\n",
       " 'HYDROLASE',\n",
       " 'HYDROLASE',\n",
       " 'HYDROLASE',\n",
       " 'HYDROLASE',\n",
       " 'HYDROLASE',\n",
       " 'HYDROLASE',\n",
       " 'HYDROLASE',\n",
       " 'HYDROLASE',\n",
       " 'HYDROLASE',\n",
       " 'HYDROLASE',\n",
       " 'HYDROLASE',\n",
       " 'HYDROLASE',\n",
       " 'HYDROLASE',\n",
       " 'HYDROLASE',\n",
       " 'HYDROLASE',\n",
       " 'HYDROLASE',\n",
       " 'HYDROLASE',\n",
       " 'HYDROLASE',\n",
       " 'HYDROLASE',\n",
       " 'HYDROLASE',\n",
       " 'HYDROLASE',\n",
       " 'HYDROLASE',\n",
       " 'HYDROLASE',\n",
       " 'HYDROLASE',\n",
       " 'HYDROLASE',\n",
       " 'HYDROLASE',\n",
       " 'HYDROLASE',\n",
       " 'HYDROLASE',\n",
       " 'HYDROLASE',\n",
       " 'HYDROLASE',\n",
       " 'HYDROLASE',\n",
       " 'HYDROLASE',\n",
       " 'HYDROLASE',\n",
       " 'HYDROLASE',\n",
       " 'HYDROLASE',\n",
       " 'HYDROLASE',\n",
       " 'HYDROLASE',\n",
       " 'HYDROLASE',\n",
       " 'HYDROLASE',\n",
       " 'HYDROLASE',\n",
       " 'HYDROLASE',\n",
       " 'HYDROLASE',\n",
       " 'HYDROLASE',\n",
       " 'HYDROLASE',\n",
       " 'HYDROLASE',\n",
       " 'HYDROLASE',\n",
       " 'HYDROLASE',\n",
       " 'HYDROLASE',\n",
       " 'HYDROLASE',\n",
       " 'HYDROLASE',\n",
       " 'HYDROLASE',\n",
       " 'HYDROLASE',\n",
       " 'HYDROLASE',\n",
       " 'HYDROLASE',\n",
       " 'HYDROLASE',\n",
       " 'HYDROLASE',\n",
       " 'HYDROLASE',\n",
       " 'HYDROLASE',\n",
       " 'HYDROLASE',\n",
       " 'HYDROLASE',\n",
       " 'HYDROLASE',\n",
       " 'HYDROLASE',\n",
       " 'HYDROLASE',\n",
       " 'HYDROLASE',\n",
       " 'HYDROLASE',\n",
       " 'HYDROLASE',\n",
       " 'HYDROLASE',\n",
       " 'HYDROLASE',\n",
       " 'HYDROLASE',\n",
       " 'HYDROLASE',\n",
       " 'HYDROLASE',\n",
       " 'HYDROLASE',\n",
       " 'HYDROLASE',\n",
       " 'HYDROLASE',\n",
       " 'HYDROLASE',\n",
       " 'HYDROLASE',\n",
       " 'HYDROLASE',\n",
       " 'HYDROLASE',\n",
       " 'HYDROLASE',\n",
       " 'HYDROLASE',\n",
       " 'HYDROLASE',\n",
       " 'HYDROLASE',\n",
       " 'HYDROLASE',\n",
       " 'HYDROLASE',\n",
       " 'HYDROLASE',\n",
       " 'HYDROLASE',\n",
       " 'HYDROLASE',\n",
       " 'HYDROLASE',\n",
       " 'HYDROLASE',\n",
       " 'HYDROLASE',\n",
       " 'HYDROLASE',\n",
       " 'HYDROLASE',\n",
       " 'HYDROLASE',\n",
       " 'HYDROLASE',\n",
       " 'HYDROLASE',\n",
       " 'HYDROLASE',\n",
       " 'HYDROLASE',\n",
       " 'HYDROLASE',\n",
       " 'HYDROLASE',\n",
       " 'HYDROLASE',\n",
       " 'HYDROLASE',\n",
       " 'HYDROLASE',\n",
       " 'HYDROLASE',\n",
       " 'HYDROLASE',\n",
       " 'HYDROLASE',\n",
       " 'HYDROLASE',\n",
       " 'HYDROLASE',\n",
       " 'HYDROLASE',\n",
       " 'HYDROLASE',\n",
       " 'HYDROLASE',\n",
       " 'HYDROLASE',\n",
       " 'HYDROLASE',\n",
       " 'HYDROLASE',\n",
       " 'HYDROLASE',\n",
       " 'HYDROLASE',\n",
       " 'HYDROLASE',\n",
       " 'HYDROLASE',\n",
       " 'HYDROLASE',\n",
       " 'HYDROLASE',\n",
       " 'HYDROLASE',\n",
       " 'HYDROLASE',\n",
       " 'HYDROLASE',\n",
       " 'HYDROLASE',\n",
       " 'HYDROLASE',\n",
       " 'HYDROLASE',\n",
       " 'HYDROLASE',\n",
       " 'HYDROLASE',\n",
       " 'HYDROLASE',\n",
       " 'HYDROLASE',\n",
       " 'HYDROLASE',\n",
       " 'HYDROLASE',\n",
       " 'HYDROLASE',\n",
       " 'HYDROLASE',\n",
       " 'HYDROLASE',\n",
       " 'HYDROLASE',\n",
       " 'HYDROLASE',\n",
       " 'HYDROLASE',\n",
       " 'HYDROLASE',\n",
       " 'HYDROLASE',\n",
       " 'HYDROLASE',\n",
       " 'HYDROLASE',\n",
       " 'HYDROLASE',\n",
       " 'HYDROLASE',\n",
       " 'HYDROLASE',\n",
       " 'HYDROLASE',\n",
       " 'HYDROLASE',\n",
       " 'HYDROLASE',\n",
       " 'HYDROLASE',\n",
       " 'HYDROLASE',\n",
       " 'HYDROLASE',\n",
       " 'HYDROLASE',\n",
       " 'HYDROLASE',\n",
       " 'HYDROLASE',\n",
       " 'HYDROLASE',\n",
       " 'HYDROLASE',\n",
       " 'HYDROLASE',\n",
       " 'HYDROLASE',\n",
       " 'HYDROLASE',\n",
       " 'HYDROLASE',\n",
       " 'HYDROLASE',\n",
       " 'HYDROLASE',\n",
       " 'HYDROLASE',\n",
       " 'HYDROLASE',\n",
       " 'HYDROLASE',\n",
       " 'HYDROLASE',\n",
       " 'HYDROLASE',\n",
       " 'HYDROLASE',\n",
       " 'HYDROLASE',\n",
       " 'HYDROLASE',\n",
       " 'HYDROLASE',\n",
       " 'HYDROLASE',\n",
       " 'HYDROLASE',\n",
       " 'HYDROLASE',\n",
       " 'HYDROLASE',\n",
       " 'HYDROLASE',\n",
       " 'HYDROLASE',\n",
       " 'HYDROLASE',\n",
       " 'HYDROLASE',\n",
       " 'HYDROLASE',\n",
       " 'HYDROLASE',\n",
       " 'HYDROLASE',\n",
       " 'HYDROLASE',\n",
       " 'HYDROLASE',\n",
       " 'HYDROLASE',\n",
       " 'HYDROLASE',\n",
       " 'HYDROLASE',\n",
       " 'HYDROLASE',\n",
       " 'HYDROLASE',\n",
       " 'HYDROLASE',\n",
       " 'HYDROLASE',\n",
       " 'HYDROLASE',\n",
       " 'HYDROLASE',\n",
       " 'HYDROLASE',\n",
       " 'HYDROLASE',\n",
       " 'HYDROLASE',\n",
       " 'HYDROLASE',\n",
       " 'HYDROLASE',\n",
       " 'HYDROLASE',\n",
       " 'HYDROLASE',\n",
       " 'HYDROLASE',\n",
       " 'HYDROLASE',\n",
       " 'HYDROLASE',\n",
       " 'HYDROLASE',\n",
       " 'HYDROLASE',\n",
       " 'HYDROLASE',\n",
       " 'HYDROLASE',\n",
       " 'HYDROLASE',\n",
       " 'HYDROLASE',\n",
       " 'HYDROLASE',\n",
       " 'HYDROLASE',\n",
       " 'HYDROLASE',\n",
       " 'HYDROLASE',\n",
       " 'HYDROLASE',\n",
       " 'HYDROLASE',\n",
       " 'HYDROLASE',\n",
       " 'HYDROLASE',\n",
       " 'HYDROLASE',\n",
       " 'HYDROLASE',\n",
       " 'HYDROLASE',\n",
       " 'HYDROLASE',\n",
       " 'HYDROLASE',\n",
       " 'HYDROLASE',\n",
       " 'HYDROLASE',\n",
       " 'HYDROLASE',\n",
       " 'HYDROLASE',\n",
       " 'HYDROLASE',\n",
       " 'HYDROLASE',\n",
       " 'HYDROLASE',\n",
       " 'HYDROLASE',\n",
       " 'HYDROLASE',\n",
       " 'HYDROLASE',\n",
       " 'HYDROLASE',\n",
       " 'HYDROLASE',\n",
       " 'HYDROLASE',\n",
       " 'HYDROLASE',\n",
       " 'HYDROLASE',\n",
       " 'HYDROLASE',\n",
       " 'HYDROLASE',\n",
       " 'HYDROLASE',\n",
       " 'HYDROLASE',\n",
       " 'HYDROLASE',\n",
       " 'HYDROLASE',\n",
       " 'HYDROLASE',\n",
       " 'HYDROLASE',\n",
       " 'HYDROLASE',\n",
       " 'HYDROLASE',\n",
       " 'HYDROLASE',\n",
       " 'HYDROLASE',\n",
       " 'HYDROLASE',\n",
       " 'HYDROLASE',\n",
       " 'HYDROLASE',\n",
       " 'HYDROLASE',\n",
       " 'HYDROLASE',\n",
       " 'HYDROLASE',\n",
       " 'HYDROLASE',\n",
       " 'HYDROLASE',\n",
       " 'HYDROLASE',\n",
       " 'HYDROLASE',\n",
       " 'HYDROLASE',\n",
       " 'HYDROLASE',\n",
       " 'HYDROLASE',\n",
       " 'HYDROLASE',\n",
       " 'HYDROLASE',\n",
       " 'HYDROLASE',\n",
       " 'HYDROLASE',\n",
       " 'HYDROLASE',\n",
       " 'HYDROLASE',\n",
       " 'HYDROLASE',\n",
       " 'HYDROLASE',\n",
       " ...]"
      ]
     },
     "execution_count": 290,
     "metadata": {},
     "output_type": "execute_result"
    }
   ],
   "source": [
    "sorted(listtype)"
   ]
  },
  {
   "cell_type": "code",
   "execution_count": 293,
   "metadata": {
    "scrolled": false
   },
   "outputs": [
    {
     "data": {
      "text/plain": [
       "Text(0, 0.5, 'Count')"
      ]
     },
     "execution_count": 293,
     "metadata": {},
     "output_type": "execute_result"
    },
    {
     "data": {
      "image/png": "[encoded data removed]",
      "text/plain": [
       "<Figure size 864x432 with 1 Axes>"
      ]
     },
     "metadata": {
      "needs_background": "light"
     },
     "output_type": "display_data"
    }
   ],
   "source": [
    "%matplotlib inline\n",
    "fig, axis= plt.subplots(figsize=(12,6))\n",
    "axis.tick_params(which='major',labelsize=12)\n",
    "axis.set_title('Enzyme Type Count for Data Set(After Cleaning)',fontsize=20)\n",
    "axis.set_ylabel('Count',fontsize=20)\n",
    "axis.set_xlabel('Enzyme Type',fontsize=20)\n",
    "sns.countplot(x='Stucture Keywords', data=data_pdb_search, order=['HYDROLASE','TRANSFERASE','OXIDOREDUCTASE','LYASE','ISOMERASE','LIGASE'])\n",
    "#sns.countplot(x='Stucture Keywords', data=listtype)\n",
    "axis.set_xlabel('Enzyme Type',fontsize=20)\n",
    "axis.set_ylabel('Count',fontsize=20)"
   ]
  },
  {
   "cell_type": "code",
   "execution_count": 38,
   "metadata": {},
   "outputs": [
    {
     "data": {
      "text/plain": [
       "Text(0.5, 0, 'Temp')"
      ]
     },
     "execution_count": 38,
     "metadata": {},
     "output_type": "execute_result"
    },
    {
     "data": {
      "image/png": "[encoded data removed]",
      "text/plain": [
       "<Figure size 1152x288 with 2 Axes>"
      ]
     },
     "metadata": {
      "needs_background": "light"
     },
     "output_type": "display_data"
    }
   ],
   "source": [
    "fig, axes = plt.subplots(nrows=1, ncols=2, figsize=(16, 4))\n",
    "axes[0].boxplot(data_pdb_search['pH'],vert=True,patch_artist=True)\n",
    "axes[1].boxplot(data_pdb_search[\"Temp (K)\"],vert=True,patch_artist=True)\n",
    "axes[0].set_title('pH Box plot',fontsize=14)\n",
    "axes[1].set_title(' Temp (K) Box plot',fontsize=14)\n",
    "axes[0].set_ylabel('Ph Values',fontsize=14)\n",
    "axes[1].set_ylabel('Temp(K) Values',fontsize=14)\n",
    "axes[0].set_xticklabels('')\n",
    "axes[1].set_xticklabels('')\n",
    "axes[0].set_xlabel('pH',fontsize=14)\n",
    "axes[1].set_xlabel('Temp',fontsize=14)"
   ]
  },
  {
   "cell_type": "markdown",
   "metadata": {},
   "source": [
    "### Lets add new columns, one for each Amino acid and calculate percentage of each Amino Acid for each Entry Id(enzyme) and  put the result in these columns. Now we know the Amino Acid Composition for each sequence."
   ]
  },
  {
   "cell_type": "code",
   "execution_count": 39,
   "metadata": {},
   "outputs": [],
   "source": [
    "data_pdb_search.reset_index(drop=True,inplace=True)"
   ]
  },
  {
   "cell_type": "code",
   "execution_count": 40,
   "metadata": {},
   "outputs": [
    {
     "data": {
      "text/plain": [
       "22632"
      ]
     },
     "execution_count": 40,
     "metadata": {},
     "output_type": "execute_result"
    }
   ],
   "source": [
    "len(data_pdb_search)"
   ]
  },
  {
   "cell_type": "code",
   "execution_count": 41,
   "metadata": {},
   "outputs": [
    {
     "data": {
      "text/plain": [
       "RangeIndex(start=0, stop=22632, step=1)"
      ]
     },
     "execution_count": 41,
     "metadata": {},
     "output_type": "execute_result"
    }
   ],
   "source": [
    "data_pdb_search.index"
   ]
  },
  {
   "cell_type": "code",
   "execution_count": 42,
   "metadata": {},
   "outputs": [],
   "source": [
    "Amino_Acids=['A','R','N','D','C','Q','E','G','H','I','L','K','M','F','P','S','T','W','Y','V']"
   ]
  },
  {
   "cell_type": "code",
   "execution_count": 43,
   "metadata": {},
   "outputs": [],
   "source": [
    "for x in Amino_Acids:\n",
    "    data_pdb_search[x]=data_pdb_search['Sequence'].str.count(x)/data_pdb_search['Sequence'].str.len()\n"
   ]
  },
  {
   "cell_type": "code",
   "execution_count": 44,
   "metadata": {},
   "outputs": [
    {
     "data": {
      "text/html": [
       "<div>\n",
       "<style scoped>\n",
       "    .dataframe tbody tr th:only-of-type {\n",
       "        vertical-align: middle;\n",
       "    }\n",
       "\n",
       "    .dataframe tbody tr th {\n",
       "        vertical-align: top;\n",
       "    }\n",
       "\n",
       "    .dataframe thead th {\n",
       "        text-align: right;\n",
       "    }\n",
       "</style>\n",
       "<table border=\"1\" class=\"dataframe\">\n",
       "  <thead>\n",
       "    <tr style=\"text-align: right;\">\n",
       "      <th></th>\n",
       "      <th>Entry ID</th>\n",
       "      <th>pH</th>\n",
       "      <th>Temp (K)</th>\n",
       "      <th>Entity Polymer Type</th>\n",
       "      <th>Stucture Keywords</th>\n",
       "      <th>Sequence</th>\n",
       "      <th>Chain Length</th>\n",
       "      <th>Entyty Polymer Type</th>\n",
       "      <th>A</th>\n",
       "      <th>R</th>\n",
       "      <th>...</th>\n",
       "      <th>L</th>\n",
       "      <th>K</th>\n",
       "      <th>M</th>\n",
       "      <th>F</th>\n",
       "      <th>P</th>\n",
       "      <th>S</th>\n",
       "      <th>T</th>\n",
       "      <th>W</th>\n",
       "      <th>Y</th>\n",
       "      <th>V</th>\n",
       "    </tr>\n",
       "  </thead>\n",
       "  <tbody>\n",
       "    <tr>\n",
       "      <th>0</th>\n",
       "      <td>4JS2</td>\n",
       "      <td>7.0</td>\n",
       "      <td>294.0</td>\n",
       "      <td>Protein</td>\n",
       "      <td>TRANSFERASE</td>\n",
       "      <td>PEASFQVWNKDSSSKNLIPRLQKIWKNYLSMNKYKVSYKGPGPGIK...</td>\n",
       "      <td>318.0</td>\n",
       "      <td>PROTEIN</td>\n",
       "      <td>0.037736</td>\n",
       "      <td>0.037736</td>\n",
       "      <td>...</td>\n",
       "      <td>0.088050</td>\n",
       "      <td>0.075472</td>\n",
       "      <td>0.025157</td>\n",
       "      <td>0.044025</td>\n",
       "      <td>0.069182</td>\n",
       "      <td>0.075472</td>\n",
       "      <td>0.050314</td>\n",
       "      <td>0.025157</td>\n",
       "      <td>0.056604</td>\n",
       "      <td>0.050314</td>\n",
       "    </tr>\n",
       "    <tr>\n",
       "      <th>1</th>\n",
       "      <td>4K3Q</td>\n",
       "      <td>6.5</td>\n",
       "      <td>285.0</td>\n",
       "      <td>Protein</td>\n",
       "      <td>TRANSFERASE</td>\n",
       "      <td>MKFTVEREHLLKPLQQVSGPLGGRPTLPILGNLLLQVADGTLSLTG...</td>\n",
       "      <td>366.0</td>\n",
       "      <td>PROTEIN</td>\n",
       "      <td>0.076503</td>\n",
       "      <td>0.068306</td>\n",
       "      <td>...</td>\n",
       "      <td>0.117486</td>\n",
       "      <td>0.032787</td>\n",
       "      <td>0.040984</td>\n",
       "      <td>0.038251</td>\n",
       "      <td>0.054645</td>\n",
       "      <td>0.062842</td>\n",
       "      <td>0.049180</td>\n",
       "      <td>0.002732</td>\n",
       "      <td>0.019126</td>\n",
       "      <td>0.084699</td>\n",
       "    </tr>\n",
       "    <tr>\n",
       "      <th>2</th>\n",
       "      <td>4JRR</td>\n",
       "      <td>8.0</td>\n",
       "      <td>289.0</td>\n",
       "      <td>Protein</td>\n",
       "      <td>OXIDOREDUCTASE</td>\n",
       "      <td>GSHMQFIEGKDYQTVASAQLSTNKDKTPLITEFFSYGCPWCYKIDA...</td>\n",
       "      <td>189.0</td>\n",
       "      <td>PROTEIN</td>\n",
       "      <td>0.100529</td>\n",
       "      <td>0.031746</td>\n",
       "      <td>...</td>\n",
       "      <td>0.068783</td>\n",
       "      <td>0.084656</td>\n",
       "      <td>0.047619</td>\n",
       "      <td>0.052910</td>\n",
       "      <td>0.047619</td>\n",
       "      <td>0.063492</td>\n",
       "      <td>0.052910</td>\n",
       "      <td>0.015873</td>\n",
       "      <td>0.047619</td>\n",
       "      <td>0.063492</td>\n",
       "    </tr>\n",
       "    <tr>\n",
       "      <th>3</th>\n",
       "      <td>4JS3</td>\n",
       "      <td>4.8</td>\n",
       "      <td>293.0</td>\n",
       "      <td>Protein</td>\n",
       "      <td>OXIDOREDUCTASE</td>\n",
       "      <td>MGHHHHHHHHHHSSGHIDDDDKHMATGDERFYAEHLMPTLQGLLDP...</td>\n",
       "      <td>390.0</td>\n",
       "      <td>PROTEIN</td>\n",
       "      <td>0.076923</td>\n",
       "      <td>0.079487</td>\n",
       "      <td>...</td>\n",
       "      <td>0.115385</td>\n",
       "      <td>0.048718</td>\n",
       "      <td>0.015385</td>\n",
       "      <td>0.028205</td>\n",
       "      <td>0.048718</td>\n",
       "      <td>0.053846</td>\n",
       "      <td>0.048718</td>\n",
       "      <td>0.002564</td>\n",
       "      <td>0.017949</td>\n",
       "      <td>0.087179</td>\n",
       "    </tr>\n",
       "    <tr>\n",
       "      <th>4</th>\n",
       "      <td>4K44</td>\n",
       "      <td>5.5</td>\n",
       "      <td>277.0</td>\n",
       "      <td>Protein</td>\n",
       "      <td>HYDROLASE</td>\n",
       "      <td>SQAESKEWYHASLTRAQAEHMLMRVPRDGAFLVRKRNEPNSYAISF...</td>\n",
       "      <td>106.0</td>\n",
       "      <td>PROTEIN</td>\n",
       "      <td>0.075472</td>\n",
       "      <td>0.084906</td>\n",
       "      <td>...</td>\n",
       "      <td>0.084906</td>\n",
       "      <td>0.075472</td>\n",
       "      <td>0.037736</td>\n",
       "      <td>0.028302</td>\n",
       "      <td>0.037736</td>\n",
       "      <td>0.075472</td>\n",
       "      <td>0.028302</td>\n",
       "      <td>0.009434</td>\n",
       "      <td>0.056604</td>\n",
       "      <td>0.047170</td>\n",
       "    </tr>\n",
       "  </tbody>\n",
       "</table>\n",
       "<p>5 rows × 28 columns</p>\n",
       "</div>"
      ],
      "text/plain": [
       "  Entry ID   pH  Temp (K) Entity Polymer Type Stucture Keywords  \\\n",
       "0     4JS2  7.0     294.0             Protein       TRANSFERASE   \n",
       "1     4K3Q  6.5     285.0             Protein       TRANSFERASE   \n",
       "2     4JRR  8.0     289.0             Protein    OXIDOREDUCTASE   \n",
       "3     4JS3  4.8     293.0             Protein    OXIDOREDUCTASE   \n",
       "4     4K44  5.5     277.0             Protein         HYDROLASE   \n",
       "\n",
       "                                            Sequence  Chain Length  \\\n",
       "0  PEASFQVWNKDSSSKNLIPRLQKIWKNYLSMNKYKVSYKGPGPGIK...         318.0   \n",
       "1  MKFTVEREHLLKPLQQVSGPLGGRPTLPILGNLLLQVADGTLSLTG...         366.0   \n",
       "2  GSHMQFIEGKDYQTVASAQLSTNKDKTPLITEFFSYGCPWCYKIDA...         189.0   \n",
       "3  MGHHHHHHHHHHSSGHIDDDDKHMATGDERFYAEHLMPTLQGLLDP...         390.0   \n",
       "4  SQAESKEWYHASLTRAQAEHMLMRVPRDGAFLVRKRNEPNSYAISF...         106.0   \n",
       "\n",
       "  Entyty Polymer Type         A         R  ...         L         K         M  \\\n",
       "0             PROTEIN  0.037736  0.037736  ...  0.088050  0.075472  0.025157   \n",
       "1             PROTEIN  0.076503  0.068306  ...  0.117486  0.032787  0.040984   \n",
       "2             PROTEIN  0.100529  0.031746  ...  0.068783  0.084656  0.047619   \n",
       "3             PROTEIN  0.076923  0.079487  ...  0.115385  0.048718  0.015385   \n",
       "4             PROTEIN  0.075472  0.084906  ...  0.084906  0.075472  0.037736   \n",
       "\n",
       "          F         P         S         T         W         Y         V  \n",
       "0  0.044025  0.069182  0.075472  0.050314  0.025157  0.056604  0.050314  \n",
       "1  0.038251  0.054645  0.062842  0.049180  0.002732  0.019126  0.084699  \n",
       "2  0.052910  0.047619  0.063492  0.052910  0.015873  0.047619  0.063492  \n",
       "3  0.028205  0.048718  0.053846  0.048718  0.002564  0.017949  0.087179  \n",
       "4  0.028302  0.037736  0.075472  0.028302  0.009434  0.056604  0.047170  \n",
       "\n",
       "[5 rows x 28 columns]"
      ]
     },
     "execution_count": 44,
     "metadata": {},
     "output_type": "execute_result"
    }
   ],
   "source": [
    "data_pdb_search.head(5)"
   ]
  },
  {
   "cell_type": "markdown",
   "metadata": {},
   "source": [
    "### In the first part of our research we'll select only the Amino Acid Composition columns to predict the type of enzyme."
   ]
  },
  {
   "cell_type": "code",
   "execution_count": 45,
   "metadata": {},
   "outputs": [],
   "source": [
    "features=['A','R','N','D','C','Q','E','G','H','I','L','K','M','F','P','S','T','W','Y','V']"
   ]
  },
  {
   "cell_type": "code",
   "execution_count": 46,
   "metadata": {},
   "outputs": [],
   "source": [
    "X= data_pdb_search[features].copy()"
   ]
  },
  {
   "cell_type": "markdown",
   "metadata": {},
   "source": [
    "### Our target is the type of enzyme, column 'Stucture Keywords', we'll apply Label Encoding to assign each enzyme type a number and put the result in a new column"
   ]
  },
  {
   "cell_type": "code",
   "execution_count": 47,
   "metadata": {},
   "outputs": [],
   "source": [
    "data_pdb_search['Type_Encode']=LabelEncoder().fit_transform(data_pdb_search['Stucture Keywords'])"
   ]
  },
  {
   "cell_type": "code",
   "execution_count": 48,
   "metadata": {},
   "outputs": [
    {
     "data": {
      "text/plain": [
       "array([5, 4, 0, 3, 2, 1])"
      ]
     },
     "execution_count": 48,
     "metadata": {},
     "output_type": "execute_result"
    }
   ],
   "source": [
    "data_pdb_search['Type_Encode'].unique()"
   ]
  },
  {
   "cell_type": "markdown",
   "metadata": {},
   "source": [
    "### Lets Store our Target in y"
   ]
  },
  {
   "cell_type": "code",
   "execution_count": 49,
   "metadata": {},
   "outputs": [],
   "source": [
    "y=data_pdb_search[['Type_Encode']]"
   ]
  },
  {
   "cell_type": "code",
   "execution_count": 50,
   "metadata": {},
   "outputs": [
    {
     "data": {
      "text/plain": [
       "Type_Encode\n",
       "0              7892\n",
       "5              6027\n",
       "4              4773\n",
       "3              1833\n",
       "1              1151\n",
       "2               956\n",
       "dtype: int64"
      ]
     },
     "execution_count": 50,
     "metadata": {},
     "output_type": "execute_result"
    }
   ],
   "source": [
    "y.value_counts()"
   ]
  },
  {
   "cell_type": "code",
   "execution_count": 51,
   "metadata": {},
   "outputs": [
    {
     "data": {
      "text/plain": [
       "HYDROLASE         7892\n",
       "TRANSFERASE       6027\n",
       "OXIDOREDUCTASE    4773\n",
       "LYASE             1833\n",
       "ISOMERASE         1151\n",
       "LIGASE             956\n",
       "Name: Stucture Keywords, dtype: int64"
      ]
     },
     "execution_count": 51,
     "metadata": {},
     "output_type": "execute_result"
    }
   ],
   "source": [
    "data_pdb_search['Stucture Keywords'].value_counts()"
   ]
  },
  {
   "cell_type": "markdown",
   "metadata": {},
   "source": [
    "### Lets split our data for training and testing"
   ]
  },
  {
   "cell_type": "code",
   "execution_count": 52,
   "metadata": {},
   "outputs": [],
   "source": [
    "X_train, X_test, y_train, y_test = train_test_split(X, y, test_size=0.33, random_state=543)"
   ]
  },
  {
   "cell_type": "code",
   "execution_count": 53,
   "metadata": {},
   "outputs": [
    {
     "name": "stdout",
     "output_type": "stream",
     "text": [
      "15163\n",
      "7469\n",
      "15163\n",
      "7469\n"
     ]
    }
   ],
   "source": [
    "print(len(X_train))\n",
    "print(len(X_test))\n",
    "print(len(y_train))\n",
    "print(len(y_test))\n",
    "\n"
   ]
  },
  {
   "cell_type": "code",
   "execution_count": 54,
   "metadata": {},
   "outputs": [
    {
     "data": {
      "text/html": [
       "<div>\n",
       "<style scoped>\n",
       "    .dataframe tbody tr th:only-of-type {\n",
       "        vertical-align: middle;\n",
       "    }\n",
       "\n",
       "    .dataframe tbody tr th {\n",
       "        vertical-align: top;\n",
       "    }\n",
       "\n",
       "    .dataframe thead th {\n",
       "        text-align: right;\n",
       "    }\n",
       "</style>\n",
       "<table border=\"1\" class=\"dataframe\">\n",
       "  <thead>\n",
       "    <tr style=\"text-align: right;\">\n",
       "      <th></th>\n",
       "      <th>Type_Encode</th>\n",
       "    </tr>\n",
       "  </thead>\n",
       "  <tbody>\n",
       "    <tr>\n",
       "      <th>count</th>\n",
       "      <td>7469.000000</td>\n",
       "    </tr>\n",
       "    <tr>\n",
       "      <th>mean</th>\n",
       "      <td>2.570224</td>\n",
       "    </tr>\n",
       "    <tr>\n",
       "      <th>std</th>\n",
       "      <td>2.117732</td>\n",
       "    </tr>\n",
       "    <tr>\n",
       "      <th>min</th>\n",
       "      <td>0.000000</td>\n",
       "    </tr>\n",
       "    <tr>\n",
       "      <th>25%</th>\n",
       "      <td>0.000000</td>\n",
       "    </tr>\n",
       "    <tr>\n",
       "      <th>50%</th>\n",
       "      <td>3.000000</td>\n",
       "    </tr>\n",
       "    <tr>\n",
       "      <th>75%</th>\n",
       "      <td>5.000000</td>\n",
       "    </tr>\n",
       "    <tr>\n",
       "      <th>max</th>\n",
       "      <td>5.000000</td>\n",
       "    </tr>\n",
       "  </tbody>\n",
       "</table>\n",
       "</div>"
      ],
      "text/plain": [
       "       Type_Encode\n",
       "count  7469.000000\n",
       "mean      2.570224\n",
       "std       2.117732\n",
       "min       0.000000\n",
       "25%       0.000000\n",
       "50%       3.000000\n",
       "75%       5.000000\n",
       "max       5.000000"
      ]
     },
     "execution_count": 54,
     "metadata": {},
     "output_type": "execute_result"
    }
   ],
   "source": [
    "y_test.describe()"
   ]
  },
  {
   "cell_type": "code",
   "execution_count": 55,
   "metadata": {
    "scrolled": false
   },
   "outputs": [
    {
     "data": {
      "text/html": [
       "<div>\n",
       "<style scoped>\n",
       "    .dataframe tbody tr th:only-of-type {\n",
       "        vertical-align: middle;\n",
       "    }\n",
       "\n",
       "    .dataframe tbody tr th {\n",
       "        vertical-align: top;\n",
       "    }\n",
       "\n",
       "    .dataframe thead th {\n",
       "        text-align: right;\n",
       "    }\n",
       "</style>\n",
       "<table border=\"1\" class=\"dataframe\">\n",
       "  <thead>\n",
       "    <tr style=\"text-align: right;\">\n",
       "      <th></th>\n",
       "      <th>A</th>\n",
       "      <th>R</th>\n",
       "      <th>N</th>\n",
       "      <th>D</th>\n",
       "      <th>C</th>\n",
       "      <th>Q</th>\n",
       "      <th>E</th>\n",
       "      <th>G</th>\n",
       "      <th>H</th>\n",
       "      <th>I</th>\n",
       "      <th>L</th>\n",
       "      <th>K</th>\n",
       "      <th>M</th>\n",
       "      <th>F</th>\n",
       "      <th>P</th>\n",
       "      <th>S</th>\n",
       "      <th>T</th>\n",
       "      <th>W</th>\n",
       "      <th>Y</th>\n",
       "      <th>V</th>\n",
       "    </tr>\n",
       "  </thead>\n",
       "  <tbody>\n",
       "    <tr>\n",
       "      <th>count</th>\n",
       "      <td>15163.000000</td>\n",
       "      <td>15163.000000</td>\n",
       "      <td>15163.000000</td>\n",
       "      <td>15163.000000</td>\n",
       "      <td>15163.000000</td>\n",
       "      <td>15163.000000</td>\n",
       "      <td>15163.000000</td>\n",
       "      <td>15163.000000</td>\n",
       "      <td>15163.000000</td>\n",
       "      <td>15163.000000</td>\n",
       "      <td>15163.000000</td>\n",
       "      <td>15163.000000</td>\n",
       "      <td>15163.000000</td>\n",
       "      <td>15163.000000</td>\n",
       "      <td>15163.000000</td>\n",
       "      <td>15163.000000</td>\n",
       "      <td>15163.000000</td>\n",
       "      <td>15163.000000</td>\n",
       "      <td>15163.000000</td>\n",
       "      <td>15163.000000</td>\n",
       "    </tr>\n",
       "    <tr>\n",
       "      <th>mean</th>\n",
       "      <td>0.084506</td>\n",
       "      <td>0.050971</td>\n",
       "      <td>0.040614</td>\n",
       "      <td>0.058110</td>\n",
       "      <td>0.013314</td>\n",
       "      <td>0.035502</td>\n",
       "      <td>0.065881</td>\n",
       "      <td>0.077984</td>\n",
       "      <td>0.030437</td>\n",
       "      <td>0.056052</td>\n",
       "      <td>0.090029</td>\n",
       "      <td>0.055984</td>\n",
       "      <td>0.023887</td>\n",
       "      <td>0.039274</td>\n",
       "      <td>0.047583</td>\n",
       "      <td>0.058585</td>\n",
       "      <td>0.053107</td>\n",
       "      <td>0.013667</td>\n",
       "      <td>0.034062</td>\n",
       "      <td>0.069785</td>\n",
       "    </tr>\n",
       "    <tr>\n",
       "      <th>std</th>\n",
       "      <td>0.032675</td>\n",
       "      <td>0.020336</td>\n",
       "      <td>0.019259</td>\n",
       "      <td>0.015700</td>\n",
       "      <td>0.015795</td>\n",
       "      <td>0.015602</td>\n",
       "      <td>0.021530</td>\n",
       "      <td>0.024287</td>\n",
       "      <td>0.015540</td>\n",
       "      <td>0.021530</td>\n",
       "      <td>0.023967</td>\n",
       "      <td>0.027569</td>\n",
       "      <td>0.010748</td>\n",
       "      <td>0.014100</td>\n",
       "      <td>0.017502</td>\n",
       "      <td>0.020439</td>\n",
       "      <td>0.019708</td>\n",
       "      <td>0.010176</td>\n",
       "      <td>0.015447</td>\n",
       "      <td>0.019908</td>\n",
       "    </tr>\n",
       "    <tr>\n",
       "      <th>min</th>\n",
       "      <td>0.000000</td>\n",
       "      <td>0.000000</td>\n",
       "      <td>0.000000</td>\n",
       "      <td>0.000000</td>\n",
       "      <td>0.000000</td>\n",
       "      <td>0.000000</td>\n",
       "      <td>0.000000</td>\n",
       "      <td>0.000000</td>\n",
       "      <td>0.000000</td>\n",
       "      <td>0.000000</td>\n",
       "      <td>0.000000</td>\n",
       "      <td>0.000000</td>\n",
       "      <td>0.000000</td>\n",
       "      <td>0.000000</td>\n",
       "      <td>0.000000</td>\n",
       "      <td>0.000000</td>\n",
       "      <td>0.000000</td>\n",
       "      <td>0.000000</td>\n",
       "      <td>0.000000</td>\n",
       "      <td>0.000000</td>\n",
       "    </tr>\n",
       "    <tr>\n",
       "      <th>25%</th>\n",
       "      <td>0.061069</td>\n",
       "      <td>0.036585</td>\n",
       "      <td>0.028010</td>\n",
       "      <td>0.048387</td>\n",
       "      <td>0.004862</td>\n",
       "      <td>0.025112</td>\n",
       "      <td>0.052632</td>\n",
       "      <td>0.062500</td>\n",
       "      <td>0.019449</td>\n",
       "      <td>0.041734</td>\n",
       "      <td>0.074866</td>\n",
       "      <td>0.036545</td>\n",
       "      <td>0.016667</td>\n",
       "      <td>0.029740</td>\n",
       "      <td>0.036585</td>\n",
       "      <td>0.045627</td>\n",
       "      <td>0.041761</td>\n",
       "      <td>0.006536</td>\n",
       "      <td>0.023346</td>\n",
       "      <td>0.056793</td>\n",
       "    </tr>\n",
       "    <tr>\n",
       "      <th>50%</th>\n",
       "      <td>0.080952</td>\n",
       "      <td>0.049296</td>\n",
       "      <td>0.038462</td>\n",
       "      <td>0.057692</td>\n",
       "      <td>0.010667</td>\n",
       "      <td>0.034286</td>\n",
       "      <td>0.065134</td>\n",
       "      <td>0.076923</td>\n",
       "      <td>0.028571</td>\n",
       "      <td>0.054902</td>\n",
       "      <td>0.089912</td>\n",
       "      <td>0.055409</td>\n",
       "      <td>0.023179</td>\n",
       "      <td>0.038647</td>\n",
       "      <td>0.046512</td>\n",
       "      <td>0.056790</td>\n",
       "      <td>0.051724</td>\n",
       "      <td>0.012097</td>\n",
       "      <td>0.032895</td>\n",
       "      <td>0.068259</td>\n",
       "    </tr>\n",
       "    <tr>\n",
       "      <th>75%</th>\n",
       "      <td>0.104095</td>\n",
       "      <td>0.063291</td>\n",
       "      <td>0.050262</td>\n",
       "      <td>0.067742</td>\n",
       "      <td>0.017544</td>\n",
       "      <td>0.044304</td>\n",
       "      <td>0.078550</td>\n",
       "      <td>0.091703</td>\n",
       "      <td>0.039216</td>\n",
       "      <td>0.068000</td>\n",
       "      <td>0.104089</td>\n",
       "      <td>0.072559</td>\n",
       "      <td>0.030303</td>\n",
       "      <td>0.048148</td>\n",
       "      <td>0.057770</td>\n",
       "      <td>0.069498</td>\n",
       "      <td>0.062660</td>\n",
       "      <td>0.019041</td>\n",
       "      <td>0.043515</td>\n",
       "      <td>0.081633</td>\n",
       "    </tr>\n",
       "    <tr>\n",
       "      <th>max</th>\n",
       "      <td>0.416667</td>\n",
       "      <td>0.250000</td>\n",
       "      <td>0.400000</td>\n",
       "      <td>0.263158</td>\n",
       "      <td>0.419355</td>\n",
       "      <td>0.272727</td>\n",
       "      <td>0.333333</td>\n",
       "      <td>0.571429</td>\n",
       "      <td>0.219512</td>\n",
       "      <td>0.666667</td>\n",
       "      <td>0.235294</td>\n",
       "      <td>0.500000</td>\n",
       "      <td>0.200000</td>\n",
       "      <td>0.166667</td>\n",
       "      <td>0.357143</td>\n",
       "      <td>0.384615</td>\n",
       "      <td>0.944444</td>\n",
       "      <td>0.200000</td>\n",
       "      <td>0.400000</td>\n",
       "      <td>0.250000</td>\n",
       "    </tr>\n",
       "  </tbody>\n",
       "</table>\n",
       "</div>"
      ],
      "text/plain": [
       "                  A             R             N             D             C  \\\n",
       "count  15163.000000  15163.000000  15163.000000  15163.000000  15163.000000   \n",
       "mean       0.084506      0.050971      0.040614      0.058110      0.013314   \n",
       "std        0.032675      0.020336      0.019259      0.015700      0.015795   \n",
       "min        0.000000      0.000000      0.000000      0.000000      0.000000   \n",
       "25%        0.061069      0.036585      0.028010      0.048387      0.004862   \n",
       "50%        0.080952      0.049296      0.038462      0.057692      0.010667   \n",
       "75%        0.104095      0.063291      0.050262      0.067742      0.017544   \n",
       "max        0.416667      0.250000      0.400000      0.263158      0.419355   \n",
       "\n",
       "                  Q             E             G             H             I  \\\n",
       "count  15163.000000  15163.000000  15163.000000  15163.000000  15163.000000   \n",
       "mean       0.035502      0.065881      0.077984      0.030437      0.056052   \n",
       "std        0.015602      0.021530      0.024287      0.015540      0.021530   \n",
       "min        0.000000      0.000000      0.000000      0.000000      0.000000   \n",
       "25%        0.025112      0.052632      0.062500      0.019449      0.041734   \n",
       "50%        0.034286      0.065134      0.076923      0.028571      0.054902   \n",
       "75%        0.044304      0.078550      0.091703      0.039216      0.068000   \n",
       "max        0.272727      0.333333      0.571429      0.219512      0.666667   \n",
       "\n",
       "                  L             K             M             F             P  \\\n",
       "count  15163.000000  15163.000000  15163.000000  15163.000000  15163.000000   \n",
       "mean       0.090029      0.055984      0.023887      0.039274      0.047583   \n",
       "std        0.023967      0.027569      0.010748      0.014100      0.017502   \n",
       "min        0.000000      0.000000      0.000000      0.000000      0.000000   \n",
       "25%        0.074866      0.036545      0.016667      0.029740      0.036585   \n",
       "50%        0.089912      0.055409      0.023179      0.038647      0.046512   \n",
       "75%        0.104089      0.072559      0.030303      0.048148      0.057770   \n",
       "max        0.235294      0.500000      0.200000      0.166667      0.357143   \n",
       "\n",
       "                  S             T             W             Y             V  \n",
       "count  15163.000000  15163.000000  15163.000000  15163.000000  15163.000000  \n",
       "mean       0.058585      0.053107      0.013667      0.034062      0.069785  \n",
       "std        0.020439      0.019708      0.010176      0.015447      0.019908  \n",
       "min        0.000000      0.000000      0.000000      0.000000      0.000000  \n",
       "25%        0.045627      0.041761      0.006536      0.023346      0.056793  \n",
       "50%        0.056790      0.051724      0.012097      0.032895      0.068259  \n",
       "75%        0.069498      0.062660      0.019041      0.043515      0.081633  \n",
       "max        0.384615      0.944444      0.200000      0.400000      0.250000  "
      ]
     },
     "execution_count": 55,
     "metadata": {},
     "output_type": "execute_result"
    }
   ],
   "source": [
    "X_train.describe()"
   ]
  },
  {
   "cell_type": "markdown",
   "metadata": {},
   "source": [
    "### Lets scale the features using Standard Scaler"
   ]
  },
  {
   "cell_type": "code",
   "execution_count": 56,
   "metadata": {},
   "outputs": [],
   "source": [
    "X_train_std = StandardScaler().fit_transform(X_train)\n",
    "X_test_std= StandardScaler().fit_transform(X_test)"
   ]
  },
  {
   "cell_type": "code",
   "execution_count": null,
   "metadata": {},
   "outputs": [],
   "source": []
  },
  {
   "cell_type": "markdown",
   "metadata": {},
   "source": [
    "### Lets create, train and test our models"
   ]
  },
  {
   "cell_type": "markdown",
   "metadata": {},
   "source": [
    "### 1 . Lets create and train our Decision Tree Model\n"
   ]
  },
  {
   "cell_type": "code",
   "execution_count": 57,
   "metadata": {},
   "outputs": [
    {
     "data": {
      "text/plain": [
       "DecisionTreeClassifier(max_leaf_nodes=3000, random_state=0)"
      ]
     },
     "execution_count": 57,
     "metadata": {},
     "output_type": "execute_result"
    }
   ],
   "source": [
    "dtree_class= DecisionTreeClassifier(max_leaf_nodes=3000, random_state=0)\n",
    "#enzyme_tree_classifier= DecisionTreeClassifier()\n",
    "dtree_class.fit(X_train_std,y_train)"
   ]
  },
  {
   "cell_type": "markdown",
   "metadata": {},
   "source": [
    "### Lets make a prediction using our Test set"
   ]
  },
  {
   "cell_type": "code",
   "execution_count": 58,
   "metadata": {},
   "outputs": [],
   "source": [
    "dtree_predictions = dtree_class.predict(X_test_std)"
   ]
  },
  {
   "cell_type": "code",
   "execution_count": 59,
   "metadata": {},
   "outputs": [
    {
     "data": {
      "text/plain": [
       "array([0, 1, 2, 3, 4, 5])"
      ]
     },
     "execution_count": 59,
     "metadata": {},
     "output_type": "execute_result"
    }
   ],
   "source": [
    "np.unique(dtree_predictions)"
   ]
  },
  {
   "cell_type": "code",
   "execution_count": 60,
   "metadata": {
    "scrolled": true
   },
   "outputs": [
    {
     "name": "stdout",
     "output_type": "stream",
     "text": [
      "0.5490694872138171\n"
     ]
    }
   ],
   "source": [
    "dtree_accuracy=accuracy_score(y_test,dtree_predictions)\n",
    "print(dtree_accuracy)"
   ]
  },
  {
   "cell_type": "code",
   "execution_count": 61,
   "metadata": {},
   "outputs": [],
   "source": [
    "dtree_conmat = confusion_matrix(y_test, dtree_predictions)"
   ]
  },
  {
   "cell_type": "code",
   "execution_count": 62,
   "metadata": {},
   "outputs": [
    {
     "name": "stdout",
     "output_type": "stream",
     "text": [
      "[[1709   83   64  101  274  377]\n",
      " [  73  126   11   21   52   69]\n",
      " [  93   17   81   14   37   65]\n",
      " [ 126   39   24  229   89  100]\n",
      " [ 273   69   47   95  860  221]\n",
      " [ 416   91   76  111  240 1096]]\n"
     ]
    }
   ],
   "source": [
    "print(dtree_conmat)"
   ]
  },
  {
   "cell_type": "code",
   "execution_count": 63,
   "metadata": {},
   "outputs": [],
   "source": [
    "dtree_cr = classification_report(y_test, dtree_predictions)"
   ]
  },
  {
   "cell_type": "code",
   "execution_count": 64,
   "metadata": {
    "scrolled": false
   },
   "outputs": [
    {
     "name": "stdout",
     "output_type": "stream",
     "text": [
      "              precision    recall  f1-score   support\n",
      "\n",
      "           0       0.64      0.66      0.65      2608\n",
      "           1       0.30      0.36      0.32       352\n",
      "           2       0.27      0.26      0.27       307\n",
      "           3       0.40      0.38      0.39       607\n",
      "           4       0.55      0.55      0.55      1565\n",
      "           5       0.57      0.54      0.55      2030\n",
      "\n",
      "    accuracy                           0.55      7469\n",
      "   macro avg       0.45      0.46      0.45      7469\n",
      "weighted avg       0.55      0.55      0.55      7469\n",
      "\n"
     ]
    }
   ],
   "source": [
    "print(dtree_cr)"
   ]
  },
  {
   "cell_type": "markdown",
   "metadata": {},
   "source": [
    "### As the classifictation report is a text format, Lest use the funtion precision_recall_fscore to put its value in a list."
   ]
  },
  {
   "cell_type": "code",
   "execution_count": 65,
   "metadata": {
    "scrolled": true
   },
   "outputs": [],
   "source": [
    "l_dt=precision_recall_fscore_support(y_test, dtree_predictions, average='weighted')"
   ]
  },
  {
   "cell_type": "code",
   "execution_count": 66,
   "metadata": {},
   "outputs": [
    {
     "data": {
      "text/plain": [
       "(0.5500007875642222, 0.5490694872138171, 0.5492129934942356, None)"
      ]
     },
     "execution_count": 66,
     "metadata": {},
     "output_type": "execute_result"
    }
   ],
   "source": [
    "l_dt"
   ]
  },
  {
   "cell_type": "code",
   "execution_count": 67,
   "metadata": {},
   "outputs": [],
   "source": [
    "l_dt_lst=list(l_dt)"
   ]
  },
  {
   "cell_type": "code",
   "execution_count": 68,
   "metadata": {},
   "outputs": [
    {
     "data": {
      "text/plain": [
       "[0.5500007875642222, 0.5490694872138171, 0.5492129934942356, None]"
      ]
     },
     "execution_count": 68,
     "metadata": {},
     "output_type": "execute_result"
    }
   ],
   "source": [
    "l_dt_lst"
   ]
  },
  {
   "cell_type": "code",
   "execution_count": 69,
   "metadata": {},
   "outputs": [],
   "source": [
    "dtree_prf = list(filter(None,l_dt_lst))"
   ]
  },
  {
   "cell_type": "code",
   "execution_count": 70,
   "metadata": {},
   "outputs": [],
   "source": [
    "dtree_prf.append(dtree_accuracy)"
   ]
  },
  {
   "cell_type": "code",
   "execution_count": 71,
   "metadata": {},
   "outputs": [
    {
     "data": {
      "text/plain": [
       "[0.5500007875642222,\n",
       " 0.5490694872138171,\n",
       " 0.5492129934942356,\n",
       " 0.5490694872138171]"
      ]
     },
     "execution_count": 71,
     "metadata": {},
     "output_type": "execute_result"
    }
   ],
   "source": [
    "dtree_prf"
   ]
  },
  {
   "cell_type": "markdown",
   "metadata": {},
   "source": [
    "### Lets create and train our KNN MODEL\n"
   ]
  },
  {
   "cell_type": "code",
   "execution_count": 72,
   "metadata": {
    "scrolled": true
   },
   "outputs": [],
   "source": [
    "knn_class= KNeighborsClassifier(n_neighbors=3).fit(X_train_std, np.ravel(y_train))"
   ]
  },
  {
   "cell_type": "code",
   "execution_count": 73,
   "metadata": {},
   "outputs": [],
   "source": [
    "#Lets make predictions\n",
    "knn_predictions= knn_class.predict(X_test_std)"
   ]
  },
  {
   "cell_type": "code",
   "execution_count": 74,
   "metadata": {},
   "outputs": [
    {
     "name": "stdout",
     "output_type": "stream",
     "text": [
      "0.6308742803588164\n"
     ]
    }
   ],
   "source": [
    "knn_accuracy=knn_class.score(X_test_std,y_test)\n",
    "print(knn_accuracy)"
   ]
  },
  {
   "cell_type": "code",
   "execution_count": 75,
   "metadata": {},
   "outputs": [],
   "source": [
    "#lets create a confussion matrix\n",
    "knn_conmat=confusion_matrix(y_test,knn_predictions)"
   ]
  },
  {
   "cell_type": "code",
   "execution_count": 76,
   "metadata": {},
   "outputs": [
    {
     "name": "stdout",
     "output_type": "stream",
     "text": [
      "[[2006   43   60   88  165  246]\n",
      " [  88  163    9   18   42   32]\n",
      " [  83    4  112   14   33   61]\n",
      " [ 128   24   28  296   64   67]\n",
      " [ 278   55   41   66  968  157]\n",
      " [ 447   60   76  114  166 1167]]\n"
     ]
    }
   ],
   "source": [
    "print(knn_conmat)"
   ]
  },
  {
   "cell_type": "code",
   "execution_count": 77,
   "metadata": {},
   "outputs": [],
   "source": [
    "knn_cr= classification_report(y_test, knn_predictions)"
   ]
  },
  {
   "cell_type": "code",
   "execution_count": 78,
   "metadata": {
    "scrolled": false
   },
   "outputs": [
    {
     "name": "stdout",
     "output_type": "stream",
     "text": [
      "              precision    recall  f1-score   support\n",
      "\n",
      "           0       0.66      0.77      0.71      2608\n",
      "           1       0.47      0.46      0.47       352\n",
      "           2       0.34      0.36      0.35       307\n",
      "           3       0.50      0.49      0.49       607\n",
      "           4       0.67      0.62      0.64      1565\n",
      "           5       0.67      0.57      0.62      2030\n",
      "\n",
      "    accuracy                           0.63      7469\n",
      "   macro avg       0.55      0.55      0.55      7469\n",
      "weighted avg       0.63      0.63      0.63      7469\n",
      "\n"
     ]
    }
   ],
   "source": [
    "print(knn_cr)"
   ]
  },
  {
   "cell_type": "code",
   "execution_count": 79,
   "metadata": {},
   "outputs": [],
   "source": [
    "l_knn=precision_recall_fscore_support(y_test, knn_predictions, average='weighted')"
   ]
  },
  {
   "cell_type": "code",
   "execution_count": 80,
   "metadata": {},
   "outputs": [
    {
     "data": {
      "text/plain": [
       "(0.6320543619669385, 0.6308742803588164, 0.6287246262500799, None)"
      ]
     },
     "execution_count": 80,
     "metadata": {},
     "output_type": "execute_result"
    }
   ],
   "source": [
    "l_knn"
   ]
  },
  {
   "cell_type": "code",
   "execution_count": 81,
   "metadata": {},
   "outputs": [],
   "source": [
    "l_knn_lst=list(l_knn)"
   ]
  },
  {
   "cell_type": "code",
   "execution_count": 82,
   "metadata": {},
   "outputs": [],
   "source": [
    "knn_prf = list(filter(None,l_knn_lst))"
   ]
  },
  {
   "cell_type": "code",
   "execution_count": 83,
   "metadata": {},
   "outputs": [],
   "source": [
    "knn_prf.append(knn_accuracy)"
   ]
  },
  {
   "cell_type": "code",
   "execution_count": 84,
   "metadata": {},
   "outputs": [
    {
     "data": {
      "text/plain": [
       "[0.6320543619669385,\n",
       " 0.6308742803588164,\n",
       " 0.6287246262500799,\n",
       " 0.6308742803588164]"
      ]
     },
     "execution_count": 84,
     "metadata": {},
     "output_type": "execute_result"
    }
   ],
   "source": [
    "knn_prf"
   ]
  },
  {
   "cell_type": "markdown",
   "metadata": {},
   "source": [
    "### Lets create and train our svc model"
   ]
  },
  {
   "cell_type": "code",
   "execution_count": 85,
   "metadata": {
    "scrolled": true
   },
   "outputs": [],
   "source": [
    "svc_class=SVC(kernel='rbf',gamma='scale').fit(X_train_std,np.ravel(y_train))"
   ]
  },
  {
   "cell_type": "code",
   "execution_count": 86,
   "metadata": {},
   "outputs": [],
   "source": [
    "#lets make predictions\n",
    "svc_predictions=svc_class.predict(X_test_std)"
   ]
  },
  {
   "cell_type": "code",
   "execution_count": 87,
   "metadata": {},
   "outputs": [
    {
     "name": "stdout",
     "output_type": "stream",
     "text": [
      "0.5684830633284241\n"
     ]
    }
   ],
   "source": [
    "#Lets check accuracy\n",
    "svc_accuracy=svc_class.score(X_test_std,y_test)\n",
    "print(svc_accuracy)"
   ]
  },
  {
   "cell_type": "code",
   "execution_count": 88,
   "metadata": {},
   "outputs": [],
   "source": [
    "#lets create a confussion matrix\n",
    "svc_conmat= confusion_matrix(y_test,svc_predictions)"
   ]
  },
  {
   "cell_type": "code",
   "execution_count": 89,
   "metadata": {},
   "outputs": [
    {
     "name": "stdout",
     "output_type": "stream",
     "text": [
      "[[1914    1    0    7  215  471]\n",
      " [ 109   67    0    5   67  104]\n",
      " [  91    0   25    0   50  141]\n",
      " [ 172    1    0   78  151  205]\n",
      " [ 330    0    0    5  906  324]\n",
      " [ 502    2    2    9  259 1256]]\n"
     ]
    }
   ],
   "source": [
    "print(svc_conmat)"
   ]
  },
  {
   "cell_type": "code",
   "execution_count": 90,
   "metadata": {},
   "outputs": [],
   "source": [
    "svc_cr = classification_report(y_test, svc_predictions)"
   ]
  },
  {
   "cell_type": "code",
   "execution_count": 91,
   "metadata": {
    "scrolled": true
   },
   "outputs": [
    {
     "name": "stdout",
     "output_type": "stream",
     "text": [
      "              precision    recall  f1-score   support\n",
      "\n",
      "           0       0.61      0.73      0.67      2608\n",
      "           1       0.94      0.19      0.32       352\n",
      "           2       0.93      0.08      0.15       307\n",
      "           3       0.75      0.13      0.22       607\n",
      "           4       0.55      0.58      0.56      1565\n",
      "           5       0.50      0.62      0.55      2030\n",
      "\n",
      "    accuracy                           0.57      7469\n",
      "   macro avg       0.71      0.39      0.41      7469\n",
      "weighted avg       0.61      0.57      0.54      7469\n",
      "\n"
     ]
    }
   ],
   "source": [
    "print(svc_cr)"
   ]
  },
  {
   "cell_type": "code",
   "execution_count": 92,
   "metadata": {},
   "outputs": [],
   "source": [
    "l_svc=precision_recall_fscore_support(y_test, svc_predictions, average='weighted')"
   ]
  },
  {
   "cell_type": "code",
   "execution_count": 93,
   "metadata": {},
   "outputs": [],
   "source": [
    "l_svc_lst=list(l_svc)"
   ]
  },
  {
   "cell_type": "code",
   "execution_count": 94,
   "metadata": {},
   "outputs": [],
   "source": [
    "svc_prf=list(filter(None,l_svc_lst))"
   ]
  },
  {
   "cell_type": "code",
   "execution_count": 95,
   "metadata": {},
   "outputs": [],
   "source": [
    "svc_prf.append(svc_accuracy)"
   ]
  },
  {
   "cell_type": "code",
   "execution_count": 96,
   "metadata": {},
   "outputs": [
    {
     "data": {
      "text/plain": [
       "[0.6095121924349718,\n",
       " 0.5684830633284241,\n",
       " 0.5411978262888862,\n",
       " 0.5684830633284241]"
      ]
     },
     "execution_count": 96,
     "metadata": {},
     "output_type": "execute_result"
    }
   ],
   "source": [
    "svc_prf"
   ]
  },
  {
   "cell_type": "markdown",
   "metadata": {},
   "source": [
    "Lets plot results"
   ]
  },
  {
   "cell_type": "code",
   "execution_count": 97,
   "metadata": {},
   "outputs": [
    {
     "data": {
      "text/plain": [
       "<matplotlib.legend.Legend at 0x1fb2d2cdfa0>"
      ]
     },
     "execution_count": 97,
     "metadata": {},
     "output_type": "execute_result"
    },
    {
     "data": {
      "image/png": "[encoded data removed]",
      "text/plain": [
       "<Figure size 1008x576 with 1 Axes>"
      ]
     },
     "metadata": {
      "needs_background": "light"
     },
     "output_type": "display_data"
    }
   ],
   "source": [
    "labels=['Precision','Recall','F1-score','Accuracy']\n",
    "\n",
    "x = np.arange(len(labels))  \n",
    "width = 0.2 \n",
    "fig, ax= plt.subplots(figsize=(14,8))\n",
    "\n",
    "knn_bar=ax.bar(x-width,knn_prf,width,label='KnNeighbors')\n",
    "svc_bar=ax.bar(x,svc_prf,width,label=\"SVC\")\n",
    "dtree_bar=ax.bar(x+width,dtree_prf,width, label='Decision Tree')\n",
    "ax.set_title('Perfomance Metrics by Algorithm type(Case Option 1)',fontsize=16)\n",
    "ax.set_ylabel('Value(Average Weighted)', fontsize=14)\n",
    "ax.set_xticks(x)\n",
    "ax.set_xticklabels(labels, fontsize=14)\n",
    "ax.legend()\n",
    "#fig.tight_layout()\n",
    "\n",
    "\n"
   ]
  },
  {
   "cell_type": "code",
   "execution_count": null,
   "metadata": {},
   "outputs": [],
   "source": []
  },
  {
   "cell_type": "code",
   "execution_count": null,
   "metadata": {},
   "outputs": [],
   "source": []
  },
  {
   "cell_type": "markdown",
   "metadata": {},
   "source": [
    "### In the second part of our research we'll add \"pH\" and \"Temp (k)\" features to the Amino Acid Composition columns we used in the first part to predict the type of enzyme."
   ]
  },
  {
   "cell_type": "code",
   "execution_count": 98,
   "metadata": {},
   "outputs": [],
   "source": [
    "features_add=['pH','Temp (K)','A','R','N','D','C','Q','E','G','H','I','L','K','M','F','P','S','T','W','Y','V']\n",
    "X_add= data_pdb_search[features_add].copy()"
   ]
  },
  {
   "cell_type": "code",
   "execution_count": 99,
   "metadata": {},
   "outputs": [
    {
     "data": {
      "text/html": [
       "<div>\n",
       "<style scoped>\n",
       "    .dataframe tbody tr th:only-of-type {\n",
       "        vertical-align: middle;\n",
       "    }\n",
       "\n",
       "    .dataframe tbody tr th {\n",
       "        vertical-align: top;\n",
       "    }\n",
       "\n",
       "    .dataframe thead th {\n",
       "        text-align: right;\n",
       "    }\n",
       "</style>\n",
       "<table border=\"1\" class=\"dataframe\">\n",
       "  <thead>\n",
       "    <tr style=\"text-align: right;\">\n",
       "      <th></th>\n",
       "      <th>pH</th>\n",
       "      <th>Temp (K)</th>\n",
       "      <th>A</th>\n",
       "      <th>R</th>\n",
       "      <th>N</th>\n",
       "      <th>D</th>\n",
       "      <th>C</th>\n",
       "      <th>Q</th>\n",
       "      <th>E</th>\n",
       "      <th>G</th>\n",
       "      <th>...</th>\n",
       "      <th>L</th>\n",
       "      <th>K</th>\n",
       "      <th>M</th>\n",
       "      <th>F</th>\n",
       "      <th>P</th>\n",
       "      <th>S</th>\n",
       "      <th>T</th>\n",
       "      <th>W</th>\n",
       "      <th>Y</th>\n",
       "      <th>V</th>\n",
       "    </tr>\n",
       "  </thead>\n",
       "  <tbody>\n",
       "    <tr>\n",
       "      <th>0</th>\n",
       "      <td>7.0</td>\n",
       "      <td>294.0</td>\n",
       "      <td>0.037736</td>\n",
       "      <td>0.037736</td>\n",
       "      <td>0.056604</td>\n",
       "      <td>0.056604</td>\n",
       "      <td>0.018868</td>\n",
       "      <td>0.044025</td>\n",
       "      <td>0.050314</td>\n",
       "      <td>0.053459</td>\n",
       "      <td>...</td>\n",
       "      <td>0.088050</td>\n",
       "      <td>0.075472</td>\n",
       "      <td>0.025157</td>\n",
       "      <td>0.044025</td>\n",
       "      <td>0.069182</td>\n",
       "      <td>0.075472</td>\n",
       "      <td>0.050314</td>\n",
       "      <td>0.025157</td>\n",
       "      <td>0.056604</td>\n",
       "      <td>0.050314</td>\n",
       "    </tr>\n",
       "    <tr>\n",
       "      <th>1</th>\n",
       "      <td>6.5</td>\n",
       "      <td>285.0</td>\n",
       "      <td>0.076503</td>\n",
       "      <td>0.068306</td>\n",
       "      <td>0.038251</td>\n",
       "      <td>0.051913</td>\n",
       "      <td>0.010929</td>\n",
       "      <td>0.043716</td>\n",
       "      <td>0.079235</td>\n",
       "      <td>0.068306</td>\n",
       "      <td>...</td>\n",
       "      <td>0.117486</td>\n",
       "      <td>0.032787</td>\n",
       "      <td>0.040984</td>\n",
       "      <td>0.038251</td>\n",
       "      <td>0.054645</td>\n",
       "      <td>0.062842</td>\n",
       "      <td>0.049180</td>\n",
       "      <td>0.002732</td>\n",
       "      <td>0.019126</td>\n",
       "      <td>0.084699</td>\n",
       "    </tr>\n",
       "    <tr>\n",
       "      <th>2</th>\n",
       "      <td>8.0</td>\n",
       "      <td>289.0</td>\n",
       "      <td>0.100529</td>\n",
       "      <td>0.031746</td>\n",
       "      <td>0.058201</td>\n",
       "      <td>0.058201</td>\n",
       "      <td>0.010582</td>\n",
       "      <td>0.037037</td>\n",
       "      <td>0.047619</td>\n",
       "      <td>0.042328</td>\n",
       "      <td>...</td>\n",
       "      <td>0.068783</td>\n",
       "      <td>0.084656</td>\n",
       "      <td>0.047619</td>\n",
       "      <td>0.052910</td>\n",
       "      <td>0.047619</td>\n",
       "      <td>0.063492</td>\n",
       "      <td>0.052910</td>\n",
       "      <td>0.015873</td>\n",
       "      <td>0.047619</td>\n",
       "      <td>0.063492</td>\n",
       "    </tr>\n",
       "  </tbody>\n",
       "</table>\n",
       "<p>3 rows × 22 columns</p>\n",
       "</div>"
      ],
      "text/plain": [
       "    pH  Temp (K)         A         R         N         D         C         Q  \\\n",
       "0  7.0     294.0  0.037736  0.037736  0.056604  0.056604  0.018868  0.044025   \n",
       "1  6.5     285.0  0.076503  0.068306  0.038251  0.051913  0.010929  0.043716   \n",
       "2  8.0     289.0  0.100529  0.031746  0.058201  0.058201  0.010582  0.037037   \n",
       "\n",
       "          E         G  ...         L         K         M         F         P  \\\n",
       "0  0.050314  0.053459  ...  0.088050  0.075472  0.025157  0.044025  0.069182   \n",
       "1  0.079235  0.068306  ...  0.117486  0.032787  0.040984  0.038251  0.054645   \n",
       "2  0.047619  0.042328  ...  0.068783  0.084656  0.047619  0.052910  0.047619   \n",
       "\n",
       "          S         T         W         Y         V  \n",
       "0  0.075472  0.050314  0.025157  0.056604  0.050314  \n",
       "1  0.062842  0.049180  0.002732  0.019126  0.084699  \n",
       "2  0.063492  0.052910  0.015873  0.047619  0.063492  \n",
       "\n",
       "[3 rows x 22 columns]"
      ]
     },
     "execution_count": 99,
     "metadata": {},
     "output_type": "execute_result"
    }
   ],
   "source": [
    "X_add.head(3)"
   ]
  },
  {
   "cell_type": "code",
   "execution_count": 100,
   "metadata": {},
   "outputs": [],
   "source": [
    "X_train2, X_test2, y_train2, y_test2 = train_test_split(X_add, y, test_size=0.33, random_state=543)"
   ]
  },
  {
   "cell_type": "code",
   "execution_count": 101,
   "metadata": {},
   "outputs": [
    {
     "name": "stdout",
     "output_type": "stream",
     "text": [
      "15163\n",
      "7469\n",
      "15163\n",
      "7469\n"
     ]
    }
   ],
   "source": [
    "print(len(X_train2))\n",
    "print(len(X_test2))\n",
    "print(len(y_train2))\n",
    "print(len(y_test2))"
   ]
  },
  {
   "cell_type": "code",
   "execution_count": 102,
   "metadata": {
    "scrolled": true
   },
   "outputs": [
    {
     "data": {
      "text/plain": [
       "Type_Encode\n",
       "0              2608\n",
       "5              2030\n",
       "4              1565\n",
       "3               607\n",
       "1               352\n",
       "2               307\n",
       "dtype: int64"
      ]
     },
     "execution_count": 102,
     "metadata": {},
     "output_type": "execute_result"
    }
   ],
   "source": [
    "y_test2.value_counts()"
   ]
  },
  {
   "cell_type": "markdown",
   "metadata": {},
   "source": [
    "### Lets scale the features using Standard Scaler"
   ]
  },
  {
   "cell_type": "code",
   "execution_count": 103,
   "metadata": {},
   "outputs": [],
   "source": [
    "X_train2_std = StandardScaler().fit_transform(X_train2)\n",
    "X_test2_std= StandardScaler().fit_transform(X_test2)"
   ]
  },
  {
   "cell_type": "code",
   "execution_count": 104,
   "metadata": {
    "scrolled": true
   },
   "outputs": [
    {
     "data": {
      "text/plain": [
       "array([[-1.47002618e+00,  1.04898454e+00, -7.46137211e-01, ...,\n",
       "         5.22825715e-01,  4.84570372e-02,  4.68622317e-01],\n",
       "       [-2.65245035e-01,  5.98395373e-01,  3.99563775e-01, ...,\n",
       "         9.50170621e-02, -1.57352847e+00,  1.02771105e+00],\n",
       "       [-6.66838750e-01, -2.10513964e+00,  7.43130753e-01, ...,\n",
       "        -1.09575485e-01, -3.08997212e-01,  1.74898252e+00],\n",
       "       ...,\n",
       "       [-2.11257613e+00,  4.48198983e-01,  3.07689000e+00, ...,\n",
       "        -1.82424267e-01, -1.44049357e+00, -1.33005136e+00],\n",
       "       [-1.87161990e+00,  2.98002593e-01, -7.35202186e-01, ...,\n",
       "        -5.50610890e-01, -3.77808607e-01,  9.50642799e-01],\n",
       "       [ 5.37942397e-01, -2.39018590e-03,  4.46003610e-01, ...,\n",
       "        -6.63830506e-01, -5.64270322e-01,  3.14053439e-01]])"
      ]
     },
     "execution_count": 104,
     "metadata": {},
     "output_type": "execute_result"
    }
   ],
   "source": [
    "X_train2_std"
   ]
  },
  {
   "cell_type": "markdown",
   "metadata": {},
   "source": [
    "### Lets implement Decision Tree algorithm"
   ]
  },
  {
   "cell_type": "code",
   "execution_count": 105,
   "metadata": {},
   "outputs": [
    {
     "data": {
      "text/plain": [
       "DecisionTreeClassifier(max_leaf_nodes=3000, random_state=0)"
      ]
     },
     "execution_count": 105,
     "metadata": {},
     "output_type": "execute_result"
    }
   ],
   "source": [
    "dtree_class_2= DecisionTreeClassifier(max_leaf_nodes=3000, random_state=0)\n",
    "dtree_class_2.fit(X_train2_std,y_train2)"
   ]
  },
  {
   "cell_type": "code",
   "execution_count": 106,
   "metadata": {},
   "outputs": [],
   "source": [
    "dtree_predictions_2 = dtree_class_2.predict(X_test2_std)"
   ]
  },
  {
   "cell_type": "code",
   "execution_count": 107,
   "metadata": {},
   "outputs": [],
   "source": [
    "dtree_accuracy_2 = accuracy_score(y_test2,dtree_predictions_2)"
   ]
  },
  {
   "cell_type": "code",
   "execution_count": 108,
   "metadata": {},
   "outputs": [
    {
     "data": {
      "text/plain": [
       "0.5449189985272459"
      ]
     },
     "execution_count": 108,
     "metadata": {},
     "output_type": "execute_result"
    }
   ],
   "source": [
    "dtree_accuracy_2"
   ]
  },
  {
   "cell_type": "code",
   "execution_count": 109,
   "metadata": {},
   "outputs": [],
   "source": [
    "dtree_conmat_2= confusion_matrix(y_test2, dtree_predictions_2)"
   ]
  },
  {
   "cell_type": "code",
   "execution_count": 110,
   "metadata": {},
   "outputs": [
    {
     "name": "stdout",
     "output_type": "stream",
     "text": [
      "[[1710   81   65  121  271  360]\n",
      " [  84  120   13   19   43   73]\n",
      " [  90   19   79   15   43   61]\n",
      " [ 127   43   24  228   81  104]\n",
      " [ 293   66   49   80  835  242]\n",
      " [ 401   84   87  122  238 1098]]\n"
     ]
    }
   ],
   "source": [
    "print(dtree_conmat_2)"
   ]
  },
  {
   "cell_type": "code",
   "execution_count": 111,
   "metadata": {},
   "outputs": [],
   "source": [
    "dtree_cr_2 = classification_report(y_test2, dtree_predictions_2)"
   ]
  },
  {
   "cell_type": "code",
   "execution_count": 112,
   "metadata": {},
   "outputs": [
    {
     "name": "stdout",
     "output_type": "stream",
     "text": [
      "              precision    recall  f1-score   support\n",
      "\n",
      "           0       0.63      0.66      0.64      2608\n",
      "           1       0.29      0.34      0.31       352\n",
      "           2       0.25      0.26      0.25       307\n",
      "           3       0.39      0.38      0.38       607\n",
      "           4       0.55      0.53      0.54      1565\n",
      "           5       0.57      0.54      0.55      2030\n",
      "\n",
      "    accuracy                           0.54      7469\n",
      "   macro avg       0.45      0.45      0.45      7469\n",
      "weighted avg       0.55      0.54      0.55      7469\n",
      "\n"
     ]
    }
   ],
   "source": [
    "print(dtree_cr_2)"
   ]
  },
  {
   "cell_type": "code",
   "execution_count": 113,
   "metadata": {},
   "outputs": [],
   "source": [
    "l_dt_2=precision_recall_fscore_support(y_test2, dtree_predictions_2, average='weighted')"
   ]
  },
  {
   "cell_type": "code",
   "execution_count": 114,
   "metadata": {
    "scrolled": true
   },
   "outputs": [
    {
     "data": {
      "text/plain": [
       "(0.5461244477276285, 0.5449189985272459, 0.5452229293839294, None)"
      ]
     },
     "execution_count": 114,
     "metadata": {},
     "output_type": "execute_result"
    }
   ],
   "source": [
    "l_dt_2"
   ]
  },
  {
   "cell_type": "code",
   "execution_count": 115,
   "metadata": {},
   "outputs": [],
   "source": [
    "l_dt_lst_2=list(l_dt_2)"
   ]
  },
  {
   "cell_type": "code",
   "execution_count": 116,
   "metadata": {},
   "outputs": [
    {
     "data": {
      "text/plain": [
       "[0.5461244477276285, 0.5449189985272459, 0.5452229293839294, None]"
      ]
     },
     "execution_count": 116,
     "metadata": {},
     "output_type": "execute_result"
    }
   ],
   "source": [
    "l_dt_lst_2"
   ]
  },
  {
   "cell_type": "code",
   "execution_count": 117,
   "metadata": {},
   "outputs": [],
   "source": [
    "dtree_prf_2 = list(filter(None,l_dt_lst_2))"
   ]
  },
  {
   "cell_type": "code",
   "execution_count": 118,
   "metadata": {},
   "outputs": [],
   "source": [
    "dtree_prf_2.append(dtree_accuracy_2)"
   ]
  },
  {
   "cell_type": "code",
   "execution_count": 119,
   "metadata": {},
   "outputs": [
    {
     "data": {
      "text/plain": [
       "[0.5461244477276285,\n",
       " 0.5449189985272459,\n",
       " 0.5452229293839294,\n",
       " 0.5449189985272459]"
      ]
     },
     "execution_count": 119,
     "metadata": {},
     "output_type": "execute_result"
    }
   ],
   "source": [
    "dtree_prf_2"
   ]
  },
  {
   "cell_type": "markdown",
   "metadata": {},
   "source": [
    "### Lets implement KNN algorithm"
   ]
  },
  {
   "cell_type": "code",
   "execution_count": 120,
   "metadata": {
    "scrolled": true
   },
   "outputs": [],
   "source": [
    "knn_class_2= KNeighborsClassifier(n_neighbors=3).fit(X_train2_std, np.ravel(y_train2))"
   ]
  },
  {
   "cell_type": "code",
   "execution_count": 121,
   "metadata": {},
   "outputs": [],
   "source": [
    "#Lets make predictions\n",
    "knn_predictions_2= knn_class_2.predict(X_test2_std)"
   ]
  },
  {
   "cell_type": "code",
   "execution_count": 122,
   "metadata": {},
   "outputs": [
    {
     "name": "stdout",
     "output_type": "stream",
     "text": [
      "0.6153434194671308\n"
     ]
    }
   ],
   "source": [
    "knn_accuracy_2=knn_class_2.score(X_test2_std,y_test2)\n",
    "print(knn_accuracy_2)"
   ]
  },
  {
   "cell_type": "code",
   "execution_count": 123,
   "metadata": {},
   "outputs": [],
   "source": [
    "knn_conmat_2=confusion_matrix(y_test2,knn_predictions_2)"
   ]
  },
  {
   "cell_type": "code",
   "execution_count": 124,
   "metadata": {
    "scrolled": true
   },
   "outputs": [
    {
     "name": "stdout",
     "output_type": "stream",
     "text": [
      "[[1967   54   56   80  176  275]\n",
      " [  82  161   11   23   37   38]\n",
      " [  77   12  111   12   29   66]\n",
      " [ 138   35   39  270   55   70]\n",
      " [ 271   60   59   52  953  170]\n",
      " [ 476   55   67   93  205 1134]]\n"
     ]
    }
   ],
   "source": [
    "print(knn_conmat_2)"
   ]
  },
  {
   "cell_type": "code",
   "execution_count": 125,
   "metadata": {},
   "outputs": [],
   "source": [
    "knn_cr_2 = classification_report(y_test2, knn_predictions_2)"
   ]
  },
  {
   "cell_type": "code",
   "execution_count": 126,
   "metadata": {
    "scrolled": true
   },
   "outputs": [
    {
     "name": "stdout",
     "output_type": "stream",
     "text": [
      "              precision    recall  f1-score   support\n",
      "\n",
      "           0       0.65      0.75      0.70      2608\n",
      "           1       0.43      0.46      0.44       352\n",
      "           2       0.32      0.36      0.34       307\n",
      "           3       0.51      0.44      0.47       607\n",
      "           4       0.65      0.61      0.63      1565\n",
      "           5       0.65      0.56      0.60      2030\n",
      "\n",
      "    accuracy                           0.62      7469\n",
      "   macro avg       0.54      0.53      0.53      7469\n",
      "weighted avg       0.62      0.62      0.61      7469\n",
      "\n"
     ]
    }
   ],
   "source": [
    "print(knn_cr_2)"
   ]
  },
  {
   "cell_type": "code",
   "execution_count": 127,
   "metadata": {},
   "outputs": [],
   "source": [
    "l_knn_2=precision_recall_fscore_support(y_test2, knn_predictions_2, average='weighted')"
   ]
  },
  {
   "cell_type": "code",
   "execution_count": 128,
   "metadata": {},
   "outputs": [
    {
     "data": {
      "text/plain": [
       "(0.6159952411964108, 0.6153434194671308, 0.613105760373658, None)"
      ]
     },
     "execution_count": 128,
     "metadata": {},
     "output_type": "execute_result"
    }
   ],
   "source": [
    "l_knn_2"
   ]
  },
  {
   "cell_type": "code",
   "execution_count": 129,
   "metadata": {},
   "outputs": [],
   "source": [
    "l_knn_lst_2=list(l_knn_2)"
   ]
  },
  {
   "cell_type": "code",
   "execution_count": 130,
   "metadata": {},
   "outputs": [],
   "source": [
    "knn_prf_2 = list(filter(None,l_knn_lst_2))"
   ]
  },
  {
   "cell_type": "code",
   "execution_count": 131,
   "metadata": {},
   "outputs": [],
   "source": [
    "knn_prf_2.append(knn_accuracy_2)"
   ]
  },
  {
   "cell_type": "code",
   "execution_count": 132,
   "metadata": {},
   "outputs": [
    {
     "data": {
      "text/plain": [
       "[0.6159952411964108, 0.6153434194671308, 0.613105760373658, 0.6153434194671308]"
      ]
     },
     "execution_count": 132,
     "metadata": {},
     "output_type": "execute_result"
    }
   ],
   "source": [
    "knn_prf_2"
   ]
  },
  {
   "cell_type": "code",
   "execution_count": null,
   "metadata": {},
   "outputs": [],
   "source": []
  },
  {
   "cell_type": "markdown",
   "metadata": {},
   "source": [
    "### Lets implement SVC algorithm"
   ]
  },
  {
   "cell_type": "code",
   "execution_count": 133,
   "metadata": {},
   "outputs": [],
   "source": [
    "svc_class_2=SVC(kernel='rbf',gamma='scale').fit(X_train2_std,np.ravel(y_train2))"
   ]
  },
  {
   "cell_type": "code",
   "execution_count": 134,
   "metadata": {},
   "outputs": [],
   "source": [
    "#lets make predictions\n",
    "svc_predictions_2=svc_class_2.predict(X_test2_std)"
   ]
  },
  {
   "cell_type": "code",
   "execution_count": 135,
   "metadata": {},
   "outputs": [
    {
     "name": "stdout",
     "output_type": "stream",
     "text": [
      "0.5646003481055027\n"
     ]
    }
   ],
   "source": [
    "svc_accuracy_2=svc_class_2.score(X_test2_std,y_test2)\n",
    "print(svc_accuracy_2)"
   ]
  },
  {
   "cell_type": "code",
   "execution_count": 136,
   "metadata": {},
   "outputs": [],
   "source": [
    "svc_conmat_2= confusion_matrix(y_test2,svc_predictions_2)"
   ]
  },
  {
   "cell_type": "code",
   "execution_count": 137,
   "metadata": {},
   "outputs": [
    {
     "name": "stdout",
     "output_type": "stream",
     "text": [
      "[[1893    1    0    2  226  486]\n",
      " [ 115   60    0    4   58  115]\n",
      " [  92    0   22    0   48  145]\n",
      " [ 169    1    0   76  147  214]\n",
      " [ 332    0    0    2  908  323]\n",
      " [ 501    2    2    8  259 1258]]\n"
     ]
    }
   ],
   "source": [
    "print(svc_conmat_2)"
   ]
  },
  {
   "cell_type": "code",
   "execution_count": 138,
   "metadata": {},
   "outputs": [],
   "source": [
    "svc_cr_2 = classification_report(y_test2, svc_predictions_2)"
   ]
  },
  {
   "cell_type": "code",
   "execution_count": 139,
   "metadata": {},
   "outputs": [
    {
     "name": "stdout",
     "output_type": "stream",
     "text": [
      "              precision    recall  f1-score   support\n",
      "\n",
      "           0       0.61      0.73      0.66      2608\n",
      "           1       0.94      0.17      0.29       352\n",
      "           2       0.92      0.07      0.13       307\n",
      "           3       0.83      0.13      0.22       607\n",
      "           4       0.55      0.58      0.57      1565\n",
      "           5       0.50      0.62      0.55      2030\n",
      "\n",
      "    accuracy                           0.56      7469\n",
      "   macro avg       0.72      0.38      0.40      7469\n",
      "weighted avg       0.61      0.56      0.54      7469\n",
      "\n"
     ]
    }
   ],
   "source": [
    "print(svc_cr_2)"
   ]
  },
  {
   "cell_type": "code",
   "execution_count": 140,
   "metadata": {},
   "outputs": [],
   "source": [
    "l_svc_2=precision_recall_fscore_support(y_test2, svc_predictions_2, average='weighted')"
   ]
  },
  {
   "cell_type": "code",
   "execution_count": 141,
   "metadata": {},
   "outputs": [],
   "source": [
    "l_svc_lst_2=list(l_svc_2)"
   ]
  },
  {
   "cell_type": "code",
   "execution_count": 142,
   "metadata": {},
   "outputs": [],
   "source": [
    "svc_prf_2=list(filter(None,l_svc_lst_2))"
   ]
  },
  {
   "cell_type": "code",
   "execution_count": 143,
   "metadata": {},
   "outputs": [],
   "source": [
    "svc_prf_2.append(svc_accuracy_2)"
   ]
  },
  {
   "cell_type": "code",
   "execution_count": 144,
   "metadata": {
    "scrolled": true
   },
   "outputs": [
    {
     "data": {
      "text/plain": [
       "[0.6122262872121971,\n",
       " 0.5646003481055027,\n",
       " 0.5363543601941825,\n",
       " 0.5646003481055027]"
      ]
     },
     "execution_count": 144,
     "metadata": {},
     "output_type": "execute_result"
    }
   ],
   "source": [
    "svc_prf_2"
   ]
  },
  {
   "cell_type": "code",
   "execution_count": 145,
   "metadata": {},
   "outputs": [
    {
     "data": {
      "image/png": "[encoded data removed]",
      "text/plain": [
       "<Figure size 1008x576 with 1 Axes>"
      ]
     },
     "metadata": {
      "needs_background": "light"
     },
     "output_type": "display_data"
    }
   ],
   "source": [
    "labels=['Precision','Recall','F1-score','Accuracy']\n",
    "\n",
    "x = np.arange(len(labels))  \n",
    "width = 0.15 \n",
    "fig, ax= plt.subplots(figsize=(14,8))\n",
    "\n",
    "knn_bar=ax.bar(x-width,knn_prf,width,label='KnNeighbors')\n",
    "knn_bar_2=ax.bar(x-width/2,knn_prf_2,width,label='KnNeighbors_Op2')\n",
    "svc_bar=ax.bar(x,svc_prf,width,label=\"SVC\")\n",
    "svc_bar_2=ax.bar(x+width/2,svc_prf_2,width,label=\"SVC_Op2\")\n",
    "dtree_bar=ax.bar(x+width,dtree_prf,width, label='Decision Tree')\n",
    "dtree_bar_2=ax.bar(x+width+width/2,dtree_prf_2,width, label='Decision Tree_Op2')\n",
    "ax.set_title('Perfomance Metrics by Algorithm type(Comparison Cases Opcion 1 and 2)',fontsize=16)\n",
    "ax.set_ylabel('Value(Average Weighted)', fontsize=14)\n",
    "ax.set_xticks(x)\n",
    "ax.set_xticklabels(labels, fontsize=14)\n",
    "ax.legend(loc=\"lower right\")\n",
    "fig.tight_layout()\n",
    "\n",
    "def autolabel(rects):\n",
    "    \"\"\"Attach a text label above each bar in *rects*, displaying its height.\"\"\"\n",
    "    for rect in rects:\n",
    "        height = rect.get_height()\n",
    "        ax.annotate('{:.2f}'.format(height),\n",
    "                    xy=(rect.get_x() + rect.get_width() / 2, height),\n",
    "                    xytext=(0, 3),  # 3 points vertical offset\n",
    "                    textcoords=\"offset points\",\n",
    "                    ha='center', va='bottom')\n",
    "\n",
    "\n",
    "autolabel(knn_bar)\n",
    "autolabel(knn_bar_2)\n",
    "autolabel(svc_bar)\n",
    "autolabel(svc_bar_2)"
   ]
  },
  {
   "cell_type": "code",
   "execution_count": 146,
   "metadata": {},
   "outputs": [
    {
     "name": "stdout",
     "output_type": "stream",
     "text": [
      ">1, train: 0.348, test: 0.349\n",
      ">2, train: 0.350, test: 0.352\n",
      ">3, train: 0.376, test: 0.369\n",
      ">4, train: 0.404, test: 0.398\n",
      ">5, train: 0.425, test: 0.414\n",
      ">6, train: 0.438, test: 0.420\n",
      ">7, train: 0.469, test: 0.436\n",
      ">8, train: 0.500, test: 0.451\n",
      ">9, train: 0.534, test: 0.459\n",
      ">10, train: 0.571, test: 0.468\n",
      ">11, train: 0.621, test: 0.482\n",
      ">12, train: 0.666, test: 0.492\n",
      ">13, train: 0.710, test: 0.501\n",
      ">14, train: 0.755, test: 0.507\n",
      ">15, train: 0.797, test: 0.520\n",
      ">16, train: 0.834, test: 0.526\n",
      ">17, train: 0.866, test: 0.530\n",
      ">18, train: 0.899, test: 0.544\n",
      ">19, train: 0.925, test: 0.546\n",
      ">20, train: 0.947, test: 0.549\n",
      ">21, train: 0.964, test: 0.553\n",
      ">22, train: 0.975, test: 0.551\n",
      ">23, train: 0.983, test: 0.553\n",
      ">24, train: 0.989, test: 0.554\n",
      ">25, train: 0.994, test: 0.551\n",
      ">26, train: 0.996, test: 0.556\n",
      ">27, train: 0.998, test: 0.555\n",
      ">28, train: 0.999, test: 0.551\n",
      ">29, train: 0.999, test: 0.552\n"
     ]
    },
    {
     "data": {
      "image/png": "[encoded data removed]",
      "text/plain": [
       "<Figure size 432x288 with 1 Axes>"
      ]
     },
     "metadata": {
      "needs_background": "light"
     },
     "output_type": "display_data"
    }
   ],
   "source": [
    "# define lists to collect scores\n",
    "train_scores, test_scores = list(), list()\n",
    "# define the tree depths to evaluate\n",
    "values = [i for i in range(1, 30)]\n",
    "# evaluate a decision tree for each depth\n",
    "for i in values:\n",
    "\t# configure the model\n",
    "\tmodel = DecisionTreeClassifier(max_depth=i)\n",
    "\t# fit model on the training dataset\n",
    "\tmodel.fit(X_train_std, y_train)\n",
    "\t# evaluate on the train dataset\n",
    "\ttrain_yhat = model.predict(X_train_std)\n",
    "\ttrain_acc = accuracy_score(y_train, train_yhat)\n",
    "\ttrain_scores.append(train_acc)\n",
    "\t# evaluate on the test dataset\n",
    "\ttest_yhat = model.predict(X_test_std)\n",
    "\ttest_acc = accuracy_score(y_test, test_yhat)\n",
    "\ttest_scores.append(test_acc)\n",
    "\t# summarize progress\n",
    "\tprint('>%d, train: %.3f, test: %.3f' % (i, train_acc, test_acc))\n",
    "# plot of train and test scores vs tree depth\n",
    "plt.plot(values, train_scores, '-o', label='Train')\n",
    "plt.plot(values, test_scores, '-o', label='Test')\n",
    "plt.legend()\n",
    "plt.show()"
   ]
  },
  {
   "cell_type": "code",
   "execution_count": 147,
   "metadata": {},
   "outputs": [],
   "source": [
    "def disp_conmat(conmat):\n",
    "    columns = ['HYDROLASE','ISOMERASE','LIGASE','LYASE','OXYDOREDUCTASE','TRANSFERASE']  \n",
    "    index =['HYDROLASE','ISOMERASE','LIGASE','LYASE','OXYDOREDUCTASE','TRANSFERASE']\n",
    "    df_conmat = pd.DataFrame(conmat,columns,index)                      \n",
    "#    plt.figure(figsize=(14,6))\n",
    "#   df_conmat.index.name='Actual'\n",
    "    sns.heatmap(df_conmat, annot=True,cmap=\"YlGnBu\",fmt='',ax=ax)\n",
    "    ax.set_xlabel('Predicted Class',fontsize=16)\n",
    "    ax.set_ylabel('Actual Class', fontsize=16)"
   ]
  },
  {
   "cell_type": "code",
   "execution_count": 148,
   "metadata": {},
   "outputs": [
    {
     "data": {
      "image/png": "[encoded data removed]",
      "text/plain": [
       "<Figure size 1008x432 with 2 Axes>"
      ]
     },
     "metadata": {
      "needs_background": "light"
     },
     "output_type": "display_data"
    }
   ],
   "source": [
    "fig, ax=plt.subplots(figsize=(14,6))\n",
    "disp_conmat(dtree_conmat)\n"
   ]
  },
  {
   "cell_type": "code",
   "execution_count": 149,
   "metadata": {
    "scrolled": true
   },
   "outputs": [
    {
     "data": {
      "image/png": "[encoded data removed]",
      "text/plain": [
       "<Figure size 1008x432 with 2 Axes>"
      ]
     },
     "metadata": {
      "needs_background": "light"
     },
     "output_type": "display_data"
    }
   ],
   "source": [
    "fig, ax=plt.subplots(figsize=(14,6))\n",
    "disp_conmat(knn_conmat)"
   ]
  },
  {
   "cell_type": "code",
   "execution_count": 150,
   "metadata": {},
   "outputs": [
    {
     "data": {
      "image/png": "[encoded data removed]",
      "text/plain": [
       "<Figure size 1008x432 with 2 Axes>"
      ]
     },
     "metadata": {
      "needs_background": "light"
     },
     "output_type": "display_data"
    }
   ],
   "source": [
    "fig, ax=plt.subplots(figsize=(14,6))\n",
    "disp_conmat(svc_conmat)\n"
   ]
  },
  {
   "cell_type": "markdown",
   "metadata": {},
   "source": [
    "### lets use SMOTE"
   ]
  },
  {
   "cell_type": "code",
   "execution_count": 151,
   "metadata": {},
   "outputs": [
    {
     "data": {
      "text/plain": [
       "15163"
      ]
     },
     "execution_count": 151,
     "metadata": {},
     "output_type": "execute_result"
    }
   ],
   "source": [
    "len(X_train)"
   ]
  },
  {
   "cell_type": "code",
   "execution_count": 152,
   "metadata": {
    "scrolled": true
   },
   "outputs": [
    {
     "data": {
      "text/plain": [
       "15163"
      ]
     },
     "execution_count": 152,
     "metadata": {},
     "output_type": "execute_result"
    }
   ],
   "source": [
    "len(y_train)"
   ]
  },
  {
   "cell_type": "code",
   "execution_count": 153,
   "metadata": {},
   "outputs": [
    {
     "data": {
      "text/plain": [
       "Type_Encode\n",
       "0              5284\n",
       "5              3997\n",
       "4              3208\n",
       "3              1226\n",
       "1               799\n",
       "2               649\n",
       "dtype: int64"
      ]
     },
     "execution_count": 153,
     "metadata": {},
     "output_type": "execute_result"
    }
   ],
   "source": [
    "y_train.value_counts()"
   ]
  },
  {
   "cell_type": "code",
   "execution_count": null,
   "metadata": {},
   "outputs": [],
   "source": []
  },
  {
   "cell_type": "code",
   "execution_count": 154,
   "metadata": {},
   "outputs": [],
   "source": [
    "X_train_smt, y_train_smt=SMOTE().fit_resample(X_train_std,y_train)"
   ]
  },
  {
   "cell_type": "code",
   "execution_count": 155,
   "metadata": {},
   "outputs": [
    {
     "data": {
      "text/plain": [
       "Type_Encode\n",
       "5              5284\n",
       "4              5284\n",
       "3              5284\n",
       "2              5284\n",
       "1              5284\n",
       "0              5284\n",
       "dtype: int64"
      ]
     },
     "execution_count": 155,
     "metadata": {},
     "output_type": "execute_result"
    }
   ],
   "source": [
    "y_train_smt.value_counts()"
   ]
  },
  {
   "cell_type": "code",
   "execution_count": 156,
   "metadata": {},
   "outputs": [
    {
     "data": {
      "text/plain": [
       "DecisionTreeClassifier(max_leaf_nodes=3000, random_state=0)"
      ]
     },
     "execution_count": 156,
     "metadata": {},
     "output_type": "execute_result"
    }
   ],
   "source": [
    "dtree_class_smt= DecisionTreeClassifier(max_leaf_nodes=3000, random_state=0)\n",
    "#enzyme_tree_classifier= DecisionTreeClassifier()\n",
    "dtree_class_smt.fit(X_train_smt,y_train_smt)"
   ]
  },
  {
   "cell_type": "markdown",
   "metadata": {},
   "source": [
    "### Lets make a prediction using our Test set"
   ]
  },
  {
   "cell_type": "code",
   "execution_count": 157,
   "metadata": {},
   "outputs": [],
   "source": [
    "dtree_predictions_smt = dtree_class_smt.predict(X_test_std)"
   ]
  },
  {
   "cell_type": "code",
   "execution_count": 158,
   "metadata": {},
   "outputs": [
    {
     "data": {
      "text/plain": [
       "array([0, 1, 2, 3, 4, 5])"
      ]
     },
     "execution_count": 158,
     "metadata": {},
     "output_type": "execute_result"
    }
   ],
   "source": [
    "np.unique(dtree_predictions)"
   ]
  },
  {
   "cell_type": "code",
   "execution_count": 159,
   "metadata": {
    "scrolled": true
   },
   "outputs": [
    {
     "name": "stdout",
     "output_type": "stream",
     "text": [
      "0.5138572767438747\n"
     ]
    }
   ],
   "source": [
    "dtree_accuracy_smt=accuracy_score(y_test,dtree_predictions_smt)\n",
    "print(dtree_accuracy_smt)"
   ]
  },
  {
   "cell_type": "code",
   "execution_count": 160,
   "metadata": {},
   "outputs": [],
   "source": [
    "dtree_conmat_smt= confusion_matrix(y_test, dtree_predictions_smt)"
   ]
  },
  {
   "cell_type": "code",
   "execution_count": 161,
   "metadata": {
    "scrolled": true
   },
   "outputs": [
    {
     "name": "stdout",
     "output_type": "stream",
     "text": [
      "[[1556  121  139  185  244  363]\n",
      " [  64  153   27   21   38   49]\n",
      " [  46   23  111   29   38   60]\n",
      " [  99   54   33  247   92   82]\n",
      " [ 217  126   81  145  801  195]\n",
      " [ 370  134  169  172  215  970]]\n"
     ]
    }
   ],
   "source": [
    "print(dtree_conmat_smt)"
   ]
  },
  {
   "cell_type": "code",
   "execution_count": 162,
   "metadata": {},
   "outputs": [
    {
     "name": "stdout",
     "output_type": "stream",
     "text": [
      "[[1709   83   64  101  274  377]\n",
      " [  73  126   11   21   52   69]\n",
      " [  93   17   81   14   37   65]\n",
      " [ 126   39   24  229   89  100]\n",
      " [ 273   69   47   95  860  221]\n",
      " [ 416   91   76  111  240 1096]]\n"
     ]
    }
   ],
   "source": [
    "print(dtree_conmat)"
   ]
  },
  {
   "cell_type": "code",
   "execution_count": 163,
   "metadata": {},
   "outputs": [],
   "source": [
    "dtree_cr_smt = classification_report(y_test, dtree_predictions_smt)"
   ]
  },
  {
   "cell_type": "code",
   "execution_count": 164,
   "metadata": {
    "scrolled": false
   },
   "outputs": [
    {
     "name": "stdout",
     "output_type": "stream",
     "text": [
      "              precision    recall  f1-score   support\n",
      "\n",
      "           0       0.64      0.66      0.65      2608\n",
      "           1       0.30      0.36      0.32       352\n",
      "           2       0.27      0.26      0.27       307\n",
      "           3       0.40      0.38      0.39       607\n",
      "           4       0.55      0.55      0.55      1565\n",
      "           5       0.57      0.54      0.55      2030\n",
      "\n",
      "    accuracy                           0.55      7469\n",
      "   macro avg       0.45      0.46      0.45      7469\n",
      "weighted avg       0.55      0.55      0.55      7469\n",
      "\n"
     ]
    }
   ],
   "source": [
    "print(dtree_cr)"
   ]
  },
  {
   "cell_type": "code",
   "execution_count": 165,
   "metadata": {},
   "outputs": [
    {
     "name": "stdout",
     "output_type": "stream",
     "text": [
      "              precision    recall  f1-score   support\n",
      "\n",
      "           0       0.66      0.60      0.63      2608\n",
      "           1       0.25      0.43      0.32       352\n",
      "           2       0.20      0.36      0.26       307\n",
      "           3       0.31      0.41      0.35       607\n",
      "           4       0.56      0.51      0.54      1565\n",
      "           5       0.56      0.48      0.52      2030\n",
      "\n",
      "    accuracy                           0.51      7469\n",
      "   macro avg       0.42      0.46      0.43      7469\n",
      "weighted avg       0.55      0.51      0.53      7469\n",
      "\n"
     ]
    }
   ],
   "source": [
    "print(dtree_cr_smt)"
   ]
  },
  {
   "cell_type": "markdown",
   "metadata": {},
   "source": [
    "### As the classifictation report is a text format, Lest use the funtion precision_recall_fscore to put its value in a list."
   ]
  },
  {
   "cell_type": "code",
   "execution_count": 166,
   "metadata": {
    "scrolled": true
   },
   "outputs": [],
   "source": [
    "l_dt_smt=precision_recall_fscore_support(y_test, dtree_predictions_smt, average='weighted')"
   ]
  },
  {
   "cell_type": "code",
   "execution_count": 167,
   "metadata": {},
   "outputs": [
    {
     "data": {
      "text/plain": [
       "(0.5469728701159969, 0.5138572767438747, 0.5259299442069287, None)"
      ]
     },
     "execution_count": 167,
     "metadata": {},
     "output_type": "execute_result"
    }
   ],
   "source": [
    "l_dt_smt"
   ]
  },
  {
   "cell_type": "code",
   "execution_count": 168,
   "metadata": {},
   "outputs": [],
   "source": [
    "l_dt_lst_smt=list(l_dt_smt)"
   ]
  },
  {
   "cell_type": "code",
   "execution_count": 169,
   "metadata": {},
   "outputs": [
    {
     "data": {
      "text/plain": [
       "[0.5469728701159969, 0.5138572767438747, 0.5259299442069287, None]"
      ]
     },
     "execution_count": 169,
     "metadata": {},
     "output_type": "execute_result"
    }
   ],
   "source": [
    "l_dt_lst_smt"
   ]
  },
  {
   "cell_type": "code",
   "execution_count": 170,
   "metadata": {},
   "outputs": [],
   "source": [
    "dtree_prf_smt = list(filter(None,l_dt_lst_smt))"
   ]
  },
  {
   "cell_type": "code",
   "execution_count": 171,
   "metadata": {},
   "outputs": [],
   "source": [
    "dtree_prf_smt.append(dtree_accuracy_smt)"
   ]
  },
  {
   "cell_type": "code",
   "execution_count": 172,
   "metadata": {
    "scrolled": true
   },
   "outputs": [
    {
     "data": {
      "text/plain": [
       "[0.5469728701159969,\n",
       " 0.5138572767438747,\n",
       " 0.5259299442069287,\n",
       " 0.5138572767438747]"
      ]
     },
     "execution_count": 172,
     "metadata": {},
     "output_type": "execute_result"
    }
   ],
   "source": [
    "dtree_prf_smt"
   ]
  },
  {
   "cell_type": "markdown",
   "metadata": {},
   "source": [
    "### lets graph classification report by type of enzyme for Decision tree Option 1"
   ]
  },
  {
   "cell_type": "code",
   "execution_count": 173,
   "metadata": {},
   "outputs": [],
   "source": [
    "def enz_type_per(dftest1):\n",
    "    labels_per=['Precision','Recall','F1-score']\n",
    "    x = np.arange(len(labels_per))  \n",
    "    width = 0.15 \n",
    "    hyd=ax.bar(x-2*width,dftest1.loc['HYDROLASE'][:3].values,width,label=dftest1.index[0])\n",
    "    oxy=ax.bar(x-width,dftest1.loc['OXYDOREDUCTASE'][:3].values,width,label=dftest1.index[4])\n",
    "    tra=ax.bar(x,dftest1.loc['TRANSFERASE'][:3].values,width,label=dftest1.index[5])\n",
    "    lya=ax.bar(x+width,dftest1.loc['LYASE'][:3].values,width,label=dftest1.index[3])\n",
    "    iso=ax.bar(x+2*width,dftest1.loc['ISOMERASE'][:3].values,width,label=dftest1.index[1])\n",
    "    lig=ax.bar(x+3*width,dftest1.loc['LIGASE'][:3].values,width,label=dftest1.index[2])\n",
    "    ax.set_ylabel('Value (Decimal)', fontsize=14)\n",
    "    ax.set_xticks(x)\n",
    "    ax.set_xticklabels(labels_per, fontsize=14)\n",
    "    ax.legend(loc=\"lower right\")\n",
    "    fig.tight_layout()\n",
    "    autolabel(hyd)\n",
    "    autolabel(iso)\n",
    "    autolabel(lig)\n",
    "    autolabel(lya)\n",
    "    autolabel(oxy)\n",
    "    autolabel(tra)\n",
    "    "
   ]
  },
  {
   "cell_type": "code",
   "execution_count": 174,
   "metadata": {},
   "outputs": [],
   "source": [
    "tar_names = ['HYDROLASE','ISOMERASE','LIGASE','LYASE','OXYDOREDUCTASE','TRANSFERASE']\n",
    "dtree_cr_smt_dict = classification_report(y_test, dtree_predictions_smt,output_dict=True,target_names=tar_names)"
   ]
  },
  {
   "cell_type": "code",
   "execution_count": 175,
   "metadata": {},
   "outputs": [],
   "source": [
    "df_dtree_cr_smt=pd.DataFrame.from_dict(dtree_cr_smt_dict)"
   ]
  },
  {
   "cell_type": "code",
   "execution_count": 176,
   "metadata": {},
   "outputs": [],
   "source": [
    "df_dtree_cr_smt=df_dtree_cr_smt.T"
   ]
  },
  {
   "cell_type": "code",
   "execution_count": 177,
   "metadata": {
    "scrolled": false
   },
   "outputs": [
    {
     "data": {
      "text/html": [
       "<div>\n",
       "<style scoped>\n",
       "    .dataframe tbody tr th:only-of-type {\n",
       "        vertical-align: middle;\n",
       "    }\n",
       "\n",
       "    .dataframe tbody tr th {\n",
       "        vertical-align: top;\n",
       "    }\n",
       "\n",
       "    .dataframe thead th {\n",
       "        text-align: right;\n",
       "    }\n",
       "</style>\n",
       "<table border=\"1\" class=\"dataframe\">\n",
       "  <thead>\n",
       "    <tr style=\"text-align: right;\">\n",
       "      <th></th>\n",
       "      <th>precision</th>\n",
       "      <th>recall</th>\n",
       "      <th>f1-score</th>\n",
       "      <th>support</th>\n",
       "    </tr>\n",
       "  </thead>\n",
       "  <tbody>\n",
       "    <tr>\n",
       "      <th>HYDROLASE</th>\n",
       "      <td>0.661565</td>\n",
       "      <td>0.596626</td>\n",
       "      <td>0.627419</td>\n",
       "      <td>2608.000000</td>\n",
       "    </tr>\n",
       "    <tr>\n",
       "      <th>ISOMERASE</th>\n",
       "      <td>0.250409</td>\n",
       "      <td>0.434659</td>\n",
       "      <td>0.317757</td>\n",
       "      <td>352.000000</td>\n",
       "    </tr>\n",
       "    <tr>\n",
       "      <th>LIGASE</th>\n",
       "      <td>0.198214</td>\n",
       "      <td>0.361564</td>\n",
       "      <td>0.256055</td>\n",
       "      <td>307.000000</td>\n",
       "    </tr>\n",
       "    <tr>\n",
       "      <th>LYASE</th>\n",
       "      <td>0.309136</td>\n",
       "      <td>0.406919</td>\n",
       "      <td>0.351351</td>\n",
       "      <td>607.000000</td>\n",
       "    </tr>\n",
       "    <tr>\n",
       "      <th>OXYDOREDUCTASE</th>\n",
       "      <td>0.560924</td>\n",
       "      <td>0.511821</td>\n",
       "      <td>0.535249</td>\n",
       "      <td>1565.000000</td>\n",
       "    </tr>\n",
       "    <tr>\n",
       "      <th>TRANSFERASE</th>\n",
       "      <td>0.564282</td>\n",
       "      <td>0.477833</td>\n",
       "      <td>0.517471</td>\n",
       "      <td>2030.000000</td>\n",
       "    </tr>\n",
       "    <tr>\n",
       "      <th>accuracy</th>\n",
       "      <td>0.513857</td>\n",
       "      <td>0.513857</td>\n",
       "      <td>0.513857</td>\n",
       "      <td>0.513857</td>\n",
       "    </tr>\n",
       "    <tr>\n",
       "      <th>macro avg</th>\n",
       "      <td>0.424088</td>\n",
       "      <td>0.464904</td>\n",
       "      <td>0.434217</td>\n",
       "      <td>7469.000000</td>\n",
       "    </tr>\n",
       "    <tr>\n",
       "      <th>weighted avg</th>\n",
       "      <td>0.546973</td>\n",
       "      <td>0.513857</td>\n",
       "      <td>0.525930</td>\n",
       "      <td>7469.000000</td>\n",
       "    </tr>\n",
       "  </tbody>\n",
       "</table>\n",
       "</div>"
      ],
      "text/plain": [
       "                precision    recall  f1-score      support\n",
       "HYDROLASE        0.661565  0.596626  0.627419  2608.000000\n",
       "ISOMERASE        0.250409  0.434659  0.317757   352.000000\n",
       "LIGASE           0.198214  0.361564  0.256055   307.000000\n",
       "LYASE            0.309136  0.406919  0.351351   607.000000\n",
       "OXYDOREDUCTASE   0.560924  0.511821  0.535249  1565.000000\n",
       "TRANSFERASE      0.564282  0.477833  0.517471  2030.000000\n",
       "accuracy         0.513857  0.513857  0.513857     0.513857\n",
       "macro avg        0.424088  0.464904  0.434217  7469.000000\n",
       "weighted avg     0.546973  0.513857  0.525930  7469.000000"
      ]
     },
     "execution_count": 177,
     "metadata": {},
     "output_type": "execute_result"
    }
   ],
   "source": [
    "df_dtree_cr_smt"
   ]
  },
  {
   "cell_type": "code",
   "execution_count": 178,
   "metadata": {
    "scrolled": false
   },
   "outputs": [
    {
     "data": {
      "image/png": "[encoded data removed]",
      "text/plain": [
       "<Figure size 1008x576 with 1 Axes>"
      ]
     },
     "metadata": {
      "needs_background": "light"
     },
     "output_type": "display_data"
    }
   ],
   "source": [
    "fig, ax= plt.subplots(figsize=(14,8))\n",
    "ax.set_title('Perfomance Metrics by type of enzyme for Decision Tree algorithm(Option 1)',fontsize=16)\n",
    "enz_type_per(df_dtree_cr_smt)"
   ]
  },
  {
   "cell_type": "code",
   "execution_count": 179,
   "metadata": {},
   "outputs": [
    {
     "data": {
      "text/plain": [
       "Text(0.5, 1.0, 'Confusion Matrix for Decision Tree algorithm-Option 1 (Number of predictions)')"
      ]
     },
     "execution_count": 179,
     "metadata": {},
     "output_type": "execute_result"
    },
    {
     "data": {
      "image/png": "[encoded data removed]",
      "text/plain": [
       "<Figure size 1008x432 with 2 Axes>"
      ]
     },
     "metadata": {
      "needs_background": "light"
     },
     "output_type": "display_data"
    }
   ],
   "source": [
    "fig, ax=plt.subplots(figsize=(14,6))\n",
    "disp_conmat(dtree_conmat_smt)\n",
    "ax.set_title('Confusion Matrix for Decision Tree algorithm-Option 1 (Number of predictions)',fontsize=16)"
   ]
  },
  {
   "cell_type": "code",
   "execution_count": null,
   "metadata": {},
   "outputs": [],
   "source": []
  },
  {
   "cell_type": "code",
   "execution_count": null,
   "metadata": {},
   "outputs": [],
   "source": []
  },
  {
   "cell_type": "markdown",
   "metadata": {},
   "source": [
    "### Lets create and train our KNN MODEL\n"
   ]
  },
  {
   "cell_type": "code",
   "execution_count": 180,
   "metadata": {
    "scrolled": true
   },
   "outputs": [],
   "source": [
    "knn_class_smt= KNeighborsClassifier(n_neighbors=3).fit(X_train_smt, np.ravel(y_train_smt))"
   ]
  },
  {
   "cell_type": "code",
   "execution_count": 181,
   "metadata": {},
   "outputs": [],
   "source": [
    "#Lets make predictions\n",
    "knn_predictions_smt= knn_class_smt.predict(X_test_std)"
   ]
  },
  {
   "cell_type": "code",
   "execution_count": 182,
   "metadata": {},
   "outputs": [
    {
     "name": "stdout",
     "output_type": "stream",
     "text": [
      "0.6308742803588164\n"
     ]
    }
   ],
   "source": [
    "knn_accuracy_smt=knn_class_smt.score(X_test_std,y_test)\n",
    "print(knn_accuracy)"
   ]
  },
  {
   "cell_type": "code",
   "execution_count": 183,
   "metadata": {},
   "outputs": [],
   "source": [
    "#lets create a confussion matrix\n",
    "knn_conmat_smt=confusion_matrix(y_test,knn_predictions_smt)"
   ]
  },
  {
   "cell_type": "code",
   "execution_count": 184,
   "metadata": {},
   "outputs": [
    {
     "name": "stdout",
     "output_type": "stream",
     "text": [
      "[[2006   43   60   88  165  246]\n",
      " [  88  163    9   18   42   32]\n",
      " [  83    4  112   14   33   61]\n",
      " [ 128   24   28  296   64   67]\n",
      " [ 278   55   41   66  968  157]\n",
      " [ 447   60   76  114  166 1167]]\n"
     ]
    }
   ],
   "source": [
    "print(knn_conmat)"
   ]
  },
  {
   "cell_type": "code",
   "execution_count": 185,
   "metadata": {},
   "outputs": [
    {
     "name": "stdout",
     "output_type": "stream",
     "text": [
      "[[1712  136  183  173  199  205]\n",
      " [  27  222   18   40   27   18]\n",
      " [  27   13  185   22   25   35]\n",
      " [  43   36   46  395   55   32]\n",
      " [ 122   96   93  115 1031  108]\n",
      " [ 218  134  194  187  166 1131]]\n"
     ]
    }
   ],
   "source": [
    "print(knn_conmat_smt)"
   ]
  },
  {
   "cell_type": "code",
   "execution_count": 186,
   "metadata": {},
   "outputs": [],
   "source": [
    "knn_cr_smt= classification_report(y_test, knn_predictions_smt)"
   ]
  },
  {
   "cell_type": "code",
   "execution_count": 187,
   "metadata": {
    "scrolled": false
   },
   "outputs": [
    {
     "name": "stdout",
     "output_type": "stream",
     "text": [
      "              precision    recall  f1-score   support\n",
      "\n",
      "           0       0.66      0.77      0.71      2608\n",
      "           1       0.47      0.46      0.47       352\n",
      "           2       0.34      0.36      0.35       307\n",
      "           3       0.50      0.49      0.49       607\n",
      "           4       0.67      0.62      0.64      1565\n",
      "           5       0.67      0.57      0.62      2030\n",
      "\n",
      "    accuracy                           0.63      7469\n",
      "   macro avg       0.55      0.55      0.55      7469\n",
      "weighted avg       0.63      0.63      0.63      7469\n",
      "\n"
     ]
    }
   ],
   "source": [
    "print(knn_cr)"
   ]
  },
  {
   "cell_type": "code",
   "execution_count": 188,
   "metadata": {},
   "outputs": [
    {
     "name": "stdout",
     "output_type": "stream",
     "text": [
      "              precision    recall  f1-score   support\n",
      "\n",
      "           0       0.80      0.66      0.72      2608\n",
      "           1       0.35      0.63      0.45       352\n",
      "           2       0.26      0.60      0.36       307\n",
      "           3       0.42      0.65      0.51       607\n",
      "           4       0.69      0.66      0.67      1565\n",
      "           5       0.74      0.56      0.64      2030\n",
      "\n",
      "    accuracy                           0.63      7469\n",
      "   macro avg       0.54      0.63      0.56      7469\n",
      "weighted avg       0.68      0.63      0.64      7469\n",
      "\n"
     ]
    }
   ],
   "source": [
    "print(knn_cr_smt)"
   ]
  },
  {
   "cell_type": "code",
   "execution_count": 189,
   "metadata": {},
   "outputs": [],
   "source": [
    "l_knn_smt=precision_recall_fscore_support(y_test, knn_predictions_smt, average='weighted')"
   ]
  },
  {
   "cell_type": "code",
   "execution_count": 190,
   "metadata": {},
   "outputs": [
    {
     "data": {
      "text/plain": [
       "(0.6843896542979612, 0.6260543580131209, 0.6425972507471109, None)"
      ]
     },
     "execution_count": 190,
     "metadata": {},
     "output_type": "execute_result"
    }
   ],
   "source": [
    "l_knn_smt"
   ]
  },
  {
   "cell_type": "code",
   "execution_count": 191,
   "metadata": {},
   "outputs": [],
   "source": [
    "l_knn_lst_smt=list(l_knn_smt)"
   ]
  },
  {
   "cell_type": "code",
   "execution_count": 192,
   "metadata": {},
   "outputs": [],
   "source": [
    "knn_prf_smt = list(filter(None,l_knn_lst_smt))"
   ]
  },
  {
   "cell_type": "code",
   "execution_count": 193,
   "metadata": {},
   "outputs": [],
   "source": [
    "knn_prf_smt.append(knn_accuracy_smt)"
   ]
  },
  {
   "cell_type": "code",
   "execution_count": 194,
   "metadata": {},
   "outputs": [
    {
     "data": {
      "text/plain": [
       "[0.6320543619669385,\n",
       " 0.6308742803588164,\n",
       " 0.6287246262500799,\n",
       " 0.6308742803588164]"
      ]
     },
     "execution_count": 194,
     "metadata": {},
     "output_type": "execute_result"
    }
   ],
   "source": [
    "knn_prf"
   ]
  },
  {
   "cell_type": "code",
   "execution_count": 195,
   "metadata": {
    "scrolled": true
   },
   "outputs": [
    {
     "data": {
      "text/plain": [
       "[0.6843896542979612,\n",
       " 0.6260543580131209,\n",
       " 0.6425972507471109,\n",
       " 0.6260543580131209]"
      ]
     },
     "execution_count": 195,
     "metadata": {},
     "output_type": "execute_result"
    }
   ],
   "source": [
    "knn_prf_smt"
   ]
  },
  {
   "cell_type": "markdown",
   "metadata": {},
   "source": [
    "### lets graph classification report by type of enzyme for knn Option 1"
   ]
  },
  {
   "cell_type": "code",
   "execution_count": 196,
   "metadata": {},
   "outputs": [],
   "source": [
    "knn_cr_smt_dict = classification_report(y_test, knn_predictions_smt,output_dict=True,target_names=tar_names)"
   ]
  },
  {
   "cell_type": "code",
   "execution_count": 197,
   "metadata": {},
   "outputs": [],
   "source": [
    "df_knn_cr_smt=pd.DataFrame.from_dict(knn_cr_smt_dict)"
   ]
  },
  {
   "cell_type": "code",
   "execution_count": 198,
   "metadata": {},
   "outputs": [],
   "source": [
    "df_knn_cr_smt=df_knn_cr_smt.T"
   ]
  },
  {
   "cell_type": "code",
   "execution_count": 199,
   "metadata": {
    "scrolled": false
   },
   "outputs": [
    {
     "data": {
      "text/html": [
       "<div>\n",
       "<style scoped>\n",
       "    .dataframe tbody tr th:only-of-type {\n",
       "        vertical-align: middle;\n",
       "    }\n",
       "\n",
       "    .dataframe tbody tr th {\n",
       "        vertical-align: top;\n",
       "    }\n",
       "\n",
       "    .dataframe thead th {\n",
       "        text-align: right;\n",
       "    }\n",
       "</style>\n",
       "<table border=\"1\" class=\"dataframe\">\n",
       "  <thead>\n",
       "    <tr style=\"text-align: right;\">\n",
       "      <th></th>\n",
       "      <th>precision</th>\n",
       "      <th>recall</th>\n",
       "      <th>f1-score</th>\n",
       "      <th>support</th>\n",
       "    </tr>\n",
       "  </thead>\n",
       "  <tbody>\n",
       "    <tr>\n",
       "      <th>HYDROLASE</th>\n",
       "      <td>0.796650</td>\n",
       "      <td>0.656442</td>\n",
       "      <td>0.719781</td>\n",
       "      <td>2608.000000</td>\n",
       "    </tr>\n",
       "    <tr>\n",
       "      <th>ISOMERASE</th>\n",
       "      <td>0.348509</td>\n",
       "      <td>0.630682</td>\n",
       "      <td>0.448938</td>\n",
       "      <td>352.000000</td>\n",
       "    </tr>\n",
       "    <tr>\n",
       "      <th>LIGASE</th>\n",
       "      <td>0.257302</td>\n",
       "      <td>0.602606</td>\n",
       "      <td>0.360624</td>\n",
       "      <td>307.000000</td>\n",
       "    </tr>\n",
       "    <tr>\n",
       "      <th>LYASE</th>\n",
       "      <td>0.423820</td>\n",
       "      <td>0.650741</td>\n",
       "      <td>0.513320</td>\n",
       "      <td>607.000000</td>\n",
       "    </tr>\n",
       "    <tr>\n",
       "      <th>OXYDOREDUCTASE</th>\n",
       "      <td>0.685961</td>\n",
       "      <td>0.658786</td>\n",
       "      <td>0.672099</td>\n",
       "      <td>1565.000000</td>\n",
       "    </tr>\n",
       "    <tr>\n",
       "      <th>TRANSFERASE</th>\n",
       "      <td>0.739699</td>\n",
       "      <td>0.557143</td>\n",
       "      <td>0.635572</td>\n",
       "      <td>2030.000000</td>\n",
       "    </tr>\n",
       "    <tr>\n",
       "      <th>accuracy</th>\n",
       "      <td>0.626054</td>\n",
       "      <td>0.626054</td>\n",
       "      <td>0.626054</td>\n",
       "      <td>0.626054</td>\n",
       "    </tr>\n",
       "    <tr>\n",
       "      <th>macro avg</th>\n",
       "      <td>0.541990</td>\n",
       "      <td>0.626067</td>\n",
       "      <td>0.558389</td>\n",
       "      <td>7469.000000</td>\n",
       "    </tr>\n",
       "    <tr>\n",
       "      <th>weighted avg</th>\n",
       "      <td>0.684390</td>\n",
       "      <td>0.626054</td>\n",
       "      <td>0.642597</td>\n",
       "      <td>7469.000000</td>\n",
       "    </tr>\n",
       "  </tbody>\n",
       "</table>\n",
       "</div>"
      ],
      "text/plain": [
       "                precision    recall  f1-score      support\n",
       "HYDROLASE        0.796650  0.656442  0.719781  2608.000000\n",
       "ISOMERASE        0.348509  0.630682  0.448938   352.000000\n",
       "LIGASE           0.257302  0.602606  0.360624   307.000000\n",
       "LYASE            0.423820  0.650741  0.513320   607.000000\n",
       "OXYDOREDUCTASE   0.685961  0.658786  0.672099  1565.000000\n",
       "TRANSFERASE      0.739699  0.557143  0.635572  2030.000000\n",
       "accuracy         0.626054  0.626054  0.626054     0.626054\n",
       "macro avg        0.541990  0.626067  0.558389  7469.000000\n",
       "weighted avg     0.684390  0.626054  0.642597  7469.000000"
      ]
     },
     "execution_count": 199,
     "metadata": {},
     "output_type": "execute_result"
    }
   ],
   "source": [
    "df_knn_cr_smt"
   ]
  },
  {
   "cell_type": "code",
   "execution_count": 200,
   "metadata": {},
   "outputs": [
    {
     "data": {
      "image/png": "[encoded data removed]",
      "text/plain": [
       "<Figure size 1008x576 with 1 Axes>"
      ]
     },
     "metadata": {
      "needs_background": "light"
     },
     "output_type": "display_data"
    }
   ],
   "source": [
    "fig, ax= plt.subplots(figsize=(14,8))\n",
    "ax.set_title('Perfomance Metrics by type of enzyme for KNN algorithm(Option 1)',fontsize=16)\n",
    "enz_type_per(df_knn_cr_smt)"
   ]
  },
  {
   "cell_type": "code",
   "execution_count": 201,
   "metadata": {},
   "outputs": [
    {
     "data": {
      "text/plain": [
       "Text(0.5, 1.0, 'Confusion Matrix for kNN algorithm-Option 1 (Number of predictions)')"
      ]
     },
     "execution_count": 201,
     "metadata": {},
     "output_type": "execute_result"
    },
    {
     "data": {
      "image/png": "[encoded data removed]",
      "text/plain": [
       "<Figure size 1008x432 with 2 Axes>"
      ]
     },
     "metadata": {
      "needs_background": "light"
     },
     "output_type": "display_data"
    }
   ],
   "source": [
    "fig, ax=plt.subplots(figsize=(14,6))\n",
    "disp_conmat(knn_conmat_smt)\n",
    "ax.set_title('Confusion Matrix for kNN algorithm-Option 1 (Number of predictions)',fontsize=16)"
   ]
  },
  {
   "cell_type": "markdown",
   "metadata": {},
   "source": [
    "### Lets create and train our svc model"
   ]
  },
  {
   "cell_type": "code",
   "execution_count": 202,
   "metadata": {
    "scrolled": true
   },
   "outputs": [],
   "source": [
    "svc_class_smt=SVC(kernel='rbf',gamma='scale').fit(X_train_smt,np.ravel(y_train_smt))"
   ]
  },
  {
   "cell_type": "code",
   "execution_count": 203,
   "metadata": {},
   "outputs": [],
   "source": [
    "#lets make predictions\n",
    "svc_predictions_smt=svc_class_smt.predict(X_test_std)"
   ]
  },
  {
   "cell_type": "code",
   "execution_count": 204,
   "metadata": {},
   "outputs": [
    {
     "name": "stdout",
     "output_type": "stream",
     "text": [
      "0.569821930646673\n"
     ]
    }
   ],
   "source": [
    "#Lets check accuracy\n",
    "svc_accuracy_smt=svc_class_smt.score(X_test_std,y_test)\n",
    "print(svc_accuracy_smt)"
   ]
  },
  {
   "cell_type": "code",
   "execution_count": 205,
   "metadata": {},
   "outputs": [],
   "source": [
    "#lets create a confussion matrix\n",
    "svc_conmat_smt= confusion_matrix(y_test,svc_predictions_smt)"
   ]
  },
  {
   "cell_type": "code",
   "execution_count": 206,
   "metadata": {},
   "outputs": [
    {
     "name": "stdout",
     "output_type": "stream",
     "text": [
      "[[1914    1    0    7  215  471]\n",
      " [ 109   67    0    5   67  104]\n",
      " [  91    0   25    0   50  141]\n",
      " [ 172    1    0   78  151  205]\n",
      " [ 330    0    0    5  906  324]\n",
      " [ 502    2    2    9  259 1256]]\n"
     ]
    }
   ],
   "source": [
    "print(svc_conmat)"
   ]
  },
  {
   "cell_type": "code",
   "execution_count": 207,
   "metadata": {},
   "outputs": [
    {
     "name": "stdout",
     "output_type": "stream",
     "text": [
      "[[1680  121  153  153  174  327]\n",
      " [  49  190   21   32   21   39]\n",
      " [  51   18  157   21   18   42]\n",
      " [  78   51   29  328   44   77]\n",
      " [ 167  125   66  162  880  165]\n",
      " [ 309  119  137  243  201 1021]]\n"
     ]
    }
   ],
   "source": [
    "print(svc_conmat_smt)"
   ]
  },
  {
   "cell_type": "code",
   "execution_count": 208,
   "metadata": {},
   "outputs": [],
   "source": [
    "svc_cr_smt = classification_report(y_test, svc_predictions_smt)"
   ]
  },
  {
   "cell_type": "code",
   "execution_count": 209,
   "metadata": {
    "scrolled": false
   },
   "outputs": [
    {
     "name": "stdout",
     "output_type": "stream",
     "text": [
      "              precision    recall  f1-score   support\n",
      "\n",
      "           0       0.61      0.73      0.67      2608\n",
      "           1       0.94      0.19      0.32       352\n",
      "           2       0.93      0.08      0.15       307\n",
      "           3       0.75      0.13      0.22       607\n",
      "           4       0.55      0.58      0.56      1565\n",
      "           5       0.50      0.62      0.55      2030\n",
      "\n",
      "    accuracy                           0.57      7469\n",
      "   macro avg       0.71      0.39      0.41      7469\n",
      "weighted avg       0.61      0.57      0.54      7469\n",
      "\n"
     ]
    }
   ],
   "source": [
    "print(svc_cr)"
   ]
  },
  {
   "cell_type": "code",
   "execution_count": 210,
   "metadata": {},
   "outputs": [
    {
     "name": "stdout",
     "output_type": "stream",
     "text": [
      "              precision    recall  f1-score   support\n",
      "\n",
      "           0       0.72      0.64      0.68      2608\n",
      "           1       0.30      0.54      0.39       352\n",
      "           2       0.28      0.51      0.36       307\n",
      "           3       0.35      0.54      0.42       607\n",
      "           4       0.66      0.56      0.61      1565\n",
      "           5       0.61      0.50      0.55      2030\n",
      "\n",
      "    accuracy                           0.57      7469\n",
      "   macro avg       0.49      0.55      0.50      7469\n",
      "weighted avg       0.61      0.57      0.58      7469\n",
      "\n"
     ]
    }
   ],
   "source": [
    "print(svc_cr_smt)"
   ]
  },
  {
   "cell_type": "code",
   "execution_count": 211,
   "metadata": {},
   "outputs": [],
   "source": [
    "l_svc_smt=precision_recall_fscore_support(y_test, svc_predictions_smt, average='weighted')"
   ]
  },
  {
   "cell_type": "code",
   "execution_count": 212,
   "metadata": {},
   "outputs": [],
   "source": [
    "l_svc_lst_smt=list(l_svc_smt)"
   ]
  },
  {
   "cell_type": "code",
   "execution_count": 213,
   "metadata": {},
   "outputs": [],
   "source": [
    "svc_prf_smt=list(filter(None,l_svc_lst_smt))"
   ]
  },
  {
   "cell_type": "code",
   "execution_count": 214,
   "metadata": {},
   "outputs": [],
   "source": [
    "svc_prf_smt.append(svc_accuracy_smt)"
   ]
  },
  {
   "cell_type": "code",
   "execution_count": 215,
   "metadata": {},
   "outputs": [
    {
     "data": {
      "text/plain": [
       "[0.6095121924349718,\n",
       " 0.5684830633284241,\n",
       " 0.5411978262888862,\n",
       " 0.5684830633284241]"
      ]
     },
     "execution_count": 215,
     "metadata": {},
     "output_type": "execute_result"
    }
   ],
   "source": [
    "svc_prf"
   ]
  },
  {
   "cell_type": "code",
   "execution_count": 216,
   "metadata": {},
   "outputs": [
    {
     "data": {
      "text/plain": [
       "[0.6094115021871103, 0.569821930646673, 0.5820602623521599, 0.569821930646673]"
      ]
     },
     "execution_count": 216,
     "metadata": {},
     "output_type": "execute_result"
    }
   ],
   "source": [
    "svc_prf_smt"
   ]
  },
  {
   "cell_type": "code",
   "execution_count": 217,
   "metadata": {},
   "outputs": [],
   "source": [
    "svc_cr_smt_dict = classification_report(y_test, svc_predictions_smt,output_dict=True,target_names=tar_names)"
   ]
  },
  {
   "cell_type": "code",
   "execution_count": 218,
   "metadata": {},
   "outputs": [],
   "source": [
    "df_svc_cr_smt=pd.DataFrame.from_dict(svc_cr_smt_dict)"
   ]
  },
  {
   "cell_type": "code",
   "execution_count": 219,
   "metadata": {},
   "outputs": [],
   "source": [
    "df_svc_cr_smt=df_svc_cr_smt.T"
   ]
  },
  {
   "cell_type": "code",
   "execution_count": 220,
   "metadata": {
    "scrolled": false
   },
   "outputs": [
    {
     "data": {
      "text/html": [
       "<div>\n",
       "<style scoped>\n",
       "    .dataframe tbody tr th:only-of-type {\n",
       "        vertical-align: middle;\n",
       "    }\n",
       "\n",
       "    .dataframe tbody tr th {\n",
       "        vertical-align: top;\n",
       "    }\n",
       "\n",
       "    .dataframe thead th {\n",
       "        text-align: right;\n",
       "    }\n",
       "</style>\n",
       "<table border=\"1\" class=\"dataframe\">\n",
       "  <thead>\n",
       "    <tr style=\"text-align: right;\">\n",
       "      <th></th>\n",
       "      <th>precision</th>\n",
       "      <th>recall</th>\n",
       "      <th>f1-score</th>\n",
       "      <th>support</th>\n",
       "    </tr>\n",
       "  </thead>\n",
       "  <tbody>\n",
       "    <tr>\n",
       "      <th>HYDROLASE</th>\n",
       "      <td>0.719794</td>\n",
       "      <td>0.644172</td>\n",
       "      <td>0.679887</td>\n",
       "      <td>2608.000000</td>\n",
       "    </tr>\n",
       "    <tr>\n",
       "      <th>ISOMERASE</th>\n",
       "      <td>0.304487</td>\n",
       "      <td>0.539773</td>\n",
       "      <td>0.389344</td>\n",
       "      <td>352.000000</td>\n",
       "    </tr>\n",
       "    <tr>\n",
       "      <th>LIGASE</th>\n",
       "      <td>0.278863</td>\n",
       "      <td>0.511401</td>\n",
       "      <td>0.360920</td>\n",
       "      <td>307.000000</td>\n",
       "    </tr>\n",
       "    <tr>\n",
       "      <th>LYASE</th>\n",
       "      <td>0.349308</td>\n",
       "      <td>0.540362</td>\n",
       "      <td>0.424321</td>\n",
       "      <td>607.000000</td>\n",
       "    </tr>\n",
       "    <tr>\n",
       "      <th>OXYDOREDUCTASE</th>\n",
       "      <td>0.657698</td>\n",
       "      <td>0.562300</td>\n",
       "      <td>0.606269</td>\n",
       "      <td>1565.000000</td>\n",
       "    </tr>\n",
       "    <tr>\n",
       "      <th>TRANSFERASE</th>\n",
       "      <td>0.611011</td>\n",
       "      <td>0.502956</td>\n",
       "      <td>0.551743</td>\n",
       "      <td>2030.000000</td>\n",
       "    </tr>\n",
       "    <tr>\n",
       "      <th>accuracy</th>\n",
       "      <td>0.569822</td>\n",
       "      <td>0.569822</td>\n",
       "      <td>0.569822</td>\n",
       "      <td>0.569822</td>\n",
       "    </tr>\n",
       "    <tr>\n",
       "      <th>macro avg</th>\n",
       "      <td>0.486860</td>\n",
       "      <td>0.550161</td>\n",
       "      <td>0.502081</td>\n",
       "      <td>7469.000000</td>\n",
       "    </tr>\n",
       "    <tr>\n",
       "      <th>weighted avg</th>\n",
       "      <td>0.609412</td>\n",
       "      <td>0.569822</td>\n",
       "      <td>0.582060</td>\n",
       "      <td>7469.000000</td>\n",
       "    </tr>\n",
       "  </tbody>\n",
       "</table>\n",
       "</div>"
      ],
      "text/plain": [
       "                precision    recall  f1-score      support\n",
       "HYDROLASE        0.719794  0.644172  0.679887  2608.000000\n",
       "ISOMERASE        0.304487  0.539773  0.389344   352.000000\n",
       "LIGASE           0.278863  0.511401  0.360920   307.000000\n",
       "LYASE            0.349308  0.540362  0.424321   607.000000\n",
       "OXYDOREDUCTASE   0.657698  0.562300  0.606269  1565.000000\n",
       "TRANSFERASE      0.611011  0.502956  0.551743  2030.000000\n",
       "accuracy         0.569822  0.569822  0.569822     0.569822\n",
       "macro avg        0.486860  0.550161  0.502081  7469.000000\n",
       "weighted avg     0.609412  0.569822  0.582060  7469.000000"
      ]
     },
     "execution_count": 220,
     "metadata": {},
     "output_type": "execute_result"
    }
   ],
   "source": [
    "df_svc_cr_smt"
   ]
  },
  {
   "cell_type": "code",
   "execution_count": 221,
   "metadata": {},
   "outputs": [
    {
     "data": {
      "image/png": "[encoded data removed]",
      "text/plain": [
       "<Figure size 1008x576 with 1 Axes>"
      ]
     },
     "metadata": {
      "needs_background": "light"
     },
     "output_type": "display_data"
    }
   ],
   "source": [
    "fig, ax= plt.subplots(figsize=(14,8))\n",
    "ax.set_title('Perfomance Metrics by type of enzyme for SVC algorithm(Option 1)',fontsize=16)\n",
    "enz_type_per(df_svc_cr_smt)"
   ]
  },
  {
   "cell_type": "code",
   "execution_count": 222,
   "metadata": {},
   "outputs": [
    {
     "data": {
      "text/plain": [
       "Text(0.5, 1.0, 'Confusion Matrix for SVC algorithm-Option 1 (Number of predictions)')"
      ]
     },
     "execution_count": 222,
     "metadata": {},
     "output_type": "execute_result"
    },
    {
     "data": {
      "image/png": "[encoded data removed]",
      "text/plain": [
       "<Figure size 1008x432 with 2 Axes>"
      ]
     },
     "metadata": {
      "needs_background": "light"
     },
     "output_type": "display_data"
    }
   ],
   "source": [
    "fig, ax=plt.subplots(figsize=(14,6))\n",
    "disp_conmat(svc_conmat_smt)\n",
    "ax.set_title('Confusion Matrix for SVC algorithm-Option 1 (Number of predictions)',fontsize=16)"
   ]
  },
  {
   "cell_type": "code",
   "execution_count": null,
   "metadata": {},
   "outputs": [],
   "source": []
  },
  {
   "cell_type": "code",
   "execution_count": null,
   "metadata": {},
   "outputs": [],
   "source": []
  },
  {
   "cell_type": "markdown",
   "metadata": {},
   "source": [
    "Lets plot results"
   ]
  },
  {
   "cell_type": "code",
   "execution_count": 223,
   "metadata": {},
   "outputs": [
    {
     "data": {
      "image/png": "[encoded data removed]",
      "text/plain": [
       "<Figure size 1008x576 with 1 Axes>"
      ]
     },
     "metadata": {
      "needs_background": "light"
     },
     "output_type": "display_data"
    }
   ],
   "source": [
    "labels=['Precision','Recall','F1-score','Accuracy']\n",
    "\n",
    "x = np.arange(len(labels))  \n",
    "width = 0.2 \n",
    "fig, ax= plt.subplots(figsize=(14,8))\n",
    "\n",
    "knn_bar_smt=ax.bar(x-width,knn_prf_smt,width,label='kNNeighbors')\n",
    "svc_bar_smt=ax.bar(x,svc_prf_smt,width,label=\"SVC\")\n",
    "dtree_bar_smt=ax.bar(x+width,dtree_prf_smt,width, label='Decision Tree')\n",
    "ax.set_title('Perfomance Metrics by Algorithm type(Option 1)',fontsize=16)\n",
    "ax.set_ylabel('Value(Average Weighted-Decimal)', fontsize=14)\n",
    "ax.set_xticks(x)\n",
    "ax.set_xticklabels(labels, fontsize=14)\n",
    "ax.legend()\n",
    "#fig.tight_layout()\n",
    "\n",
    "\n",
    "autolabel(knn_bar_smt)\n",
    "autolabel(svc_bar_smt)\n",
    "autolabel(dtree_bar_smt)"
   ]
  },
  {
   "cell_type": "code",
   "execution_count": null,
   "metadata": {},
   "outputs": [],
   "source": [
    "\n"
   ]
  },
  {
   "cell_type": "code",
   "execution_count": 224,
   "metadata": {
    "scrolled": false
   },
   "outputs": [
    {
     "data": {
      "image/png": "[encoded data removed]",
      "text/plain": [
       "<Figure size 1008x576 with 1 Axes>"
      ]
     },
     "metadata": {
      "needs_background": "light"
     },
     "output_type": "display_data"
    }
   ],
   "source": [
    "labels=['Precision','Recall','F1-score','Accuracy']\n",
    "\n",
    "x = np.arange(len(labels))  \n",
    "width = 0.15 \n",
    "fig, ax= plt.subplots(figsize=(14,8))\n",
    "\n",
    "knn_bar=ax.bar(x-2*width,knn_prf,width,label='kNNeighbors')\n",
    "knn_bar_2=ax.bar(x-width,knn_prf_2,width,label='kNNeighbors_Op2')\n",
    "svc_bar=ax.bar(x,svc_prf,width,label=\"SVC\")\n",
    "svc_bar_2=ax.bar(x+width,svc_prf_2,width,label=\"SVC_Op2\")\n",
    "dtree_bar=ax.bar(x+2*width,dtree_prf,width, label='Decision Tree')\n",
    "dtree_bar_2=ax.bar(x+3*width,dtree_prf_2,width, label='Decision Tree_Op2')\n",
    "ax.set_title('Perfomance Metrics by Algorithm type(Comparison Option 1-Option 2)',fontsize=16)\n",
    "ax.set_ylabel('Value(Average Weighted-Decimal)', fontsize=14)\n",
    "ax.set_xticks(x)\n",
    "ax.set_xticklabels(labels, fontsize=14)\n",
    "ax.legend(loc=\"lower right\")\n",
    "fig.tight_layout()\n",
    "autolabel(knn_bar)\n",
    "autolabel(knn_bar_2)\n",
    "autolabel(svc_bar)\n",
    "autolabel(svc_bar_2)\n",
    "autolabel(dtree_bar)\n",
    "autolabel(dtree_bar_2)"
   ]
  },
  {
   "cell_type": "markdown",
   "metadata": {},
   "source": [
    "### LETS TEST OPTION 2 WITH SMOTE"
   ]
  },
  {
   "cell_type": "code",
   "execution_count": 225,
   "metadata": {},
   "outputs": [
    {
     "data": {
      "text/plain": [
       "15163"
      ]
     },
     "execution_count": 225,
     "metadata": {},
     "output_type": "execute_result"
    }
   ],
   "source": [
    "len(X_train2)"
   ]
  },
  {
   "cell_type": "code",
   "execution_count": 226,
   "metadata": {
    "scrolled": true
   },
   "outputs": [
    {
     "data": {
      "text/plain": [
       "15163"
      ]
     },
     "execution_count": 226,
     "metadata": {},
     "output_type": "execute_result"
    }
   ],
   "source": [
    "len(y_train2)"
   ]
  },
  {
   "cell_type": "code",
   "execution_count": 227,
   "metadata": {},
   "outputs": [
    {
     "data": {
      "text/plain": [
       "Type_Encode\n",
       "0              5284\n",
       "5              3997\n",
       "4              3208\n",
       "3              1226\n",
       "1               799\n",
       "2               649\n",
       "dtype: int64"
      ]
     },
     "execution_count": 227,
     "metadata": {},
     "output_type": "execute_result"
    }
   ],
   "source": [
    "y_train2.value_counts()"
   ]
  },
  {
   "cell_type": "code",
   "execution_count": null,
   "metadata": {},
   "outputs": [],
   "source": []
  },
  {
   "cell_type": "code",
   "execution_count": 228,
   "metadata": {},
   "outputs": [],
   "source": [
    "X_train2_smt, y_train2_smt=SMOTE().fit_resample(X_train2_std,y_train2)"
   ]
  },
  {
   "cell_type": "code",
   "execution_count": 229,
   "metadata": {},
   "outputs": [
    {
     "data": {
      "text/plain": [
       "Type_Encode\n",
       "5              5284\n",
       "4              5284\n",
       "3              5284\n",
       "2              5284\n",
       "1              5284\n",
       "0              5284\n",
       "dtype: int64"
      ]
     },
     "execution_count": 229,
     "metadata": {},
     "output_type": "execute_result"
    }
   ],
   "source": [
    "y_train2_smt.value_counts()"
   ]
  },
  {
   "cell_type": "markdown",
   "metadata": {},
   "source": [
    "### Lets implement Decision Tree algorithm"
   ]
  },
  {
   "cell_type": "code",
   "execution_count": 230,
   "metadata": {},
   "outputs": [
    {
     "data": {
      "text/plain": [
       "DecisionTreeClassifier(max_leaf_nodes=3000, random_state=0)"
      ]
     },
     "execution_count": 230,
     "metadata": {},
     "output_type": "execute_result"
    }
   ],
   "source": [
    "dtree_class_2_smt= DecisionTreeClassifier(max_leaf_nodes=3000, random_state=0)\n",
    "dtree_class_2_smt.fit(X_train2_smt,y_train2_smt)"
   ]
  },
  {
   "cell_type": "code",
   "execution_count": 231,
   "metadata": {},
   "outputs": [],
   "source": [
    "dtree_predictions_2_smt = dtree_class_2_smt.predict(X_test2_std)"
   ]
  },
  {
   "cell_type": "code",
   "execution_count": 232,
   "metadata": {},
   "outputs": [],
   "source": [
    "dtree_accuracy_2_smt = accuracy_score(y_test2,dtree_predictions_2_smt)"
   ]
  },
  {
   "cell_type": "code",
   "execution_count": 233,
   "metadata": {},
   "outputs": [
    {
     "data": {
      "text/plain": [
       "0.503815771857009"
      ]
     },
     "execution_count": 233,
     "metadata": {},
     "output_type": "execute_result"
    }
   ],
   "source": [
    "dtree_accuracy_2_smt"
   ]
  },
  {
   "cell_type": "code",
   "execution_count": 234,
   "metadata": {},
   "outputs": [],
   "source": [
    "dtree_conmat_2_smt= confusion_matrix(y_test2, dtree_predictions_2_smt)"
   ]
  },
  {
   "cell_type": "code",
   "execution_count": 235,
   "metadata": {
    "scrolled": true
   },
   "outputs": [
    {
     "name": "stdout",
     "output_type": "stream",
     "text": [
      "[[1710   81   65  121  271  360]\n",
      " [  84  120   13   19   43   73]\n",
      " [  90   19   79   15   43   61]\n",
      " [ 127   43   24  228   81  104]\n",
      " [ 293   66   49   80  835  242]\n",
      " [ 401   84   87  122  238 1098]]\n"
     ]
    }
   ],
   "source": [
    "print(dtree_conmat_2)"
   ]
  },
  {
   "cell_type": "code",
   "execution_count": 236,
   "metadata": {},
   "outputs": [
    {
     "name": "stdout",
     "output_type": "stream",
     "text": [
      "[[1506  132  178  207  280  305]\n",
      " [  57  150   19   36   42   48]\n",
      " [  61   19  121   24   30   52]\n",
      " [  89   48   37  244   96   93]\n",
      " [ 246  131   91  111  799  187]\n",
      " [ 347  157  163  172  248  943]]\n"
     ]
    }
   ],
   "source": [
    "print(dtree_conmat_2_smt)"
   ]
  },
  {
   "cell_type": "code",
   "execution_count": 237,
   "metadata": {},
   "outputs": [],
   "source": [
    "dtree_cr_2_smt = classification_report(y_test2, dtree_predictions_2_smt)"
   ]
  },
  {
   "cell_type": "code",
   "execution_count": 238,
   "metadata": {
    "scrolled": true
   },
   "outputs": [
    {
     "name": "stdout",
     "output_type": "stream",
     "text": [
      "              precision    recall  f1-score   support\n",
      "\n",
      "           0       0.63      0.66      0.64      2608\n",
      "           1       0.29      0.34      0.31       352\n",
      "           2       0.25      0.26      0.25       307\n",
      "           3       0.39      0.38      0.38       607\n",
      "           4       0.55      0.53      0.54      1565\n",
      "           5       0.57      0.54      0.55      2030\n",
      "\n",
      "    accuracy                           0.54      7469\n",
      "   macro avg       0.45      0.45      0.45      7469\n",
      "weighted avg       0.55      0.54      0.55      7469\n",
      "\n"
     ]
    }
   ],
   "source": [
    "print(dtree_cr_2)"
   ]
  },
  {
   "cell_type": "code",
   "execution_count": 239,
   "metadata": {},
   "outputs": [
    {
     "name": "stdout",
     "output_type": "stream",
     "text": [
      "              precision    recall  f1-score   support\n",
      "\n",
      "           0       0.65      0.58      0.61      2608\n",
      "           1       0.24      0.43      0.30       352\n",
      "           2       0.20      0.39      0.26       307\n",
      "           3       0.31      0.40      0.35       607\n",
      "           4       0.53      0.51      0.52      1565\n",
      "           5       0.58      0.46      0.52      2030\n",
      "\n",
      "    accuracy                           0.50      7469\n",
      "   macro avg       0.42      0.46      0.43      7469\n",
      "weighted avg       0.54      0.50      0.52      7469\n",
      "\n"
     ]
    }
   ],
   "source": [
    "print(dtree_cr_2_smt)"
   ]
  },
  {
   "cell_type": "code",
   "execution_count": 240,
   "metadata": {},
   "outputs": [],
   "source": [
    "l_dt_2_smt=precision_recall_fscore_support(y_test2, dtree_predictions_2_smt, average='weighted')"
   ]
  },
  {
   "cell_type": "code",
   "execution_count": 241,
   "metadata": {
    "scrolled": true
   },
   "outputs": [
    {
     "data": {
      "text/plain": [
       "(0.5416942396305645, 0.503815771857009, 0.517040767534922, None)"
      ]
     },
     "execution_count": 241,
     "metadata": {},
     "output_type": "execute_result"
    }
   ],
   "source": [
    "l_dt_2_smt"
   ]
  },
  {
   "cell_type": "code",
   "execution_count": 242,
   "metadata": {},
   "outputs": [],
   "source": [
    "l_dt_lst_2_smt=list(l_dt_2_smt)"
   ]
  },
  {
   "cell_type": "code",
   "execution_count": 243,
   "metadata": {},
   "outputs": [
    {
     "data": {
      "text/plain": [
       "[0.5416942396305645, 0.503815771857009, 0.517040767534922, None]"
      ]
     },
     "execution_count": 243,
     "metadata": {},
     "output_type": "execute_result"
    }
   ],
   "source": [
    "l_dt_lst_2_smt"
   ]
  },
  {
   "cell_type": "code",
   "execution_count": 244,
   "metadata": {},
   "outputs": [],
   "source": [
    "dtree_prf_2_smt = list(filter(None,l_dt_lst_2_smt))"
   ]
  },
  {
   "cell_type": "code",
   "execution_count": 245,
   "metadata": {},
   "outputs": [],
   "source": [
    "dtree_prf_2_smt.append(dtree_accuracy_2_smt)"
   ]
  },
  {
   "cell_type": "code",
   "execution_count": 246,
   "metadata": {},
   "outputs": [
    {
     "data": {
      "text/plain": [
       "[0.5461244477276285,\n",
       " 0.5449189985272459,\n",
       " 0.5452229293839294,\n",
       " 0.5449189985272459]"
      ]
     },
     "execution_count": 246,
     "metadata": {},
     "output_type": "execute_result"
    }
   ],
   "source": [
    "dtree_prf_2"
   ]
  },
  {
   "cell_type": "code",
   "execution_count": 247,
   "metadata": {},
   "outputs": [
    {
     "data": {
      "text/plain": [
       "[0.5416942396305645, 0.503815771857009, 0.517040767534922, 0.503815771857009]"
      ]
     },
     "execution_count": 247,
     "metadata": {},
     "output_type": "execute_result"
    }
   ],
   "source": [
    "dtree_prf_2_smt"
   ]
  },
  {
   "cell_type": "markdown",
   "metadata": {},
   "source": [
    "### Lets implement KNN algorithm"
   ]
  },
  {
   "cell_type": "code",
   "execution_count": 248,
   "metadata": {
    "scrolled": true
   },
   "outputs": [],
   "source": [
    "knn_class_2_smt= KNeighborsClassifier(n_neighbors=3).fit(X_train2_smt, np.ravel(y_train2_smt))"
   ]
  },
  {
   "cell_type": "code",
   "execution_count": 249,
   "metadata": {},
   "outputs": [],
   "source": [
    "#Lets make predictions\n",
    "knn_predictions_2_smt= knn_class_2_smt.predict(X_test2_std)"
   ]
  },
  {
   "cell_type": "code",
   "execution_count": 250,
   "metadata": {},
   "outputs": [
    {
     "name": "stdout",
     "output_type": "stream",
     "text": [
      "0.5927165617887268\n"
     ]
    }
   ],
   "source": [
    "knn_accuracy_2_smt=knn_class_2_smt.score(X_test2_std,y_test2)\n",
    "print(knn_accuracy_2_smt)"
   ]
  },
  {
   "cell_type": "code",
   "execution_count": 251,
   "metadata": {},
   "outputs": [],
   "source": [
    "knn_conmat_2_smt=confusion_matrix(y_test2,knn_predictions_2_smt)"
   ]
  },
  {
   "cell_type": "code",
   "execution_count": 252,
   "metadata": {
    "scrolled": true
   },
   "outputs": [
    {
     "name": "stdout",
     "output_type": "stream",
     "text": [
      "[[1967   54   56   80  176  275]\n",
      " [  82  161   11   23   37   38]\n",
      " [  77   12  111   12   29   66]\n",
      " [ 138   35   39  270   55   70]\n",
      " [ 271   60   59   52  953  170]\n",
      " [ 476   55   67   93  205 1134]]\n"
     ]
    }
   ],
   "source": [
    "print(knn_conmat_2)"
   ]
  },
  {
   "cell_type": "code",
   "execution_count": 253,
   "metadata": {},
   "outputs": [
    {
     "name": "stdout",
     "output_type": "stream",
     "text": [
      "[[1637  160  173  219  193  226]\n",
      " [  33  205   23   33   26   32]\n",
      " [  30   17  174   28   25   33]\n",
      " [  51   47   53  371   43   42]\n",
      " [ 130  113  114  109  971  128]\n",
      " [ 226  155  216  176  188 1069]]\n"
     ]
    }
   ],
   "source": [
    "print(knn_conmat_2_smt)"
   ]
  },
  {
   "cell_type": "code",
   "execution_count": 254,
   "metadata": {},
   "outputs": [],
   "source": [
    "knn_cr_2_smt = classification_report(y_test2, knn_predictions_2_smt)"
   ]
  },
  {
   "cell_type": "code",
   "execution_count": 255,
   "metadata": {
    "scrolled": true
   },
   "outputs": [
    {
     "name": "stdout",
     "output_type": "stream",
     "text": [
      "              precision    recall  f1-score   support\n",
      "\n",
      "           0       0.65      0.75      0.70      2608\n",
      "           1       0.43      0.46      0.44       352\n",
      "           2       0.32      0.36      0.34       307\n",
      "           3       0.51      0.44      0.47       607\n",
      "           4       0.65      0.61      0.63      1565\n",
      "           5       0.65      0.56      0.60      2030\n",
      "\n",
      "    accuracy                           0.62      7469\n",
      "   macro avg       0.54      0.53      0.53      7469\n",
      "weighted avg       0.62      0.62      0.61      7469\n",
      "\n"
     ]
    }
   ],
   "source": [
    "print(knn_cr_2)"
   ]
  },
  {
   "cell_type": "code",
   "execution_count": 256,
   "metadata": {},
   "outputs": [
    {
     "name": "stdout",
     "output_type": "stream",
     "text": [
      "              precision    recall  f1-score   support\n",
      "\n",
      "           0       0.78      0.63      0.69      2608\n",
      "           1       0.29      0.58      0.39       352\n",
      "           2       0.23      0.57      0.33       307\n",
      "           3       0.40      0.61      0.48       607\n",
      "           4       0.67      0.62      0.64      1565\n",
      "           5       0.70      0.53      0.60      2030\n",
      "\n",
      "    accuracy                           0.59      7469\n",
      "   macro avg       0.51      0.59      0.52      7469\n",
      "weighted avg       0.66      0.59      0.61      7469\n",
      "\n"
     ]
    }
   ],
   "source": [
    "print(knn_cr_2_smt)"
   ]
  },
  {
   "cell_type": "code",
   "execution_count": 257,
   "metadata": {},
   "outputs": [],
   "source": [
    "l_knn_2_smt=precision_recall_fscore_support(y_test2, knn_predictions_2_smt, average='weighted')"
   ]
  },
  {
   "cell_type": "code",
   "execution_count": 258,
   "metadata": {},
   "outputs": [
    {
     "data": {
      "text/plain": [
       "(0.6574594317185084, 0.5927165617887268, 0.6118249440531821, None)"
      ]
     },
     "execution_count": 258,
     "metadata": {},
     "output_type": "execute_result"
    }
   ],
   "source": [
    "l_knn_2_smt"
   ]
  },
  {
   "cell_type": "code",
   "execution_count": 259,
   "metadata": {},
   "outputs": [],
   "source": [
    "l_knn_lst_2_smt=list(l_knn_2_smt)"
   ]
  },
  {
   "cell_type": "code",
   "execution_count": 260,
   "metadata": {},
   "outputs": [],
   "source": [
    "knn_prf_2_smt = list(filter(None,l_knn_lst_2_smt))"
   ]
  },
  {
   "cell_type": "code",
   "execution_count": 261,
   "metadata": {},
   "outputs": [],
   "source": [
    "knn_prf_2_smt.append(knn_accuracy_2_smt)"
   ]
  },
  {
   "cell_type": "code",
   "execution_count": 262,
   "metadata": {},
   "outputs": [
    {
     "data": {
      "text/plain": [
       "[0.6574594317185084,\n",
       " 0.5927165617887268,\n",
       " 0.6118249440531821,\n",
       " 0.5927165617887268]"
      ]
     },
     "execution_count": 262,
     "metadata": {},
     "output_type": "execute_result"
    }
   ],
   "source": [
    "knn_prf_2_smt"
   ]
  },
  {
   "cell_type": "markdown",
   "metadata": {},
   "source": [
    "### Lets implement SVC algorithm"
   ]
  },
  {
   "cell_type": "code",
   "execution_count": 263,
   "metadata": {},
   "outputs": [],
   "source": [
    "svc_class_2_smt=SVC(kernel='rbf',gamma='scale').fit(X_train2_smt,np.ravel(y_train2_smt))"
   ]
  },
  {
   "cell_type": "code",
   "execution_count": 264,
   "metadata": {},
   "outputs": [],
   "source": [
    "#lets make predictions\n",
    "svc_predictions_2_smt=svc_class_2_smt.predict(X_test2_std)"
   ]
  },
  {
   "cell_type": "code",
   "execution_count": 265,
   "metadata": {},
   "outputs": [
    {
     "name": "stdout",
     "output_type": "stream",
     "text": [
      "0.5682152898647744\n"
     ]
    }
   ],
   "source": [
    "svc_accuracy_2_smt=svc_class_2_smt.score(X_test2_std,y_test2)\n",
    "print(svc_accuracy_2_smt)"
   ]
  },
  {
   "cell_type": "code",
   "execution_count": 266,
   "metadata": {},
   "outputs": [],
   "source": [
    "svc_conmat_2_smt= confusion_matrix(y_test2,svc_predictions_2_smt)"
   ]
  },
  {
   "cell_type": "code",
   "execution_count": 267,
   "metadata": {
    "scrolled": true
   },
   "outputs": [
    {
     "name": "stdout",
     "output_type": "stream",
     "text": [
      "[[1893    1    0    2  226  486]\n",
      " [ 115   60    0    4   58  115]\n",
      " [  92    0   22    0   48  145]\n",
      " [ 169    1    0   76  147  214]\n",
      " [ 332    0    0    2  908  323]\n",
      " [ 501    2    2    8  259 1258]]\n"
     ]
    }
   ],
   "source": [
    "print(svc_conmat_2)"
   ]
  },
  {
   "cell_type": "code",
   "execution_count": 268,
   "metadata": {},
   "outputs": [
    {
     "name": "stdout",
     "output_type": "stream",
     "text": [
      "[[1680  105  119  149  186  369]\n",
      " [  49  184   15   33   28   43]\n",
      " [  52   20  148   15   22   50]\n",
      " [  79   49   28  321   47   83]\n",
      " [ 192  110   63  146  888  166]\n",
      " [ 355  106  132  221  193 1023]]\n"
     ]
    }
   ],
   "source": [
    "print(svc_conmat_2_smt)"
   ]
  },
  {
   "cell_type": "code",
   "execution_count": 269,
   "metadata": {},
   "outputs": [],
   "source": [
    "svc_cr_2_smt = classification_report(y_test2, svc_predictions_2_smt)"
   ]
  },
  {
   "cell_type": "code",
   "execution_count": 270,
   "metadata": {},
   "outputs": [
    {
     "name": "stdout",
     "output_type": "stream",
     "text": [
      "              precision    recall  f1-score   support\n",
      "\n",
      "           0       0.61      0.73      0.66      2608\n",
      "           1       0.94      0.17      0.29       352\n",
      "           2       0.92      0.07      0.13       307\n",
      "           3       0.83      0.13      0.22       607\n",
      "           4       0.55      0.58      0.57      1565\n",
      "           5       0.50      0.62      0.55      2030\n",
      "\n",
      "    accuracy                           0.56      7469\n",
      "   macro avg       0.72      0.38      0.40      7469\n",
      "weighted avg       0.61      0.56      0.54      7469\n",
      "\n"
     ]
    }
   ],
   "source": [
    "print(svc_cr_2)"
   ]
  },
  {
   "cell_type": "code",
   "execution_count": 271,
   "metadata": {},
   "outputs": [
    {
     "name": "stdout",
     "output_type": "stream",
     "text": [
      "              precision    recall  f1-score   support\n",
      "\n",
      "           0       0.70      0.64      0.67      2608\n",
      "           1       0.32      0.52      0.40       352\n",
      "           2       0.29      0.48      0.36       307\n",
      "           3       0.36      0.53      0.43       607\n",
      "           4       0.65      0.57      0.61      1565\n",
      "           5       0.59      0.50      0.54      2030\n",
      "\n",
      "    accuracy                           0.57      7469\n",
      "   macro avg       0.49      0.54      0.50      7469\n",
      "weighted avg       0.60      0.57      0.58      7469\n",
      "\n"
     ]
    }
   ],
   "source": [
    "print(svc_cr_2_smt)"
   ]
  },
  {
   "cell_type": "code",
   "execution_count": 272,
   "metadata": {},
   "outputs": [],
   "source": [
    "l_svc_2_smt=precision_recall_fscore_support(y_test2, svc_predictions_2_smt, average='weighted')"
   ]
  },
  {
   "cell_type": "code",
   "execution_count": 273,
   "metadata": {},
   "outputs": [],
   "source": [
    "l_svc_lst_2_smt=list(l_svc_2_smt)"
   ]
  },
  {
   "cell_type": "code",
   "execution_count": 274,
   "metadata": {},
   "outputs": [],
   "source": [
    "svc_prf_2_smt=list(filter(None,l_svc_lst_2_smt))"
   ]
  },
  {
   "cell_type": "code",
   "execution_count": 275,
   "metadata": {},
   "outputs": [],
   "source": [
    "svc_prf_2_smt.append(svc_accuracy_2_smt)"
   ]
  },
  {
   "cell_type": "code",
   "execution_count": 276,
   "metadata": {
    "scrolled": true
   },
   "outputs": [
    {
     "data": {
      "text/plain": [
       "[0.6122262872121971,\n",
       " 0.5646003481055027,\n",
       " 0.5363543601941825,\n",
       " 0.5646003481055027]"
      ]
     },
     "execution_count": 276,
     "metadata": {},
     "output_type": "execute_result"
    }
   ],
   "source": [
    "svc_prf_2"
   ]
  },
  {
   "cell_type": "code",
   "execution_count": 277,
   "metadata": {},
   "outputs": [
    {
     "data": {
      "text/plain": [
       "[0.5971015526942615,\n",
       " 0.5682152898647744,\n",
       " 0.5774144715938335,\n",
       " 0.5682152898647744]"
      ]
     },
     "execution_count": 277,
     "metadata": {},
     "output_type": "execute_result"
    }
   ],
   "source": [
    "svc_prf_2_smt"
   ]
  },
  {
   "cell_type": "code",
   "execution_count": null,
   "metadata": {},
   "outputs": [],
   "source": []
  },
  {
   "cell_type": "code",
   "execution_count": 278,
   "metadata": {
    "scrolled": false
   },
   "outputs": [
    {
     "data": {
      "image/png": "[encoded data removed]",
      "text/plain": [
       "<Figure size 1008x576 with 1 Axes>"
      ]
     },
     "metadata": {
      "needs_background": "light"
     },
     "output_type": "display_data"
    }
   ],
   "source": [
    "labels=['Precision','Recall','F1-score','Accuracy']\n",
    "\n",
    "x = np.arange(len(labels))  \n",
    "width = 0.15 \n",
    "fig, ax= plt.subplots(figsize=(14,8))\n",
    "\n",
    "knn_bar_smt=ax.bar(x-2*width,knn_prf_smt,width,label='kNNeighbors_Op1')\n",
    "knn_bar_2_smt=ax.bar(x-width,knn_prf_2_smt,width,label='kNNeighbors_Op2')\n",
    "svc_bar_smt=ax.bar(x,svc_prf_smt,width,label=\"SVC_Op1\")\n",
    "svc_bar_2_smt=ax.bar(x+width,svc_prf_2_smt,width,label=\"SVC_Op2\")\n",
    "dtree_bar_smt=ax.bar(x+2*width,dtree_prf_smt,width, label='Decision Tree_Op1')\n",
    "dtree_bar_2_smt=ax.bar(x+3*width,dtree_prf_2_smt,width, label='Decision Tree_Op2')\n",
    "ax.set_title('Perfomance Metrics by Algorithm type(Comparison Option 1-Option2)',fontsize=16)\n",
    "ax.set_ylabel('Value(Average Weighted-Decimal)', fontsize=14)\n",
    "ax.set_xticks(x)\n",
    "ax.set_xticklabels(labels, fontsize=14)\n",
    "ax.legend(loc=\"lower right\")\n",
    "fig.tight_layout()\n",
    "autolabel(knn_bar_smt)\n",
    "autolabel(knn_bar_2_smt)\n",
    "autolabel(svc_bar_smt)\n",
    "autolabel(svc_bar_2_smt)\n",
    "autolabel(dtree_bar_smt)\n",
    "autolabel(dtree_bar_2_smt)"
   ]
  },
  {
   "cell_type": "code",
   "execution_count": 279,
   "metadata": {},
   "outputs": [],
   "source": [
    "### lets graph classification report by type of enzyme for SVC Option 2"
   ]
  },
  {
   "cell_type": "code",
   "execution_count": 280,
   "metadata": {},
   "outputs": [],
   "source": [
    "tar_names = ['HYDROLASE','ISOMERASE','LIGASE','LYASE','OXYDOREDUCTASE','TRANSFERASE']\n",
    "svc_cr_2_smt_dict = classification_report(y_test2, svc_predictions_2_smt,output_dict=True,target_names=tar_names)"
   ]
  },
  {
   "cell_type": "code",
   "execution_count": 281,
   "metadata": {},
   "outputs": [],
   "source": [
    "df_svc_cr2smt=pd.DataFrame.from_dict(svc_cr_2_smt_dict)"
   ]
  },
  {
   "cell_type": "code",
   "execution_count": 282,
   "metadata": {},
   "outputs": [],
   "source": [
    "df_svc_cr2smt=df_svc_cr2smt.T"
   ]
  },
  {
   "cell_type": "code",
   "execution_count": 283,
   "metadata": {
    "scrolled": false
   },
   "outputs": [
    {
     "data": {
      "text/html": [
       "<div>\n",
       "<style scoped>\n",
       "    .dataframe tbody tr th:only-of-type {\n",
       "        vertical-align: middle;\n",
       "    }\n",
       "\n",
       "    .dataframe tbody tr th {\n",
       "        vertical-align: top;\n",
       "    }\n",
       "\n",
       "    .dataframe thead th {\n",
       "        text-align: right;\n",
       "    }\n",
       "</style>\n",
       "<table border=\"1\" class=\"dataframe\">\n",
       "  <thead>\n",
       "    <tr style=\"text-align: right;\">\n",
       "      <th></th>\n",
       "      <th>precision</th>\n",
       "      <th>recall</th>\n",
       "      <th>f1-score</th>\n",
       "      <th>support</th>\n",
       "    </tr>\n",
       "  </thead>\n",
       "  <tbody>\n",
       "    <tr>\n",
       "      <th>HYDROLASE</th>\n",
       "      <td>0.697964</td>\n",
       "      <td>0.644172</td>\n",
       "      <td>0.669990</td>\n",
       "      <td>2608.000000</td>\n",
       "    </tr>\n",
       "    <tr>\n",
       "      <th>ISOMERASE</th>\n",
       "      <td>0.320557</td>\n",
       "      <td>0.522727</td>\n",
       "      <td>0.397408</td>\n",
       "      <td>352.000000</td>\n",
       "    </tr>\n",
       "    <tr>\n",
       "      <th>LIGASE</th>\n",
       "      <td>0.293069</td>\n",
       "      <td>0.482085</td>\n",
       "      <td>0.364532</td>\n",
       "      <td>307.000000</td>\n",
       "    </tr>\n",
       "    <tr>\n",
       "      <th>LYASE</th>\n",
       "      <td>0.362712</td>\n",
       "      <td>0.528830</td>\n",
       "      <td>0.430295</td>\n",
       "      <td>607.000000</td>\n",
       "    </tr>\n",
       "    <tr>\n",
       "      <th>OXYDOREDUCTASE</th>\n",
       "      <td>0.651026</td>\n",
       "      <td>0.567412</td>\n",
       "      <td>0.606350</td>\n",
       "      <td>1565.000000</td>\n",
       "    </tr>\n",
       "    <tr>\n",
       "      <th>TRANSFERASE</th>\n",
       "      <td>0.589965</td>\n",
       "      <td>0.503941</td>\n",
       "      <td>0.543571</td>\n",
       "      <td>2030.000000</td>\n",
       "    </tr>\n",
       "    <tr>\n",
       "      <th>accuracy</th>\n",
       "      <td>0.568215</td>\n",
       "      <td>0.568215</td>\n",
       "      <td>0.568215</td>\n",
       "      <td>0.568215</td>\n",
       "    </tr>\n",
       "    <tr>\n",
       "      <th>macro avg</th>\n",
       "      <td>0.485882</td>\n",
       "      <td>0.541528</td>\n",
       "      <td>0.502024</td>\n",
       "      <td>7469.000000</td>\n",
       "    </tr>\n",
       "    <tr>\n",
       "      <th>weighted avg</th>\n",
       "      <td>0.597102</td>\n",
       "      <td>0.568215</td>\n",
       "      <td>0.577414</td>\n",
       "      <td>7469.000000</td>\n",
       "    </tr>\n",
       "  </tbody>\n",
       "</table>\n",
       "</div>"
      ],
      "text/plain": [
       "                precision    recall  f1-score      support\n",
       "HYDROLASE        0.697964  0.644172  0.669990  2608.000000\n",
       "ISOMERASE        0.320557  0.522727  0.397408   352.000000\n",
       "LIGASE           0.293069  0.482085  0.364532   307.000000\n",
       "LYASE            0.362712  0.528830  0.430295   607.000000\n",
       "OXYDOREDUCTASE   0.651026  0.567412  0.606350  1565.000000\n",
       "TRANSFERASE      0.589965  0.503941  0.543571  2030.000000\n",
       "accuracy         0.568215  0.568215  0.568215     0.568215\n",
       "macro avg        0.485882  0.541528  0.502024  7469.000000\n",
       "weighted avg     0.597102  0.568215  0.577414  7469.000000"
      ]
     },
     "execution_count": 283,
     "metadata": {},
     "output_type": "execute_result"
    }
   ],
   "source": [
    "df_svc_cr2smt"
   ]
  },
  {
   "cell_type": "code",
   "execution_count": 284,
   "metadata": {},
   "outputs": [],
   "source": [
    "def enz_type_per(dftest1):\n",
    "    labels=['Precision','Recall','F1-score']\n",
    "    x = np.arange(len(labels))  \n",
    "    width = 0.15 \n",
    "    hyd=ax.bar(x-2*width,dftest1.loc['HYDROLASE'][:3].values,width,label=dftest1.index[0])\n",
    "    oxy=ax.bar(x-width,dftest1.loc['OXYDOREDUCTASE'][:3].values,width,label=dftest1.index[4])\n",
    "    tra=ax.bar(x,dftest1.loc['TRANSFERASE'][:3].values,width,label=dftest1.index[5])\n",
    "    lya=ax.bar(x+width,dftest1.loc['LYASE'][:3].values,width,label=dftest1.index[3])\n",
    "    iso=ax.bar(x+2*width,dftest1.loc['ISOMERASE'][:3].values,width,label=dftest1.index[1])\n",
    "    lig=ax.bar(x+3*width,dftest1.loc['LIGASE'][:3].values,width,label=dftest1.index[2])\n",
    "    ax.set_ylabel('Value', fontsize=14)\n",
    "    ax.set_xticks(x)\n",
    "    ax.set_xticklabels(labels, fontsize=14)\n",
    "    ax.legend(loc=\"lower right\")\n",
    "    fig.tight_layout()\n",
    "    autolabel(hyd)\n",
    "    autolabel(iso)\n",
    "    autolabel(lig)\n",
    "    autolabel(lya)\n",
    "    autolabel(oxy)\n",
    "    autolabel(tra)\n",
    "    "
   ]
  },
  {
   "cell_type": "code",
   "execution_count": 285,
   "metadata": {},
   "outputs": [
    {
     "data": {
      "image/png": "[encoded data removed]",
      "text/plain": [
       "<Figure size 1008x576 with 1 Axes>"
      ]
     },
     "metadata": {
      "needs_background": "light"
     },
     "output_type": "display_data"
    }
   ],
   "source": [
    "fig, ax= plt.subplots(figsize=(14,8))\n",
    "ax.set_title('Perfomance Metrics by type of enzyme for SVC algorithm (Option 2)',fontsize=16)\n",
    "enz_type_per(df_svc_cr2smt)"
   ]
  },
  {
   "cell_type": "code",
   "execution_count": null,
   "metadata": {},
   "outputs": [],
   "source": []
  },
  {
   "cell_type": "code",
   "execution_count": null,
   "metadata": {},
   "outputs": [],
   "source": []
  },
  {
   "cell_type": "code",
   "execution_count": null,
   "metadata": {},
   "outputs": [],
   "source": []
  },
  {
   "cell_type": "code",
   "execution_count": null,
   "metadata": {},
   "outputs": [],
   "source": []
  }
 ],
 "metadata": {
  "kernelspec": {
   "display_name": "Python 3",
   "language": "python",
   "name": "python3"
  },
  "language_info": {
   "codemirror_mode": {
    "name": "ipython",
    "version": 3
   },
   "file_extension": ".py",
   "mimetype": "text/x-python",
   "name": "python",
   "nbconvert_exporter": "python",
   "pygments_lexer": "ipython3",
   "version": "3.8.5"
  }
 },
 "nbformat": 4,
 "nbformat_minor": 4
}
